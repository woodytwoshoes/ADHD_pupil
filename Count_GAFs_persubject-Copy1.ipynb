{
 "cells": [
  {
   "cell_type": "code",
   "execution_count": 1,
   "metadata": {},
   "outputs": [],
   "source": [
    "from fastai.vision import *"
   ]
  },
  {
   "cell_type": "code",
   "execution_count": 2,
   "metadata": {},
   "outputs": [],
   "source": [
    "path = Path('GASF')"
   ]
  },
  {
   "cell_type": "code",
   "execution_count": 3,
   "metadata": {},
   "outputs": [],
   "source": [
    "np.random.seed(42)\n",
    "tfms = [[],[]]\n",
    "fnames = get_image_files(path)\n",
    "fnames_nomeds = []\n",
    "for onefile in fnames:\n",
    "    if \"on-ADHD\" not in onefile.parts[-1]:\n",
    "        fnames_nomeds.append(onefile)\n",
    "\n"
   ]
  },
  {
   "cell_type": "code",
   "execution_count": 25,
   "metadata": {},
   "outputs": [
    {
     "data": {
      "text/plain": [
       "0.734125"
      ]
     },
     "execution_count": 25,
     "metadata": {},
     "output_type": "execute_result"
    }
   ],
   "source": [
    "len(fnames_nomeds)/(160*50)"
   ]
  },
  {
   "cell_type": "code",
   "execution_count": 4,
   "metadata": {},
   "outputs": [],
   "source": [
    "def get_float_labels(y):\n",
    "    label = ((y.parts[-1].split('_')[-1]).split('.')[0])\n",
    "    return label"
   ]
  },
  {
   "cell_type": "code",
   "execution_count": 5,
   "metadata": {},
   "outputs": [],
   "source": [
    "def get_subject_label(y):\n",
    "    label = ((y.parts[-1].split('_')[-3]).split('.')[0])\n",
    "    return label"
   ]
  },
  {
   "cell_type": "code",
   "execution_count": 6,
   "metadata": {},
   "outputs": [],
   "source": [
    "def get_subject_trial(y):\n",
    "    label = ((y.parts[-1].split('_')[-2]).split('.')[0])\n",
    "    return label"
   ]
  },
  {
   "cell_type": "code",
   "execution_count": 7,
   "metadata": {},
   "outputs": [],
   "source": [
    "def collectpathsofsubject(n):\n",
    "    subjectpaths = []\n",
    "    for fname in fnames_nomeds:\n",
    "        if get_subject_label(fname) == str(n):\n",
    "            subjectpaths.append(fname)\n",
    "    return subjectpaths\n",
    "        "
   ]
  },
  {
   "cell_type": "code",
   "execution_count": 8,
   "metadata": {},
   "outputs": [],
   "source": [
    "subjectlist_nomeds = [1,2,3,4,5,6,7,8,9,10,11,12,13,14,15,16,17,18,19,20,21,22,23,24,\\\n",
    "                      25,26,27,28,46,47,48,49,50,51,52,53,54,55,56,57,58,59,60,61,62,63,64,65,66,67]"
   ]
  },
  {
   "cell_type": "code",
   "execution_count": 11,
   "metadata": {},
   "outputs": [],
   "source": [
    "subject_list_real = []\n",
    "for subject in subjectlist_nomeds:\n",
    "    if int(subject)>28:\n",
    "        subject_list_real.append(int(subject)-17)\n",
    "    else:\n",
    "        subject_list_real.append(int(subject))\n",
    "        "
   ]
  },
  {
   "cell_type": "code",
   "execution_count": 12,
   "metadata": {},
   "outputs": [
    {
     "data": {
      "text/plain": [
       "[1,\n",
       " 2,\n",
       " 3,\n",
       " 4,\n",
       " 5,\n",
       " 6,\n",
       " 7,\n",
       " 8,\n",
       " 9,\n",
       " 10,\n",
       " 11,\n",
       " 12,\n",
       " 13,\n",
       " 14,\n",
       " 15,\n",
       " 16,\n",
       " 17,\n",
       " 18,\n",
       " 19,\n",
       " 20,\n",
       " 21,\n",
       " 22,\n",
       " 23,\n",
       " 24,\n",
       " 25,\n",
       " 26,\n",
       " 27,\n",
       " 28,\n",
       " 29,\n",
       " 30,\n",
       " 31,\n",
       " 32,\n",
       " 33,\n",
       " 34,\n",
       " 35,\n",
       " 36,\n",
       " 37,\n",
       " 38,\n",
       " 39,\n",
       " 40,\n",
       " 41,\n",
       " 42,\n",
       " 43,\n",
       " 44,\n",
       " 45,\n",
       " 46,\n",
       " 47,\n",
       " 48,\n",
       " 49,\n",
       " 50]"
      ]
     },
     "execution_count": 12,
     "metadata": {},
     "output_type": "execute_result"
    }
   ],
   "source": [
    "subject_list_real"
   ]
  },
  {
   "cell_type": "code",
   "execution_count": 10,
   "metadata": {},
   "outputs": [
    {
     "data": {
      "text/plain": [
       "129"
      ]
     },
     "execution_count": 10,
     "metadata": {},
     "output_type": "execute_result"
    }
   ],
   "source": [
    "len(collectpathsofsubject(1))"
   ]
  },
  {
   "cell_type": "code",
   "execution_count": 19,
   "metadata": {},
   "outputs": [],
   "source": [
    "lengths_list = []\n",
    "labels_list = []\n",
    "for subject in subjectlist_nomeds:\n",
    "    length = len(collectpathsofsubject(subject))\n",
    "    lengths_list.append(length)\n",
    "    label = get_float_labels(collectpathsofsubject(subject)[0])\n",
    "    labels_list.append(label)"
   ]
  },
  {
   "cell_type": "code",
   "execution_count": 20,
   "metadata": {},
   "outputs": [
    {
     "data": {
      "text/plain": [
       "['off-ADHD',\n",
       " 'off-ADHD',\n",
       " 'off-ADHD',\n",
       " 'off-ADHD',\n",
       " 'off-ADHD',\n",
       " 'off-ADHD',\n",
       " 'off-ADHD',\n",
       " 'off-ADHD',\n",
       " 'off-ADHD',\n",
       " 'off-ADHD',\n",
       " 'off-ADHD',\n",
       " 'off-ADHD',\n",
       " 'off-ADHD',\n",
       " 'off-ADHD',\n",
       " 'off-ADHD',\n",
       " 'off-ADHD',\n",
       " 'off-ADHD',\n",
       " 'off-ADHD',\n",
       " 'off-ADHD',\n",
       " 'off-ADHD',\n",
       " 'off-ADHD',\n",
       " 'off-ADHD',\n",
       " 'off-ADHD',\n",
       " 'off-ADHD',\n",
       " 'off-ADHD',\n",
       " 'off-ADHD',\n",
       " 'off-ADHD',\n",
       " 'off-ADHD',\n",
       " 'Ctrl',\n",
       " 'Ctrl',\n",
       " 'Ctrl',\n",
       " 'Ctrl',\n",
       " 'Ctrl',\n",
       " 'Ctrl',\n",
       " 'Ctrl',\n",
       " 'Ctrl',\n",
       " 'Ctrl',\n",
       " 'Ctrl',\n",
       " 'Ctrl',\n",
       " 'Ctrl',\n",
       " 'Ctrl',\n",
       " 'Ctrl',\n",
       " 'Ctrl',\n",
       " 'Ctrl',\n",
       " 'Ctrl',\n",
       " 'Ctrl',\n",
       " 'Ctrl',\n",
       " 'Ctrl',\n",
       " 'Ctrl',\n",
       " 'Ctrl']"
      ]
     },
     "execution_count": 20,
     "metadata": {},
     "output_type": "execute_result"
    }
   ],
   "source": [
    "labels_list"
   ]
  },
  {
   "cell_type": "code",
   "execution_count": 14,
   "metadata": {},
   "outputs": [
    {
     "data": {
      "text/plain": [
       "[129,\n",
       " 110,\n",
       " 102,\n",
       " 87,\n",
       " 144,\n",
       " 89,\n",
       " 118,\n",
       " 103,\n",
       " 127,\n",
       " 99,\n",
       " 105,\n",
       " 131,\n",
       " 81,\n",
       " 25,\n",
       " 141,\n",
       " 136,\n",
       " 123,\n",
       " 128,\n",
       " 131,\n",
       " 143,\n",
       " 101,\n",
       " 81,\n",
       " 117,\n",
       " 128,\n",
       " 130,\n",
       " 141,\n",
       " 49,\n",
       " 134,\n",
       " 124,\n",
       " 137,\n",
       " 134,\n",
       " 139,\n",
       " 144,\n",
       " 140,\n",
       " 5,\n",
       " 138,\n",
       " 138,\n",
       " 139,\n",
       " 146,\n",
       " 129,\n",
       " 143,\n",
       " 143,\n",
       " 130,\n",
       " 132,\n",
       " 1,\n",
       " 140,\n",
       " 125,\n",
       " 143,\n",
       " 132,\n",
       " 138]"
      ]
     },
     "execution_count": 14,
     "metadata": {},
     "output_type": "execute_result"
    }
   ],
   "source": [
    "lengths_list"
   ]
  },
  {
   "cell_type": "code",
   "execution_count": 21,
   "metadata": {},
   "outputs": [],
   "source": [
    "from pandas import DataFrame\n",
    "df = DataFrame({'Subjects': subject_list_real, 'Class': labels_list, 'Number of GASFs':lengths_list})\n"
   ]
  },
  {
   "cell_type": "code",
   "execution_count": 22,
   "metadata": {},
   "outputs": [
    {
     "data": {
      "text/html": [
       "<div>\n",
       "<style scoped>\n",
       "    .dataframe tbody tr th:only-of-type {\n",
       "        vertical-align: middle;\n",
       "    }\n",
       "\n",
       "    .dataframe tbody tr th {\n",
       "        vertical-align: top;\n",
       "    }\n",
       "\n",
       "    .dataframe thead th {\n",
       "        text-align: right;\n",
       "    }\n",
       "</style>\n",
       "<table border=\"1\" class=\"dataframe\">\n",
       "  <thead>\n",
       "    <tr style=\"text-align: right;\">\n",
       "      <th></th>\n",
       "      <th>Subjects</th>\n",
       "      <th>Class</th>\n",
       "      <th>Number of GASFs</th>\n",
       "    </tr>\n",
       "  </thead>\n",
       "  <tbody>\n",
       "    <tr>\n",
       "      <th>0</th>\n",
       "      <td>1</td>\n",
       "      <td>off-ADHD</td>\n",
       "      <td>129</td>\n",
       "    </tr>\n",
       "    <tr>\n",
       "      <th>1</th>\n",
       "      <td>2</td>\n",
       "      <td>off-ADHD</td>\n",
       "      <td>110</td>\n",
       "    </tr>\n",
       "    <tr>\n",
       "      <th>2</th>\n",
       "      <td>3</td>\n",
       "      <td>off-ADHD</td>\n",
       "      <td>102</td>\n",
       "    </tr>\n",
       "    <tr>\n",
       "      <th>3</th>\n",
       "      <td>4</td>\n",
       "      <td>off-ADHD</td>\n",
       "      <td>87</td>\n",
       "    </tr>\n",
       "    <tr>\n",
       "      <th>4</th>\n",
       "      <td>5</td>\n",
       "      <td>off-ADHD</td>\n",
       "      <td>144</td>\n",
       "    </tr>\n",
       "    <tr>\n",
       "      <th>5</th>\n",
       "      <td>6</td>\n",
       "      <td>off-ADHD</td>\n",
       "      <td>89</td>\n",
       "    </tr>\n",
       "    <tr>\n",
       "      <th>6</th>\n",
       "      <td>7</td>\n",
       "      <td>off-ADHD</td>\n",
       "      <td>118</td>\n",
       "    </tr>\n",
       "    <tr>\n",
       "      <th>7</th>\n",
       "      <td>8</td>\n",
       "      <td>off-ADHD</td>\n",
       "      <td>103</td>\n",
       "    </tr>\n",
       "    <tr>\n",
       "      <th>8</th>\n",
       "      <td>9</td>\n",
       "      <td>off-ADHD</td>\n",
       "      <td>127</td>\n",
       "    </tr>\n",
       "    <tr>\n",
       "      <th>9</th>\n",
       "      <td>10</td>\n",
       "      <td>off-ADHD</td>\n",
       "      <td>99</td>\n",
       "    </tr>\n",
       "    <tr>\n",
       "      <th>10</th>\n",
       "      <td>11</td>\n",
       "      <td>off-ADHD</td>\n",
       "      <td>105</td>\n",
       "    </tr>\n",
       "    <tr>\n",
       "      <th>11</th>\n",
       "      <td>12</td>\n",
       "      <td>off-ADHD</td>\n",
       "      <td>131</td>\n",
       "    </tr>\n",
       "    <tr>\n",
       "      <th>12</th>\n",
       "      <td>13</td>\n",
       "      <td>off-ADHD</td>\n",
       "      <td>81</td>\n",
       "    </tr>\n",
       "    <tr>\n",
       "      <th>13</th>\n",
       "      <td>14</td>\n",
       "      <td>off-ADHD</td>\n",
       "      <td>25</td>\n",
       "    </tr>\n",
       "    <tr>\n",
       "      <th>14</th>\n",
       "      <td>15</td>\n",
       "      <td>off-ADHD</td>\n",
       "      <td>141</td>\n",
       "    </tr>\n",
       "    <tr>\n",
       "      <th>15</th>\n",
       "      <td>16</td>\n",
       "      <td>off-ADHD</td>\n",
       "      <td>136</td>\n",
       "    </tr>\n",
       "    <tr>\n",
       "      <th>16</th>\n",
       "      <td>17</td>\n",
       "      <td>off-ADHD</td>\n",
       "      <td>123</td>\n",
       "    </tr>\n",
       "    <tr>\n",
       "      <th>17</th>\n",
       "      <td>18</td>\n",
       "      <td>off-ADHD</td>\n",
       "      <td>128</td>\n",
       "    </tr>\n",
       "    <tr>\n",
       "      <th>18</th>\n",
       "      <td>19</td>\n",
       "      <td>off-ADHD</td>\n",
       "      <td>131</td>\n",
       "    </tr>\n",
       "    <tr>\n",
       "      <th>19</th>\n",
       "      <td>20</td>\n",
       "      <td>off-ADHD</td>\n",
       "      <td>143</td>\n",
       "    </tr>\n",
       "    <tr>\n",
       "      <th>20</th>\n",
       "      <td>21</td>\n",
       "      <td>off-ADHD</td>\n",
       "      <td>101</td>\n",
       "    </tr>\n",
       "    <tr>\n",
       "      <th>21</th>\n",
       "      <td>22</td>\n",
       "      <td>off-ADHD</td>\n",
       "      <td>81</td>\n",
       "    </tr>\n",
       "    <tr>\n",
       "      <th>22</th>\n",
       "      <td>23</td>\n",
       "      <td>off-ADHD</td>\n",
       "      <td>117</td>\n",
       "    </tr>\n",
       "    <tr>\n",
       "      <th>23</th>\n",
       "      <td>24</td>\n",
       "      <td>off-ADHD</td>\n",
       "      <td>128</td>\n",
       "    </tr>\n",
       "    <tr>\n",
       "      <th>24</th>\n",
       "      <td>25</td>\n",
       "      <td>off-ADHD</td>\n",
       "      <td>130</td>\n",
       "    </tr>\n",
       "    <tr>\n",
       "      <th>25</th>\n",
       "      <td>26</td>\n",
       "      <td>off-ADHD</td>\n",
       "      <td>141</td>\n",
       "    </tr>\n",
       "    <tr>\n",
       "      <th>26</th>\n",
       "      <td>27</td>\n",
       "      <td>off-ADHD</td>\n",
       "      <td>49</td>\n",
       "    </tr>\n",
       "    <tr>\n",
       "      <th>27</th>\n",
       "      <td>28</td>\n",
       "      <td>off-ADHD</td>\n",
       "      <td>134</td>\n",
       "    </tr>\n",
       "    <tr>\n",
       "      <th>28</th>\n",
       "      <td>29</td>\n",
       "      <td>Ctrl</td>\n",
       "      <td>124</td>\n",
       "    </tr>\n",
       "    <tr>\n",
       "      <th>29</th>\n",
       "      <td>30</td>\n",
       "      <td>Ctrl</td>\n",
       "      <td>137</td>\n",
       "    </tr>\n",
       "    <tr>\n",
       "      <th>30</th>\n",
       "      <td>31</td>\n",
       "      <td>Ctrl</td>\n",
       "      <td>134</td>\n",
       "    </tr>\n",
       "    <tr>\n",
       "      <th>31</th>\n",
       "      <td>32</td>\n",
       "      <td>Ctrl</td>\n",
       "      <td>139</td>\n",
       "    </tr>\n",
       "    <tr>\n",
       "      <th>32</th>\n",
       "      <td>33</td>\n",
       "      <td>Ctrl</td>\n",
       "      <td>144</td>\n",
       "    </tr>\n",
       "    <tr>\n",
       "      <th>33</th>\n",
       "      <td>34</td>\n",
       "      <td>Ctrl</td>\n",
       "      <td>140</td>\n",
       "    </tr>\n",
       "    <tr>\n",
       "      <th>34</th>\n",
       "      <td>35</td>\n",
       "      <td>Ctrl</td>\n",
       "      <td>5</td>\n",
       "    </tr>\n",
       "    <tr>\n",
       "      <th>35</th>\n",
       "      <td>36</td>\n",
       "      <td>Ctrl</td>\n",
       "      <td>138</td>\n",
       "    </tr>\n",
       "    <tr>\n",
       "      <th>36</th>\n",
       "      <td>37</td>\n",
       "      <td>Ctrl</td>\n",
       "      <td>138</td>\n",
       "    </tr>\n",
       "    <tr>\n",
       "      <th>37</th>\n",
       "      <td>38</td>\n",
       "      <td>Ctrl</td>\n",
       "      <td>139</td>\n",
       "    </tr>\n",
       "    <tr>\n",
       "      <th>38</th>\n",
       "      <td>39</td>\n",
       "      <td>Ctrl</td>\n",
       "      <td>146</td>\n",
       "    </tr>\n",
       "    <tr>\n",
       "      <th>39</th>\n",
       "      <td>40</td>\n",
       "      <td>Ctrl</td>\n",
       "      <td>129</td>\n",
       "    </tr>\n",
       "    <tr>\n",
       "      <th>40</th>\n",
       "      <td>41</td>\n",
       "      <td>Ctrl</td>\n",
       "      <td>143</td>\n",
       "    </tr>\n",
       "    <tr>\n",
       "      <th>41</th>\n",
       "      <td>42</td>\n",
       "      <td>Ctrl</td>\n",
       "      <td>143</td>\n",
       "    </tr>\n",
       "    <tr>\n",
       "      <th>42</th>\n",
       "      <td>43</td>\n",
       "      <td>Ctrl</td>\n",
       "      <td>130</td>\n",
       "    </tr>\n",
       "    <tr>\n",
       "      <th>43</th>\n",
       "      <td>44</td>\n",
       "      <td>Ctrl</td>\n",
       "      <td>132</td>\n",
       "    </tr>\n",
       "    <tr>\n",
       "      <th>44</th>\n",
       "      <td>45</td>\n",
       "      <td>Ctrl</td>\n",
       "      <td>1</td>\n",
       "    </tr>\n",
       "    <tr>\n",
       "      <th>45</th>\n",
       "      <td>46</td>\n",
       "      <td>Ctrl</td>\n",
       "      <td>140</td>\n",
       "    </tr>\n",
       "    <tr>\n",
       "      <th>46</th>\n",
       "      <td>47</td>\n",
       "      <td>Ctrl</td>\n",
       "      <td>125</td>\n",
       "    </tr>\n",
       "    <tr>\n",
       "      <th>47</th>\n",
       "      <td>48</td>\n",
       "      <td>Ctrl</td>\n",
       "      <td>143</td>\n",
       "    </tr>\n",
       "    <tr>\n",
       "      <th>48</th>\n",
       "      <td>49</td>\n",
       "      <td>Ctrl</td>\n",
       "      <td>132</td>\n",
       "    </tr>\n",
       "    <tr>\n",
       "      <th>49</th>\n",
       "      <td>50</td>\n",
       "      <td>Ctrl</td>\n",
       "      <td>138</td>\n",
       "    </tr>\n",
       "  </tbody>\n",
       "</table>\n",
       "</div>"
      ],
      "text/plain": [
       "    Subjects     Class  Number of GASFs\n",
       "0          1  off-ADHD              129\n",
       "1          2  off-ADHD              110\n",
       "2          3  off-ADHD              102\n",
       "3          4  off-ADHD               87\n",
       "4          5  off-ADHD              144\n",
       "5          6  off-ADHD               89\n",
       "6          7  off-ADHD              118\n",
       "7          8  off-ADHD              103\n",
       "8          9  off-ADHD              127\n",
       "9         10  off-ADHD               99\n",
       "10        11  off-ADHD              105\n",
       "11        12  off-ADHD              131\n",
       "12        13  off-ADHD               81\n",
       "13        14  off-ADHD               25\n",
       "14        15  off-ADHD              141\n",
       "15        16  off-ADHD              136\n",
       "16        17  off-ADHD              123\n",
       "17        18  off-ADHD              128\n",
       "18        19  off-ADHD              131\n",
       "19        20  off-ADHD              143\n",
       "20        21  off-ADHD              101\n",
       "21        22  off-ADHD               81\n",
       "22        23  off-ADHD              117\n",
       "23        24  off-ADHD              128\n",
       "24        25  off-ADHD              130\n",
       "25        26  off-ADHD              141\n",
       "26        27  off-ADHD               49\n",
       "27        28  off-ADHD              134\n",
       "28        29      Ctrl              124\n",
       "29        30      Ctrl              137\n",
       "30        31      Ctrl              134\n",
       "31        32      Ctrl              139\n",
       "32        33      Ctrl              144\n",
       "33        34      Ctrl              140\n",
       "34        35      Ctrl                5\n",
       "35        36      Ctrl              138\n",
       "36        37      Ctrl              138\n",
       "37        38      Ctrl              139\n",
       "38        39      Ctrl              146\n",
       "39        40      Ctrl              129\n",
       "40        41      Ctrl              143\n",
       "41        42      Ctrl              143\n",
       "42        43      Ctrl              130\n",
       "43        44      Ctrl              132\n",
       "44        45      Ctrl                1\n",
       "45        46      Ctrl              140\n",
       "46        47      Ctrl              125\n",
       "47        48      Ctrl              143\n",
       "48        49      Ctrl              132\n",
       "49        50      Ctrl              138"
      ]
     },
     "execution_count": 22,
     "metadata": {},
     "output_type": "execute_result"
    }
   ],
   "source": [
    "df"
   ]
  },
  {
   "cell_type": "code",
   "execution_count": 23,
   "metadata": {},
   "outputs": [],
   "source": [
    "df.to_excel('Number of GASFs available per subject.xlsx', sheet_name='sheet1', index=False)"
   ]
  },
  {
   "cell_type": "code",
   "execution_count": 13,
   "metadata": {},
   "outputs": [],
   "source": [
    "data = (ImageList(fnames_nomeds)\n",
    "        .split_by_rand_pct(0.2)\n",
    "        .label_from_func(get_float_labels)\n",
    "        .transform(tfms, size=224)\n",
    "        .databunch())\n",
    "learn = cnn_learner(data, models.resnet50, metrics=error_rate)\n",
    "learn.load('Repurposed_Classifier_CNN_pupil_ADHD_2class_ctrl_offADHD_validspecific_23_13_24_48_59_55');"
   ]
  },
  {
   "cell_type": "code",
   "execution_count": 63,
   "metadata": {},
   "outputs": [
    {
     "data": {
      "text/plain": [
       "Category off-ADHD"
      ]
     },
     "execution_count": 63,
     "metadata": {},
     "output_type": "execute_result"
    }
   ],
   "source": [
    "img = open_image(child_1[0])\n",
    "img\n",
    "learn.predict(img)[0]"
   ]
  },
  {
   "cell_type": "code",
   "execution_count": 65,
   "metadata": {},
   "outputs": [
    {
     "data": {
      "text/plain": [
       "'off-ADHD'"
      ]
     },
     "execution_count": 65,
     "metadata": {},
     "output_type": "execute_result"
    }
   ],
   "source": [
    "str(learn.predict(img)[0])"
   ]
  },
  {
   "cell_type": "code",
   "execution_count": 8,
   "metadata": {},
   "outputs": [],
   "source": [
    "def givepredictionslistfromchildpaths(childpaths):\n",
    "    predictionslist = []\n",
    "    for path in childpaths:\n",
    "        img = open_image(path)\n",
    "        prediction = str(learn.predict(img)[0])\n",
    "        predictionslist.append(prediction)\n",
    "    return predictionslist"
   ]
  },
  {
   "cell_type": "code",
   "execution_count": 74,
   "metadata": {},
   "outputs": [],
   "source": [
    "predictionslist = givepredictionslistfromchildpaths(child_1)"
   ]
  },
  {
   "cell_type": "code",
   "execution_count": 9,
   "metadata": {},
   "outputs": [],
   "source": [
    "def most_frequent(List): \n",
    "    return max(set(List), key = List.count) "
   ]
  },
  {
   "cell_type": "code",
   "execution_count": 77,
   "metadata": {},
   "outputs": [
    {
     "data": {
      "text/plain": [
       "'off-ADHD'"
      ]
     },
     "execution_count": 77,
     "metadata": {},
     "output_type": "execute_result"
    }
   ],
   "source": [
    "most_frequent(predictionslist)"
   ]
  },
  {
   "cell_type": "code",
   "execution_count": 81,
   "metadata": {},
   "outputs": [],
   "source": [
    "subjectlist_nomeds = [1,2,3,4,5,6,7,8,9,10,11,12,13,14,15,16,17,18,19,20,21,22,23,24,\\\n",
    "                      25,26,27,28,46,47,48,49,50,51,52,53,54,55,56,57,58,59,60,61,62,63,64,65,66,67]"
   ]
  },
  {
   "cell_type": "code",
   "execution_count": 10,
   "metadata": {},
   "outputs": [],
   "source": [
    "validsubjects = [23, 13, 24, 48, 59, 55]"
   ]
  },
  {
   "cell_type": "markdown",
   "metadata": {},
   "source": [
    "n = 46\n",
    "child_n = collectpathsofsubject(n)\n",
    "label_n = get_float_labels(child_n[0])\n",
    "predictionslist_n = givepredictionslistfromchildpaths(child_n)\n",
    "most_frequent_classification = most_frequent(predictionslist_n)\n",
    "ratio_most_freq_to_all_preds = predictionslist_n.count(most_frequent_classification)/len(predictionslist_n)\n",
    "print(\"subject: \" +str(n),\"label:\" + str(label_n),\"most_frequent_classification:\"+str(most_frequent_classification),\"ratio:\"+str(ratio_most_freq_to_all_preds))\n",
    "real_pred_tuple = (label_n, most_frequent_classification)"
   ]
  },
  {
   "cell_type": "code",
   "execution_count": 15,
   "metadata": {},
   "outputs": [],
   "source": [
    "def generate_real_pred_tuple_list(validsubjects):\n",
    "    real_pred_tuple_list = []\n",
    "    for n in validsubjects:\n",
    "        child_n = collectpathsofsubject(n)\n",
    "        label_n = get_float_labels(child_n[0])\n",
    "        predictionslist_n = givepredictionslistfromchildpaths(child_n)\n",
    "        most_frequent_classification = most_frequent(predictionslist_n)\n",
    "        ratio_ADHD_to_all_preds = predictionslist_n.count('off-ADHD')/len(predictionslist_n)\n",
    "        #print(\"subject: \" +str(n),\"label:\" + str(label_n),\"most_frequent_classification:\"+str(most_frequent_classification),\"ratio:\"+str(ratio_most_freq_to_all_preds))\n",
    "        real_pred_tuple = (n,label_n, most_frequent_classification,ratio_ADHD_to_all_preds)\n",
    "        real_pred_tuple_list.append(real_pred_tuple)\n",
    "    return real_pred_tuple_list"
   ]
  },
  {
   "cell_type": "code",
   "execution_count": 16,
   "metadata": {},
   "outputs": [
    {
     "data": {
      "text/plain": [
       "[(23, 'off-ADHD', 'off-ADHD', 0.8205128205128205),\n",
       " (13, 'off-ADHD', 'off-ADHD', 0.7654320987654321),\n",
       " (24, 'off-ADHD', 'off-ADHD', 0.6953125),\n",
       " (48, 'Ctrl', 'off-ADHD', 0.5223880597014925),\n",
       " (59, 'Ctrl', 'Ctrl', 0.4755244755244755),\n",
       " (55, 'Ctrl', 'Ctrl', 0.2589928057553957)]"
      ]
     },
     "execution_count": 16,
     "metadata": {},
     "output_type": "execute_result"
    }
   ],
   "source": [
    "real_vs_pred_tuple_list = generate_real_pred_tuple_list(validsubjects)\n",
    "real_vs_pred_tuple_list"
   ]
  },
  {
   "cell_type": "code",
   "execution_count": 108,
   "metadata": {},
   "outputs": [
    {
     "data": {
      "text/plain": [
       "list"
      ]
     },
     "execution_count": 108,
     "metadata": {},
     "output_type": "execute_result"
    }
   ],
   "source": [
    "type(real_vs_pred_tuple_list)"
   ]
  },
  {
   "cell_type": "code",
   "execution_count": 104,
   "metadata": {},
   "outputs": [],
   "source": [
    "import csv\n"
   ]
  },
  {
   "cell_type": "code",
   "execution_count": 109,
   "metadata": {},
   "outputs": [],
   "source": [
    "\n",
    "with open('Accuracy_2class_nomedsADHD_Ctrl/real_vs_pred_tuple_list', 'w') as myfile:\n",
    "    wr = csv.writer(myfile, quoting=csv.QUOTE_ALL)\n",
    "    wr.writerow(real_vs_pred_tuple_list)"
   ]
  },
  {
   "cell_type": "code",
   "execution_count": 111,
   "metadata": {},
   "outputs": [
    {
     "data": {
      "text/plain": [
       "(Image (3, 224, 224), Category off-ADHD)"
      ]
     },
     "execution_count": 111,
     "metadata": {},
     "output_type": "execute_result"
    }
   ],
   "source": []
  },
  {
   "cell_type": "code",
   "execution_count": null,
   "metadata": {},
   "outputs": [],
   "source": []
  }
 ],
 "metadata": {
  "kernelspec": {
   "display_name": "pytorch_fastai",
   "language": "python",
   "name": "python3"
  },
  "language_info": {
   "codemirror_mode": {
    "name": "ipython",
    "version": 3
   },
   "file_extension": ".py",
   "mimetype": "text/x-python",
   "name": "python",
   "nbconvert_exporter": "python",
   "pygments_lexer": "ipython3",
   "version": "3.7.1"
  },
  "varInspector": {
   "cols": {
    "lenName": 16,
    "lenType": 16,
    "lenVar": 40
   },
   "kernels_config": {
    "python": {
     "delete_cmd_postfix": "",
     "delete_cmd_prefix": "del ",
     "library": "var_list.py",
     "varRefreshCmd": "print(var_dic_list())"
    },
    "r": {
     "delete_cmd_postfix": ") ",
     "delete_cmd_prefix": "rm(",
     "library": "var_list.r",
     "varRefreshCmd": "cat(var_dic_list()) "
    }
   },
   "types_to_exclude": [
    "module",
    "function",
    "builtin_function_or_method",
    "instance",
    "_Feature"
   ],
   "window_display": false
  }
 },
 "nbformat": 4,
 "nbformat_minor": 2
}
