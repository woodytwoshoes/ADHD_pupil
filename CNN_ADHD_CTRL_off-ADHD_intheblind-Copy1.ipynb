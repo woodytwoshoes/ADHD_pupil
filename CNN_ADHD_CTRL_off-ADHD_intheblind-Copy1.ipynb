{
 "cells": [
  {
   "cell_type": "code",
   "execution_count": 1,
   "metadata": {},
   "outputs": [],
   "source": [
    "from fastai.vision import *\n",
    "path = Path('GASF')\n"
   ]
  },
  {
   "cell_type": "code",
   "execution_count": 2,
   "metadata": {},
   "outputs": [],
   "source": [
    "def get_float_labels(y):\n",
    "    label = ((y.parts[-1].split('_')[-1]).split('.')[0])\n",
    "    return label"
   ]
  },
  {
   "cell_type": "code",
   "execution_count": 4,
   "metadata": {},
   "outputs": [],
   "source": [
    "def get_subject_label(y):\n",
    "    label = ((y.parts[-1].split('_')[-3]).split('.')[0])\n",
    "    return label"
   ]
  },
  {
   "cell_type": "code",
   "execution_count": 14,
   "metadata": {},
   "outputs": [],
   "source": [
    "def generate_data_withoutchild(n):\n",
    "    blinded_file_list = []\n",
    "    for fname in fnames_nomeds:\n",
    "        if int(get_subject_label(fname)) != n:\n",
    "            blinded_file_list.append(fname)\n",
    "    return blinded_file_list"
   ]
  },
  {
   "cell_type": "code",
   "execution_count": 10,
   "metadata": {},
   "outputs": [],
   "source": [
    "def collectpathsofsubject(n):\n",
    "    subjectpaths = []\n",
    "    for fname in fnames_nomeds:\n",
    "        if get_subject_label(fname) == str(n):\n",
    "            subjectpaths.append(fname)\n",
    "    return subjectpaths\n",
    "        \n",
    "\n",
    "def givepredictionslistfromchildpaths(childpaths):\n",
    "    predictionslist = []\n",
    "    for path in childpaths:\n",
    "        img = open_image(path)\n",
    "        prediction = str(learn.predict(img)[0])\n",
    "        predictionslist.append(prediction)\n",
    "    return predictionslist"
   ]
  },
  {
   "cell_type": "code",
   "execution_count": 3,
   "metadata": {},
   "outputs": [],
   "source": [
    "#generate new GASF list without on-ADHD GASFs\n",
    "\n",
    "np.random.seed(42)\n",
    "tfms = [[],[]]\n",
    "fnames = get_image_files(path)\n",
    "fnames_nomeds = []\n",
    "for onefile in fnames:\n",
    "    if \"on-ADHD\" not in onefile.parts[-1]:\n",
    "        fnames_nomeds.append(onefile)"
   ]
  },
  {
   "cell_type": "code",
   "execution_count": 31,
   "metadata": {},
   "outputs": [],
   "source": [
    "subjectlist_nomeds = [1,2,3,4,5,6,7,8,9,10,11,12,13,14,15,16,17,18,19,20,21,22,23,24,\\\n",
    "                      25,26,27,28,46,47,48,49,50,51,52,53,54,55,56,57,58,59,60,61,62,63,64,65,66,67]"
   ]
  },
  {
   "cell_type": "code",
   "execution_count": 27,
   "metadata": {},
   "outputs": [],
   "source": [
    "subject_class_ratio_tuple_list = []"
   ]
  },
  {
   "cell_type": "code",
   "execution_count": 32,
   "metadata": {},
   "outputs": [
    {
     "data": {
      "text/html": [
       "Total time: 05:51 <p><table style='width:375px; margin-bottom:10px'>\n",
       "  <tr>\n",
       "    <th>epoch</th>\n",
       "    <th>train_loss</th>\n",
       "    <th>valid_loss</th>\n",
       "    <th>error_rate</th>\n",
       "    <th>time</th>\n",
       "  </tr>\n",
       "  <tr>\n",
       "    <th>0</th>\n",
       "    <th>0.857448</th>\n",
       "    <th>0.755274</th>\n",
       "    <th>0.398084</th>\n",
       "    <th>01:27</th>\n",
       "  </tr>\n",
       "  <tr>\n",
       "    <th>1</th>\n",
       "    <th>0.676766</th>\n",
       "    <th>0.629451</th>\n",
       "    <th>0.344077</th>\n",
       "    <th>01:28</th>\n",
       "  </tr>\n",
       "  <tr>\n",
       "    <th>2</th>\n",
       "    <th>0.567337</th>\n",
       "    <th>0.637458</th>\n",
       "    <th>0.359756</th>\n",
       "    <th>01:28</th>\n",
       "  </tr>\n",
       "  <tr>\n",
       "    <th>3</th>\n",
       "    <th>0.478339</th>\n",
       "    <th>0.644816</th>\n",
       "    <th>0.351916</th>\n",
       "    <th>01:28</th>\n",
       "  </tr>\n",
       "</table>\n"
      ],
      "text/plain": [
       "<IPython.core.display.HTML object>"
      ]
     },
     "metadata": {},
     "output_type": "display_data"
    },
    {
     "data": {
      "text/html": [
       "Total time: 02:56 <p><table style='width:375px; margin-bottom:10px'>\n",
       "  <tr>\n",
       "    <th>epoch</th>\n",
       "    <th>train_loss</th>\n",
       "    <th>valid_loss</th>\n",
       "    <th>error_rate</th>\n",
       "    <th>time</th>\n",
       "  </tr>\n",
       "  <tr>\n",
       "    <th>0</th>\n",
       "    <th>0.423881</th>\n",
       "    <th>0.647392</th>\n",
       "    <th>0.351916</th>\n",
       "    <th>01:28</th>\n",
       "  </tr>\n",
       "  <tr>\n",
       "    <th>1</th>\n",
       "    <th>0.425284</th>\n",
       "    <th>0.643890</th>\n",
       "    <th>0.347561</th>\n",
       "    <th>01:27</th>\n",
       "  </tr>\n",
       "</table>\n"
      ],
      "text/plain": [
       "<IPython.core.display.HTML object>"
      ]
     },
     "metadata": {},
     "output_type": "display_data"
    },
    {
     "data": {
      "text/html": [
       "Total time: 05:59 <p><table style='width:375px; margin-bottom:10px'>\n",
       "  <tr>\n",
       "    <th>epoch</th>\n",
       "    <th>train_loss</th>\n",
       "    <th>valid_loss</th>\n",
       "    <th>error_rate</th>\n",
       "    <th>time</th>\n",
       "  </tr>\n",
       "  <tr>\n",
       "    <th>0</th>\n",
       "    <th>0.847425</th>\n",
       "    <th>0.745879</th>\n",
       "    <th>0.429688</th>\n",
       "    <th>01:29</th>\n",
       "  </tr>\n",
       "  <tr>\n",
       "    <th>1</th>\n",
       "    <th>0.670222</th>\n",
       "    <th>0.671495</th>\n",
       "    <th>0.387153</th>\n",
       "    <th>01:29</th>\n",
       "  </tr>\n",
       "  <tr>\n",
       "    <th>2</th>\n",
       "    <th>0.567732</th>\n",
       "    <th>0.675684</th>\n",
       "    <th>0.375868</th>\n",
       "    <th>01:30</th>\n",
       "  </tr>\n",
       "  <tr>\n",
       "    <th>3</th>\n",
       "    <th>0.469767</th>\n",
       "    <th>0.676614</th>\n",
       "    <th>0.363715</th>\n",
       "    <th>01:29</th>\n",
       "  </tr>\n",
       "</table>\n"
      ],
      "text/plain": [
       "<IPython.core.display.HTML object>"
      ]
     },
     "metadata": {},
     "output_type": "display_data"
    },
    {
     "data": {
      "text/html": [
       "Total time: 02:59 <p><table style='width:375px; margin-bottom:10px'>\n",
       "  <tr>\n",
       "    <th>epoch</th>\n",
       "    <th>train_loss</th>\n",
       "    <th>valid_loss</th>\n",
       "    <th>error_rate</th>\n",
       "    <th>time</th>\n",
       "  </tr>\n",
       "  <tr>\n",
       "    <th>0</th>\n",
       "    <th>0.415365</th>\n",
       "    <th>0.674287</th>\n",
       "    <th>0.374132</th>\n",
       "    <th>01:29</th>\n",
       "  </tr>\n",
       "  <tr>\n",
       "    <th>1</th>\n",
       "    <th>0.413083</th>\n",
       "    <th>0.675021</th>\n",
       "    <th>0.376736</th>\n",
       "    <th>01:29</th>\n",
       "  </tr>\n",
       "</table>\n"
      ],
      "text/plain": [
       "<IPython.core.display.HTML object>"
      ]
     },
     "metadata": {},
     "output_type": "display_data"
    },
    {
     "data": {
      "text/html": [
       "Total time: 06:00 <p><table style='width:375px; margin-bottom:10px'>\n",
       "  <tr>\n",
       "    <th>epoch</th>\n",
       "    <th>train_loss</th>\n",
       "    <th>valid_loss</th>\n",
       "    <th>error_rate</th>\n",
       "    <th>time</th>\n",
       "  </tr>\n",
       "  <tr>\n",
       "    <th>0</th>\n",
       "    <th>0.872526</th>\n",
       "    <th>0.713001</th>\n",
       "    <th>0.394281</th>\n",
       "    <th>01:32</th>\n",
       "  </tr>\n",
       "  <tr>\n",
       "    <th>1</th>\n",
       "    <th>0.682208</th>\n",
       "    <th>0.670962</th>\n",
       "    <th>0.389081</th>\n",
       "    <th>01:29</th>\n",
       "  </tr>\n",
       "  <tr>\n",
       "    <th>2</th>\n",
       "    <th>0.587446</th>\n",
       "    <th>0.679522</th>\n",
       "    <th>0.389081</th>\n",
       "    <th>01:29</th>\n",
       "  </tr>\n",
       "  <tr>\n",
       "    <th>3</th>\n",
       "    <th>0.477307</th>\n",
       "    <th>0.670794</th>\n",
       "    <th>0.380416</th>\n",
       "    <th>01:29</th>\n",
       "  </tr>\n",
       "</table>\n"
      ],
      "text/plain": [
       "<IPython.core.display.HTML object>"
      ]
     },
     "metadata": {},
     "output_type": "display_data"
    },
    {
     "data": {
      "text/html": [
       "Total time: 02:59 <p><table style='width:375px; margin-bottom:10px'>\n",
       "  <tr>\n",
       "    <th>epoch</th>\n",
       "    <th>train_loss</th>\n",
       "    <th>valid_loss</th>\n",
       "    <th>error_rate</th>\n",
       "    <th>time</th>\n",
       "  </tr>\n",
       "  <tr>\n",
       "    <th>0</th>\n",
       "    <th>0.423419</th>\n",
       "    <th>0.670188</th>\n",
       "    <th>0.376950</th>\n",
       "    <th>01:29</th>\n",
       "  </tr>\n",
       "  <tr>\n",
       "    <th>1</th>\n",
       "    <th>0.428070</th>\n",
       "    <th>0.670261</th>\n",
       "    <th>0.383882</th>\n",
       "    <th>01:29</th>\n",
       "  </tr>\n",
       "</table>\n"
      ],
      "text/plain": [
       "<IPython.core.display.HTML object>"
      ]
     },
     "metadata": {},
     "output_type": "display_data"
    },
    {
     "data": {
      "text/html": [
       "Total time: 06:03 <p><table style='width:375px; margin-bottom:10px'>\n",
       "  <tr>\n",
       "    <th>epoch</th>\n",
       "    <th>train_loss</th>\n",
       "    <th>valid_loss</th>\n",
       "    <th>error_rate</th>\n",
       "    <th>time</th>\n",
       "  </tr>\n",
       "  <tr>\n",
       "    <th>0</th>\n",
       "    <th>0.869606</th>\n",
       "    <th>0.748137</th>\n",
       "    <th>0.430423</th>\n",
       "    <th>01:32</th>\n",
       "  </tr>\n",
       "  <tr>\n",
       "    <th>1</th>\n",
       "    <th>0.667011</th>\n",
       "    <th>0.673705</th>\n",
       "    <th>0.377701</th>\n",
       "    <th>01:30</th>\n",
       "  </tr>\n",
       "  <tr>\n",
       "    <th>2</th>\n",
       "    <th>0.554910</th>\n",
       "    <th>0.703592</th>\n",
       "    <th>0.373379</th>\n",
       "    <th>01:30</th>\n",
       "  </tr>\n",
       "  <tr>\n",
       "    <th>3</th>\n",
       "    <th>0.466472</th>\n",
       "    <th>0.698997</th>\n",
       "    <th>0.375108</th>\n",
       "    <th>01:29</th>\n",
       "  </tr>\n",
       "</table>\n"
      ],
      "text/plain": [
       "<IPython.core.display.HTML object>"
      ]
     },
     "metadata": {},
     "output_type": "display_data"
    },
    {
     "data": {
      "text/html": [
       "Total time: 03:01 <p><table style='width:375px; margin-bottom:10px'>\n",
       "  <tr>\n",
       "    <th>epoch</th>\n",
       "    <th>train_loss</th>\n",
       "    <th>valid_loss</th>\n",
       "    <th>error_rate</th>\n",
       "    <th>time</th>\n",
       "  </tr>\n",
       "  <tr>\n",
       "    <th>0</th>\n",
       "    <th>0.409819</th>\n",
       "    <th>0.702306</th>\n",
       "    <th>0.373379</th>\n",
       "    <th>01:30</th>\n",
       "  </tr>\n",
       "  <tr>\n",
       "    <th>1</th>\n",
       "    <th>0.404773</th>\n",
       "    <th>0.699362</th>\n",
       "    <th>0.375108</th>\n",
       "    <th>01:30</th>\n",
       "  </tr>\n",
       "</table>\n"
      ],
      "text/plain": [
       "<IPython.core.display.HTML object>"
      ]
     },
     "metadata": {},
     "output_type": "display_data"
    },
    {
     "data": {
      "text/html": [
       "Total time: 06:02 <p><table style='width:375px; margin-bottom:10px'>\n",
       "  <tr>\n",
       "    <th>epoch</th>\n",
       "    <th>train_loss</th>\n",
       "    <th>valid_loss</th>\n",
       "    <th>error_rate</th>\n",
       "    <th>time</th>\n",
       "  </tr>\n",
       "  <tr>\n",
       "    <th>0</th>\n",
       "    <th>0.877979</th>\n",
       "    <th>0.801830</th>\n",
       "    <th>0.407860</th>\n",
       "    <th>01:33</th>\n",
       "  </tr>\n",
       "  <tr>\n",
       "    <th>1</th>\n",
       "    <th>0.680841</th>\n",
       "    <th>0.661036</th>\n",
       "    <th>0.367686</th>\n",
       "    <th>01:29</th>\n",
       "  </tr>\n",
       "  <tr>\n",
       "    <th>2</th>\n",
       "    <th>0.559339</th>\n",
       "    <th>0.654720</th>\n",
       "    <th>0.350218</th>\n",
       "    <th>01:29</th>\n",
       "  </tr>\n",
       "  <tr>\n",
       "    <th>3</th>\n",
       "    <th>0.476995</th>\n",
       "    <th>0.653607</th>\n",
       "    <th>0.353712</th>\n",
       "    <th>01:29</th>\n",
       "  </tr>\n",
       "</table>\n"
      ],
      "text/plain": [
       "<IPython.core.display.HTML object>"
      ]
     },
     "metadata": {},
     "output_type": "display_data"
    },
    {
     "data": {
      "text/html": [
       "Total time: 02:59 <p><table style='width:375px; margin-bottom:10px'>\n",
       "  <tr>\n",
       "    <th>epoch</th>\n",
       "    <th>train_loss</th>\n",
       "    <th>valid_loss</th>\n",
       "    <th>error_rate</th>\n",
       "    <th>time</th>\n",
       "  </tr>\n",
       "  <tr>\n",
       "    <th>0</th>\n",
       "    <th>0.427380</th>\n",
       "    <th>0.651267</th>\n",
       "    <th>0.349345</th>\n",
       "    <th>01:29</th>\n",
       "  </tr>\n",
       "  <tr>\n",
       "    <th>1</th>\n",
       "    <th>0.427987</th>\n",
       "    <th>0.653870</th>\n",
       "    <th>0.351965</th>\n",
       "    <th>01:29</th>\n",
       "  </tr>\n",
       "</table>\n"
      ],
      "text/plain": [
       "<IPython.core.display.HTML object>"
      ]
     },
     "metadata": {},
     "output_type": "display_data"
    },
    {
     "data": {
      "text/html": [
       "Total time: 06:05 <p><table style='width:375px; margin-bottom:10px'>\n",
       "  <tr>\n",
       "    <th>epoch</th>\n",
       "    <th>train_loss</th>\n",
       "    <th>valid_loss</th>\n",
       "    <th>error_rate</th>\n",
       "    <th>time</th>\n",
       "  </tr>\n",
       "  <tr>\n",
       "    <th>0</th>\n",
       "    <th>0.847412</th>\n",
       "    <th>0.745837</th>\n",
       "    <th>0.397059</th>\n",
       "    <th>01:33</th>\n",
       "  </tr>\n",
       "  <tr>\n",
       "    <th>1</th>\n",
       "    <th>0.670471</th>\n",
       "    <th>0.677921</th>\n",
       "    <th>0.396194</th>\n",
       "    <th>01:30</th>\n",
       "  </tr>\n",
       "  <tr>\n",
       "    <th>2</th>\n",
       "    <th>0.559643</th>\n",
       "    <th>0.698381</th>\n",
       "    <th>0.397059</th>\n",
       "    <th>01:30</th>\n",
       "  </tr>\n",
       "  <tr>\n",
       "    <th>3</th>\n",
       "    <th>0.464146</th>\n",
       "    <th>0.692145</th>\n",
       "    <th>0.379758</th>\n",
       "    <th>01:30</th>\n",
       "  </tr>\n",
       "</table>\n"
      ],
      "text/plain": [
       "<IPython.core.display.HTML object>"
      ]
     },
     "metadata": {},
     "output_type": "display_data"
    },
    {
     "data": {
      "text/html": [
       "Total time: 03:01 <p><table style='width:375px; margin-bottom:10px'>\n",
       "  <tr>\n",
       "    <th>epoch</th>\n",
       "    <th>train_loss</th>\n",
       "    <th>valid_loss</th>\n",
       "    <th>error_rate</th>\n",
       "    <th>time</th>\n",
       "  </tr>\n",
       "  <tr>\n",
       "    <th>0</th>\n",
       "    <th>0.404227</th>\n",
       "    <th>0.690392</th>\n",
       "    <th>0.378028</th>\n",
       "    <th>01:30</th>\n",
       "  </tr>\n",
       "  <tr>\n",
       "    <th>1</th>\n",
       "    <th>0.410249</th>\n",
       "    <th>0.692047</th>\n",
       "    <th>0.380623</th>\n",
       "    <th>01:30</th>\n",
       "  </tr>\n",
       "</table>\n"
      ],
      "text/plain": [
       "<IPython.core.display.HTML object>"
      ]
     },
     "metadata": {},
     "output_type": "display_data"
    },
    {
     "data": {
      "text/html": [
       "Total time: 06:03 <p><table style='width:375px; margin-bottom:10px'>\n",
       "  <tr>\n",
       "    <th>epoch</th>\n",
       "    <th>train_loss</th>\n",
       "    <th>valid_loss</th>\n",
       "    <th>error_rate</th>\n",
       "    <th>time</th>\n",
       "  </tr>\n",
       "  <tr>\n",
       "    <th>0</th>\n",
       "    <th>0.841638</th>\n",
       "    <th>0.707075</th>\n",
       "    <th>0.387489</th>\n",
       "    <th>01:33</th>\n",
       "  </tr>\n",
       "  <tr>\n",
       "    <th>1</th>\n",
       "    <th>0.673294</th>\n",
       "    <th>0.667924</th>\n",
       "    <th>0.376195</th>\n",
       "    <th>01:29</th>\n",
       "  </tr>\n",
       "  <tr>\n",
       "    <th>2</th>\n",
       "    <th>0.567311</th>\n",
       "    <th>0.644264</th>\n",
       "    <th>0.360556</th>\n",
       "    <th>01:29</th>\n",
       "  </tr>\n",
       "  <tr>\n",
       "    <th>3</th>\n",
       "    <th>0.476025</th>\n",
       "    <th>0.650779</th>\n",
       "    <th>0.351868</th>\n",
       "    <th>01:29</th>\n",
       "  </tr>\n",
       "</table>\n"
      ],
      "text/plain": [
       "<IPython.core.display.HTML object>"
      ]
     },
     "metadata": {},
     "output_type": "display_data"
    },
    {
     "data": {
      "text/html": [
       "Total time: 02:59 <p><table style='width:375px; margin-bottom:10px'>\n",
       "  <tr>\n",
       "    <th>epoch</th>\n",
       "    <th>train_loss</th>\n",
       "    <th>valid_loss</th>\n",
       "    <th>error_rate</th>\n",
       "    <th>time</th>\n",
       "  </tr>\n",
       "  <tr>\n",
       "    <th>0</th>\n",
       "    <th>0.424707</th>\n",
       "    <th>0.649362</th>\n",
       "    <th>0.350999</th>\n",
       "    <th>01:29</th>\n",
       "  </tr>\n",
       "  <tr>\n",
       "    <th>1</th>\n",
       "    <th>0.419479</th>\n",
       "    <th>0.649781</th>\n",
       "    <th>0.352737</th>\n",
       "    <th>01:29</th>\n",
       "  </tr>\n",
       "</table>\n"
      ],
      "text/plain": [
       "<IPython.core.display.HTML object>"
      ]
     },
     "metadata": {},
     "output_type": "display_data"
    },
    {
     "data": {
      "text/html": [
       "Total time: 06:03 <p><table style='width:375px; margin-bottom:10px'>\n",
       "  <tr>\n",
       "    <th>epoch</th>\n",
       "    <th>train_loss</th>\n",
       "    <th>valid_loss</th>\n",
       "    <th>error_rate</th>\n",
       "    <th>time</th>\n",
       "  </tr>\n",
       "  <tr>\n",
       "    <th>0</th>\n",
       "    <th>0.851929</th>\n",
       "    <th>0.750577</th>\n",
       "    <th>0.394281</th>\n",
       "    <th>01:31</th>\n",
       "  </tr>\n",
       "  <tr>\n",
       "    <th>1</th>\n",
       "    <th>0.676540</th>\n",
       "    <th>0.637005</th>\n",
       "    <th>0.364818</th>\n",
       "    <th>01:30</th>\n",
       "  </tr>\n",
       "  <tr>\n",
       "    <th>2</th>\n",
       "    <th>0.569023</th>\n",
       "    <th>0.662922</th>\n",
       "    <th>0.363085</th>\n",
       "    <th>01:30</th>\n",
       "  </tr>\n",
       "  <tr>\n",
       "    <th>3</th>\n",
       "    <th>0.472149</th>\n",
       "    <th>0.662502</th>\n",
       "    <th>0.349220</th>\n",
       "    <th>01:30</th>\n",
       "  </tr>\n",
       "</table>\n"
      ],
      "text/plain": [
       "<IPython.core.display.HTML object>"
      ]
     },
     "metadata": {},
     "output_type": "display_data"
    },
    {
     "data": {
      "text/html": [
       "Total time: 02:59 <p><table style='width:375px; margin-bottom:10px'>\n",
       "  <tr>\n",
       "    <th>epoch</th>\n",
       "    <th>train_loss</th>\n",
       "    <th>valid_loss</th>\n",
       "    <th>error_rate</th>\n",
       "    <th>time</th>\n",
       "  </tr>\n",
       "  <tr>\n",
       "    <th>0</th>\n",
       "    <th>0.412964</th>\n",
       "    <th>0.661939</th>\n",
       "    <th>0.359619</th>\n",
       "    <th>01:29</th>\n",
       "  </tr>\n",
       "  <tr>\n",
       "    <th>1</th>\n",
       "    <th>0.414083</th>\n",
       "    <th>0.662661</th>\n",
       "    <th>0.350087</th>\n",
       "    <th>01:29</th>\n",
       "  </tr>\n",
       "</table>\n"
      ],
      "text/plain": [
       "<IPython.core.display.HTML object>"
      ]
     },
     "metadata": {},
     "output_type": "display_data"
    },
    {
     "data": {
      "text/html": [
       "Total time: 05:59 <p><table style='width:375px; margin-bottom:10px'>\n",
       "  <tr>\n",
       "    <th>epoch</th>\n",
       "    <th>train_loss</th>\n",
       "    <th>valid_loss</th>\n",
       "    <th>error_rate</th>\n",
       "    <th>time</th>\n",
       "  </tr>\n",
       "  <tr>\n",
       "    <th>0</th>\n",
       "    <th>0.885231</th>\n",
       "    <th>0.720780</th>\n",
       "    <th>0.416884</th>\n",
       "    <th>01:34</th>\n",
       "  </tr>\n",
       "  <tr>\n",
       "    <th>1</th>\n",
       "    <th>0.674068</th>\n",
       "    <th>0.654016</th>\n",
       "    <th>0.360313</th>\n",
       "    <th>01:28</th>\n",
       "  </tr>\n",
       "  <tr>\n",
       "    <th>2</th>\n",
       "    <th>0.569941</th>\n",
       "    <th>0.661593</th>\n",
       "    <th>0.356832</th>\n",
       "    <th>01:28</th>\n",
       "  </tr>\n",
       "  <tr>\n",
       "    <th>3</th>\n",
       "    <th>0.481660</th>\n",
       "    <th>0.674933</th>\n",
       "    <th>0.351610</th>\n",
       "    <th>01:28</th>\n",
       "  </tr>\n",
       "</table>\n"
      ],
      "text/plain": [
       "<IPython.core.display.HTML object>"
      ]
     },
     "metadata": {},
     "output_type": "display_data"
    },
    {
     "data": {
      "text/html": [
       "Total time: 02:57 <p><table style='width:375px; margin-bottom:10px'>\n",
       "  <tr>\n",
       "    <th>epoch</th>\n",
       "    <th>train_loss</th>\n",
       "    <th>valid_loss</th>\n",
       "    <th>error_rate</th>\n",
       "    <th>time</th>\n",
       "  </tr>\n",
       "  <tr>\n",
       "    <th>0</th>\n",
       "    <th>0.425466</th>\n",
       "    <th>0.669478</th>\n",
       "    <th>0.351610</th>\n",
       "    <th>01:28</th>\n",
       "  </tr>\n",
       "  <tr>\n",
       "    <th>1</th>\n",
       "    <th>0.427113</th>\n",
       "    <th>0.667587</th>\n",
       "    <th>0.351610</th>\n",
       "    <th>01:28</th>\n",
       "  </tr>\n",
       "</table>\n"
      ],
      "text/plain": [
       "<IPython.core.display.HTML object>"
      ]
     },
     "metadata": {},
     "output_type": "display_data"
    },
    {
     "data": {
      "text/html": [
       "Total time: 05:58 <p><table style='width:375px; margin-bottom:10px'>\n",
       "  <tr>\n",
       "    <th>epoch</th>\n",
       "    <th>train_loss</th>\n",
       "    <th>valid_loss</th>\n",
       "    <th>error_rate</th>\n",
       "    <th>time</th>\n",
       "  </tr>\n",
       "  <tr>\n",
       "    <th>0</th>\n",
       "    <th>0.864194</th>\n",
       "    <th>0.707139</th>\n",
       "    <th>0.374350</th>\n",
       "    <th>01:29</th>\n",
       "  </tr>\n",
       "  <tr>\n",
       "    <th>1</th>\n",
       "    <th>0.673066</th>\n",
       "    <th>0.645297</th>\n",
       "    <th>0.350087</th>\n",
       "    <th>01:29</th>\n",
       "  </tr>\n",
       "  <tr>\n",
       "    <th>2</th>\n",
       "    <th>0.560247</th>\n",
       "    <th>0.687414</th>\n",
       "    <th>0.368284</th>\n",
       "    <th>01:29</th>\n",
       "  </tr>\n",
       "  <tr>\n",
       "    <th>3</th>\n",
       "    <th>0.463412</th>\n",
       "    <th>0.679900</th>\n",
       "    <th>0.357019</th>\n",
       "    <th>01:29</th>\n",
       "  </tr>\n",
       "</table>\n"
      ],
      "text/plain": [
       "<IPython.core.display.HTML object>"
      ]
     },
     "metadata": {},
     "output_type": "display_data"
    },
    {
     "data": {
      "text/html": [
       "Total time: 02:58 <p><table style='width:375px; margin-bottom:10px'>\n",
       "  <tr>\n",
       "    <th>epoch</th>\n",
       "    <th>train_loss</th>\n",
       "    <th>valid_loss</th>\n",
       "    <th>error_rate</th>\n",
       "    <th>time</th>\n",
       "  </tr>\n",
       "  <tr>\n",
       "    <th>0</th>\n",
       "    <th>0.409904</th>\n",
       "    <th>0.679528</th>\n",
       "    <th>0.358752</th>\n",
       "    <th>01:29</th>\n",
       "  </tr>\n",
       "  <tr>\n",
       "    <th>1</th>\n",
       "    <th>0.410127</th>\n",
       "    <th>0.677402</th>\n",
       "    <th>0.354419</th>\n",
       "    <th>01:29</th>\n",
       "  </tr>\n",
       "</table>\n"
      ],
      "text/plain": [
       "<IPython.core.display.HTML object>"
      ]
     },
     "metadata": {},
     "output_type": "display_data"
    },
    {
     "data": {
      "text/html": [
       "Total time: 05:58 <p><table style='width:375px; margin-bottom:10px'>\n",
       "  <tr>\n",
       "    <th>epoch</th>\n",
       "    <th>train_loss</th>\n",
       "    <th>valid_loss</th>\n",
       "    <th>error_rate</th>\n",
       "    <th>time</th>\n",
       "  </tr>\n",
       "  <tr>\n",
       "    <th>0</th>\n",
       "    <th>0.867440</th>\n",
       "    <th>0.702239</th>\n",
       "    <th>0.365134</th>\n",
       "    <th>01:29</th>\n",
       "  </tr>\n",
       "  <tr>\n",
       "    <th>1</th>\n",
       "    <th>0.677038</th>\n",
       "    <th>0.680885</th>\n",
       "    <th>0.388552</th>\n",
       "    <th>01:29</th>\n",
       "  </tr>\n",
       "  <tr>\n",
       "    <th>2</th>\n",
       "    <th>0.553483</th>\n",
       "    <th>0.669301</th>\n",
       "    <th>0.351258</th>\n",
       "    <th>01:29</th>\n",
       "  </tr>\n",
       "  <tr>\n",
       "    <th>3</th>\n",
       "    <th>0.455920</th>\n",
       "    <th>0.664786</th>\n",
       "    <th>0.341717</th>\n",
       "    <th>01:29</th>\n",
       "  </tr>\n",
       "</table>\n"
      ],
      "text/plain": [
       "<IPython.core.display.HTML object>"
      ]
     },
     "metadata": {},
     "output_type": "display_data"
    },
    {
     "data": {
      "text/html": [
       "Total time: 02:58 <p><table style='width:375px; margin-bottom:10px'>\n",
       "  <tr>\n",
       "    <th>epoch</th>\n",
       "    <th>train_loss</th>\n",
       "    <th>valid_loss</th>\n",
       "    <th>error_rate</th>\n",
       "    <th>time</th>\n",
       "  </tr>\n",
       "  <tr>\n",
       "    <th>0</th>\n",
       "    <th>0.405851</th>\n",
       "    <th>0.662555</th>\n",
       "    <th>0.348656</th>\n",
       "    <th>01:29</th>\n",
       "  </tr>\n",
       "  <tr>\n",
       "    <th>1</th>\n",
       "    <th>0.408671</th>\n",
       "    <th>0.664558</th>\n",
       "    <th>0.347788</th>\n",
       "    <th>01:28</th>\n",
       "  </tr>\n",
       "</table>\n"
      ],
      "text/plain": [
       "<IPython.core.display.HTML object>"
      ]
     },
     "metadata": {},
     "output_type": "display_data"
    },
    {
     "data": {
      "text/html": [
       "Total time: 05:53 <p><table style='width:375px; margin-bottom:10px'>\n",
       "  <tr>\n",
       "    <th>epoch</th>\n",
       "    <th>train_loss</th>\n",
       "    <th>valid_loss</th>\n",
       "    <th>error_rate</th>\n",
       "    <th>time</th>\n",
       "  </tr>\n",
       "  <tr>\n",
       "    <th>0</th>\n",
       "    <th>0.891231</th>\n",
       "    <th>0.724876</th>\n",
       "    <th>0.387631</th>\n",
       "    <th>01:28</th>\n",
       "  </tr>\n",
       "  <tr>\n",
       "    <th>1</th>\n",
       "    <th>0.682712</th>\n",
       "    <th>0.650982</th>\n",
       "    <th>0.367596</th>\n",
       "    <th>01:28</th>\n",
       "  </tr>\n",
       "  <tr>\n",
       "    <th>2</th>\n",
       "    <th>0.577408</th>\n",
       "    <th>0.659874</th>\n",
       "    <th>0.375436</th>\n",
       "    <th>01:28</th>\n",
       "  </tr>\n",
       "  <tr>\n",
       "    <th>3</th>\n",
       "    <th>0.478251</th>\n",
       "    <th>0.658036</th>\n",
       "    <th>0.358885</th>\n",
       "    <th>01:28</th>\n",
       "  </tr>\n",
       "</table>\n"
      ],
      "text/plain": [
       "<IPython.core.display.HTML object>"
      ]
     },
     "metadata": {},
     "output_type": "display_data"
    },
    {
     "data": {
      "text/html": [
       "Total time: 02:56 <p><table style='width:375px; margin-bottom:10px'>\n",
       "  <tr>\n",
       "    <th>epoch</th>\n",
       "    <th>train_loss</th>\n",
       "    <th>valid_loss</th>\n",
       "    <th>error_rate</th>\n",
       "    <th>time</th>\n",
       "  </tr>\n",
       "  <tr>\n",
       "    <th>0</th>\n",
       "    <th>0.432130</th>\n",
       "    <th>0.655204</th>\n",
       "    <th>0.357143</th>\n",
       "    <th>01:28</th>\n",
       "  </tr>\n",
       "  <tr>\n",
       "    <th>1</th>\n",
       "    <th>0.430575</th>\n",
       "    <th>0.655982</th>\n",
       "    <th>0.362369</th>\n",
       "    <th>01:28</th>\n",
       "  </tr>\n",
       "</table>\n"
      ],
      "text/plain": [
       "<IPython.core.display.HTML object>"
      ]
     },
     "metadata": {},
     "output_type": "display_data"
    },
    {
     "data": {
      "text/html": [
       "Total time: 06:01 <p><table style='width:375px; margin-bottom:10px'>\n",
       "  <tr>\n",
       "    <th>epoch</th>\n",
       "    <th>train_loss</th>\n",
       "    <th>valid_loss</th>\n",
       "    <th>error_rate</th>\n",
       "    <th>time</th>\n",
       "  </tr>\n",
       "  <tr>\n",
       "    <th>0</th>\n",
       "    <th>0.847405</th>\n",
       "    <th>0.738450</th>\n",
       "    <th>0.406736</th>\n",
       "    <th>01:33</th>\n",
       "  </tr>\n",
       "  <tr>\n",
       "    <th>1</th>\n",
       "    <th>0.666818</th>\n",
       "    <th>0.673654</th>\n",
       "    <th>0.386874</th>\n",
       "    <th>01:29</th>\n",
       "  </tr>\n",
       "  <tr>\n",
       "    <th>2</th>\n",
       "    <th>0.563114</th>\n",
       "    <th>0.687469</th>\n",
       "    <th>0.370466</th>\n",
       "    <th>01:29</th>\n",
       "  </tr>\n",
       "  <tr>\n",
       "    <th>3</th>\n",
       "    <th>0.470702</th>\n",
       "    <th>0.687930</th>\n",
       "    <th>0.369603</th>\n",
       "    <th>01:28</th>\n",
       "  </tr>\n",
       "</table>\n"
      ],
      "text/plain": [
       "<IPython.core.display.HTML object>"
      ]
     },
     "metadata": {},
     "output_type": "display_data"
    },
    {
     "data": {
      "text/html": [
       "Total time: 02:58 <p><table style='width:375px; margin-bottom:10px'>\n",
       "  <tr>\n",
       "    <th>epoch</th>\n",
       "    <th>train_loss</th>\n",
       "    <th>valid_loss</th>\n",
       "    <th>error_rate</th>\n",
       "    <th>time</th>\n",
       "  </tr>\n",
       "  <tr>\n",
       "    <th>0</th>\n",
       "    <th>0.414375</th>\n",
       "    <th>0.689204</th>\n",
       "    <th>0.369603</th>\n",
       "    <th>01:29</th>\n",
       "  </tr>\n",
       "  <tr>\n",
       "    <th>1</th>\n",
       "    <th>0.424050</th>\n",
       "    <th>0.689088</th>\n",
       "    <th>0.363558</th>\n",
       "    <th>01:29</th>\n",
       "  </tr>\n",
       "</table>\n"
      ],
      "text/plain": [
       "<IPython.core.display.HTML object>"
      ]
     },
     "metadata": {},
     "output_type": "display_data"
    },
    {
     "data": {
      "text/html": [
       "Total time: 06:06 <p><table style='width:375px; margin-bottom:10px'>\n",
       "  <tr>\n",
       "    <th>epoch</th>\n",
       "    <th>train_loss</th>\n",
       "    <th>valid_loss</th>\n",
       "    <th>error_rate</th>\n",
       "    <th>time</th>\n",
       "  </tr>\n",
       "  <tr>\n",
       "    <th>0</th>\n",
       "    <th>0.879819</th>\n",
       "    <th>0.715122</th>\n",
       "    <th>0.395210</th>\n",
       "    <th>01:34</th>\n",
       "  </tr>\n",
       "  <tr>\n",
       "    <th>1</th>\n",
       "    <th>0.676656</th>\n",
       "    <th>0.642198</th>\n",
       "    <th>0.363559</th>\n",
       "    <th>01:30</th>\n",
       "  </tr>\n",
       "  <tr>\n",
       "    <th>2</th>\n",
       "    <th>0.574636</th>\n",
       "    <th>0.659625</th>\n",
       "    <th>0.350727</th>\n",
       "    <th>01:30</th>\n",
       "  </tr>\n",
       "  <tr>\n",
       "    <th>3</th>\n",
       "    <th>0.478925</th>\n",
       "    <th>0.660938</th>\n",
       "    <th>0.352438</th>\n",
       "    <th>01:30</th>\n",
       "  </tr>\n",
       "</table>\n"
      ],
      "text/plain": [
       "<IPython.core.display.HTML object>"
      ]
     },
     "metadata": {},
     "output_type": "display_data"
    },
    {
     "data": {
      "text/html": [
       "Total time: 03:01 <p><table style='width:375px; margin-bottom:10px'>\n",
       "  <tr>\n",
       "    <th>epoch</th>\n",
       "    <th>train_loss</th>\n",
       "    <th>valid_loss</th>\n",
       "    <th>error_rate</th>\n",
       "    <th>time</th>\n",
       "  </tr>\n",
       "  <tr>\n",
       "    <th>0</th>\n",
       "    <th>0.424509</th>\n",
       "    <th>0.659484</th>\n",
       "    <th>0.349872</th>\n",
       "    <th>01:30</th>\n",
       "  </tr>\n",
       "  <tr>\n",
       "    <th>1</th>\n",
       "    <th>0.424850</th>\n",
       "    <th>0.660431</th>\n",
       "    <th>0.345595</th>\n",
       "    <th>01:30</th>\n",
       "  </tr>\n",
       "</table>\n"
      ],
      "text/plain": [
       "<IPython.core.display.HTML object>"
      ]
     },
     "metadata": {},
     "output_type": "display_data"
    },
    {
     "data": {
      "text/html": [
       "Total time: 06:01 <p><table style='width:375px; margin-bottom:10px'>\n",
       "  <tr>\n",
       "    <th>epoch</th>\n",
       "    <th>train_loss</th>\n",
       "    <th>valid_loss</th>\n",
       "    <th>error_rate</th>\n",
       "    <th>time</th>\n",
       "  </tr>\n",
       "  <tr>\n",
       "    <th>0</th>\n",
       "    <th>0.859327</th>\n",
       "    <th>0.740971</th>\n",
       "    <th>0.390925</th>\n",
       "    <th>01:35</th>\n",
       "  </tr>\n",
       "  <tr>\n",
       "    <th>1</th>\n",
       "    <th>0.666919</th>\n",
       "    <th>0.664716</th>\n",
       "    <th>0.374346</th>\n",
       "    <th>01:28</th>\n",
       "  </tr>\n",
       "  <tr>\n",
       "    <th>2</th>\n",
       "    <th>0.576999</th>\n",
       "    <th>0.637679</th>\n",
       "    <th>0.356894</th>\n",
       "    <th>01:28</th>\n",
       "  </tr>\n",
       "  <tr>\n",
       "    <th>3</th>\n",
       "    <th>0.480757</th>\n",
       "    <th>0.655730</th>\n",
       "    <th>0.372600</th>\n",
       "    <th>01:29</th>\n",
       "  </tr>\n",
       "</table>\n"
      ],
      "text/plain": [
       "<IPython.core.display.HTML object>"
      ]
     },
     "metadata": {},
     "output_type": "display_data"
    },
    {
     "data": {
      "text/html": [
       "Total time: 02:57 <p><table style='width:375px; margin-bottom:10px'>\n",
       "  <tr>\n",
       "    <th>epoch</th>\n",
       "    <th>train_loss</th>\n",
       "    <th>valid_loss</th>\n",
       "    <th>error_rate</th>\n",
       "    <th>time</th>\n",
       "  </tr>\n",
       "  <tr>\n",
       "    <th>0</th>\n",
       "    <th>0.424233</th>\n",
       "    <th>0.656756</th>\n",
       "    <th>0.366492</th>\n",
       "    <th>01:28</th>\n",
       "  </tr>\n",
       "  <tr>\n",
       "    <th>1</th>\n",
       "    <th>0.425019</th>\n",
       "    <th>0.656262</th>\n",
       "    <th>0.368237</th>\n",
       "    <th>01:28</th>\n",
       "  </tr>\n",
       "</table>\n"
      ],
      "text/plain": [
       "<IPython.core.display.HTML object>"
      ]
     },
     "metadata": {},
     "output_type": "display_data"
    },
    {
     "data": {
      "text/html": [
       "Total time: 05:59 <p><table style='width:375px; margin-bottom:10px'>\n",
       "  <tr>\n",
       "    <th>epoch</th>\n",
       "    <th>train_loss</th>\n",
       "    <th>valid_loss</th>\n",
       "    <th>error_rate</th>\n",
       "    <th>time</th>\n",
       "  </tr>\n",
       "  <tr>\n",
       "    <th>0</th>\n",
       "    <th>0.861497</th>\n",
       "    <th>0.746869</th>\n",
       "    <th>0.407149</th>\n",
       "    <th>01:34</th>\n",
       "  </tr>\n",
       "  <tr>\n",
       "    <th>1</th>\n",
       "    <th>0.676681</th>\n",
       "    <th>0.648861</th>\n",
       "    <th>0.359198</th>\n",
       "    <th>01:28</th>\n",
       "  </tr>\n",
       "  <tr>\n",
       "    <th>2</th>\n",
       "    <th>0.573028</th>\n",
       "    <th>0.671495</th>\n",
       "    <th>0.359198</th>\n",
       "    <th>01:28</th>\n",
       "  </tr>\n",
       "  <tr>\n",
       "    <th>3</th>\n",
       "    <th>0.475381</th>\n",
       "    <th>0.673443</th>\n",
       "    <th>0.360070</th>\n",
       "    <th>01:28</th>\n",
       "  </tr>\n",
       "</table>\n"
      ],
      "text/plain": [
       "<IPython.core.display.HTML object>"
      ]
     },
     "metadata": {},
     "output_type": "display_data"
    },
    {
     "data": {
      "text/html": [
       "Total time: 02:56 <p><table style='width:375px; margin-bottom:10px'>\n",
       "  <tr>\n",
       "    <th>epoch</th>\n",
       "    <th>train_loss</th>\n",
       "    <th>valid_loss</th>\n",
       "    <th>error_rate</th>\n",
       "    <th>time</th>\n",
       "  </tr>\n",
       "  <tr>\n",
       "    <th>0</th>\n",
       "    <th>0.420384</th>\n",
       "    <th>0.675845</th>\n",
       "    <th>0.363557</th>\n",
       "    <th>01:28</th>\n",
       "  </tr>\n",
       "  <tr>\n",
       "    <th>1</th>\n",
       "    <th>0.419805</th>\n",
       "    <th>0.673722</th>\n",
       "    <th>0.365301</th>\n",
       "    <th>01:28</th>\n",
       "  </tr>\n",
       "</table>\n"
      ],
      "text/plain": [
       "<IPython.core.display.HTML object>"
      ]
     },
     "metadata": {},
     "output_type": "display_data"
    },
    {
     "data": {
      "text/html": [
       "Total time: 05:59 <p><table style='width:375px; margin-bottom:10px'>\n",
       "  <tr>\n",
       "    <th>epoch</th>\n",
       "    <th>train_loss</th>\n",
       "    <th>valid_loss</th>\n",
       "    <th>error_rate</th>\n",
       "    <th>time</th>\n",
       "  </tr>\n",
       "  <tr>\n",
       "    <th>0</th>\n",
       "    <th>0.849593</th>\n",
       "    <th>0.715109</th>\n",
       "    <th>0.387826</th>\n",
       "    <th>01:34</th>\n",
       "  </tr>\n",
       "  <tr>\n",
       "    <th>1</th>\n",
       "    <th>0.674367</th>\n",
       "    <th>0.642141</th>\n",
       "    <th>0.359130</th>\n",
       "    <th>01:28</th>\n",
       "  </tr>\n",
       "  <tr>\n",
       "    <th>2</th>\n",
       "    <th>0.566434</th>\n",
       "    <th>0.642918</th>\n",
       "    <th>0.344348</th>\n",
       "    <th>01:28</th>\n",
       "  </tr>\n",
       "  <tr>\n",
       "    <th>3</th>\n",
       "    <th>0.466709</th>\n",
       "    <th>0.641557</th>\n",
       "    <th>0.333913</th>\n",
       "    <th>01:28</th>\n",
       "  </tr>\n",
       "</table>\n"
      ],
      "text/plain": [
       "<IPython.core.display.HTML object>"
      ]
     },
     "metadata": {},
     "output_type": "display_data"
    },
    {
     "data": {
      "text/html": [
       "Total time: 02:57 <p><table style='width:375px; margin-bottom:10px'>\n",
       "  <tr>\n",
       "    <th>epoch</th>\n",
       "    <th>train_loss</th>\n",
       "    <th>valid_loss</th>\n",
       "    <th>error_rate</th>\n",
       "    <th>time</th>\n",
       "  </tr>\n",
       "  <tr>\n",
       "    <th>0</th>\n",
       "    <th>0.410800</th>\n",
       "    <th>0.641691</th>\n",
       "    <th>0.337391</th>\n",
       "    <th>01:28</th>\n",
       "  </tr>\n",
       "  <tr>\n",
       "    <th>1</th>\n",
       "    <th>0.414113</th>\n",
       "    <th>0.641968</th>\n",
       "    <th>0.336522</th>\n",
       "    <th>01:28</th>\n",
       "  </tr>\n",
       "</table>\n"
      ],
      "text/plain": [
       "<IPython.core.display.HTML object>"
      ]
     },
     "metadata": {},
     "output_type": "display_data"
    },
    {
     "data": {
      "text/html": [
       "Total time: 05:54 <p><table style='width:375px; margin-bottom:10px'>\n",
       "  <tr>\n",
       "    <th>epoch</th>\n",
       "    <th>train_loss</th>\n",
       "    <th>valid_loss</th>\n",
       "    <th>error_rate</th>\n",
       "    <th>time</th>\n",
       "  </tr>\n",
       "  <tr>\n",
       "    <th>0</th>\n",
       "    <th>0.884051</th>\n",
       "    <th>0.712681</th>\n",
       "    <th>0.385553</th>\n",
       "    <th>01:28</th>\n",
       "  </tr>\n",
       "  <tr>\n",
       "    <th>1</th>\n",
       "    <th>0.684605</th>\n",
       "    <th>0.636053</th>\n",
       "    <th>0.386423</th>\n",
       "    <th>01:28</th>\n",
       "  </tr>\n",
       "  <tr>\n",
       "    <th>2</th>\n",
       "    <th>0.575459</th>\n",
       "    <th>0.633601</th>\n",
       "    <th>0.363795</th>\n",
       "    <th>01:28</th>\n",
       "  </tr>\n",
       "  <tr>\n",
       "    <th>3</th>\n",
       "    <th>0.481103</th>\n",
       "    <th>0.640029</th>\n",
       "    <th>0.355091</th>\n",
       "    <th>01:28</th>\n",
       "  </tr>\n",
       "</table>\n"
      ],
      "text/plain": [
       "<IPython.core.display.HTML object>"
      ]
     },
     "metadata": {},
     "output_type": "display_data"
    },
    {
     "data": {
      "text/html": [
       "Total time: 02:57 <p><table style='width:375px; margin-bottom:10px'>\n",
       "  <tr>\n",
       "    <th>epoch</th>\n",
       "    <th>train_loss</th>\n",
       "    <th>valid_loss</th>\n",
       "    <th>error_rate</th>\n",
       "    <th>time</th>\n",
       "  </tr>\n",
       "  <tr>\n",
       "    <th>0</th>\n",
       "    <th>0.425543</th>\n",
       "    <th>0.640480</th>\n",
       "    <th>0.353351</th>\n",
       "    <th>01:28</th>\n",
       "  </tr>\n",
       "  <tr>\n",
       "    <th>1</th>\n",
       "    <th>0.428553</th>\n",
       "    <th>0.639608</th>\n",
       "    <th>0.355091</th>\n",
       "    <th>01:28</th>\n",
       "  </tr>\n",
       "</table>\n"
      ],
      "text/plain": [
       "<IPython.core.display.HTML object>"
      ]
     },
     "metadata": {},
     "output_type": "display_data"
    },
    {
     "data": {
      "text/html": [
       "Total time: 05:55 <p><table style='width:375px; margin-bottom:10px'>\n",
       "  <tr>\n",
       "    <th>epoch</th>\n",
       "    <th>train_loss</th>\n",
       "    <th>valid_loss</th>\n",
       "    <th>error_rate</th>\n",
       "    <th>time</th>\n",
       "  </tr>\n",
       "  <tr>\n",
       "    <th>0</th>\n",
       "    <th>0.867940</th>\n",
       "    <th>0.704233</th>\n",
       "    <th>0.378049</th>\n",
       "    <th>01:28</th>\n",
       "  </tr>\n",
       "  <tr>\n",
       "    <th>1</th>\n",
       "    <th>0.666401</th>\n",
       "    <th>0.665585</th>\n",
       "    <th>0.381533</th>\n",
       "    <th>01:28</th>\n",
       "  </tr>\n",
       "  <tr>\n",
       "    <th>2</th>\n",
       "    <th>0.557977</th>\n",
       "    <th>0.648961</th>\n",
       "    <th>0.351045</th>\n",
       "    <th>01:28</th>\n",
       "  </tr>\n",
       "  <tr>\n",
       "    <th>3</th>\n",
       "    <th>0.460397</th>\n",
       "    <th>0.664887</th>\n",
       "    <th>0.361498</th>\n",
       "    <th>01:28</th>\n",
       "  </tr>\n",
       "</table>\n"
      ],
      "text/plain": [
       "<IPython.core.display.HTML object>"
      ]
     },
     "metadata": {},
     "output_type": "display_data"
    },
    {
     "data": {
      "text/html": [
       "Total time: 02:58 <p><table style='width:375px; margin-bottom:10px'>\n",
       "  <tr>\n",
       "    <th>epoch</th>\n",
       "    <th>train_loss</th>\n",
       "    <th>valid_loss</th>\n",
       "    <th>error_rate</th>\n",
       "    <th>time</th>\n",
       "  </tr>\n",
       "  <tr>\n",
       "    <th>0</th>\n",
       "    <th>0.398878</th>\n",
       "    <th>0.665307</th>\n",
       "    <th>0.363240</th>\n",
       "    <th>01:29</th>\n",
       "  </tr>\n",
       "  <tr>\n",
       "    <th>1</th>\n",
       "    <th>0.400276</th>\n",
       "    <th>0.667520</th>\n",
       "    <th>0.352787</th>\n",
       "    <th>01:29</th>\n",
       "  </tr>\n",
       "</table>\n"
      ],
      "text/plain": [
       "<IPython.core.display.HTML object>"
      ]
     },
     "metadata": {},
     "output_type": "display_data"
    },
    {
     "data": {
      "text/html": [
       "Total time: 05:56 <p><table style='width:375px; margin-bottom:10px'>\n",
       "  <tr>\n",
       "    <th>epoch</th>\n",
       "    <th>train_loss</th>\n",
       "    <th>valid_loss</th>\n",
       "    <th>error_rate</th>\n",
       "    <th>time</th>\n",
       "  </tr>\n",
       "  <tr>\n",
       "    <th>0</th>\n",
       "    <th>0.838664</th>\n",
       "    <th>0.738059</th>\n",
       "    <th>0.408377</th>\n",
       "    <th>01:29</th>\n",
       "  </tr>\n",
       "  <tr>\n",
       "    <th>1</th>\n",
       "    <th>0.665142</th>\n",
       "    <th>0.649834</th>\n",
       "    <th>0.376963</th>\n",
       "    <th>01:29</th>\n",
       "  </tr>\n",
       "  <tr>\n",
       "    <th>2</th>\n",
       "    <th>0.569112</th>\n",
       "    <th>0.645640</th>\n",
       "    <th>0.354276</th>\n",
       "    <th>01:28</th>\n",
       "  </tr>\n",
       "  <tr>\n",
       "    <th>3</th>\n",
       "    <th>0.470150</th>\n",
       "    <th>0.655669</th>\n",
       "    <th>0.349040</th>\n",
       "    <th>01:29</th>\n",
       "  </tr>\n",
       "</table>\n"
      ],
      "text/plain": [
       "<IPython.core.display.HTML object>"
      ]
     },
     "metadata": {},
     "output_type": "display_data"
    },
    {
     "data": {
      "text/html": [
       "Total time: 02:57 <p><table style='width:375px; margin-bottom:10px'>\n",
       "  <tr>\n",
       "    <th>epoch</th>\n",
       "    <th>train_loss</th>\n",
       "    <th>valid_loss</th>\n",
       "    <th>error_rate</th>\n",
       "    <th>time</th>\n",
       "  </tr>\n",
       "  <tr>\n",
       "    <th>0</th>\n",
       "    <th>0.414746</th>\n",
       "    <th>0.655733</th>\n",
       "    <th>0.349913</th>\n",
       "    <th>01:28</th>\n",
       "  </tr>\n",
       "  <tr>\n",
       "    <th>1</th>\n",
       "    <th>0.420062</th>\n",
       "    <th>0.654651</th>\n",
       "    <th>0.351658</th>\n",
       "    <th>01:28</th>\n",
       "  </tr>\n",
       "</table>\n"
      ],
      "text/plain": [
       "<IPython.core.display.HTML object>"
      ]
     },
     "metadata": {},
     "output_type": "display_data"
    },
    {
     "data": {
      "text/html": [
       "Total time: 05:58 <p><table style='width:375px; margin-bottom:10px'>\n",
       "  <tr>\n",
       "    <th>epoch</th>\n",
       "    <th>train_loss</th>\n",
       "    <th>valid_loss</th>\n",
       "    <th>error_rate</th>\n",
       "    <th>time</th>\n",
       "  </tr>\n",
       "  <tr>\n",
       "    <th>0</th>\n",
       "    <th>0.876595</th>\n",
       "    <th>0.724222</th>\n",
       "    <th>0.415078</th>\n",
       "    <th>01:29</th>\n",
       "  </tr>\n",
       "  <tr>\n",
       "    <th>1</th>\n",
       "    <th>0.693775</th>\n",
       "    <th>0.682929</th>\n",
       "    <th>0.402080</th>\n",
       "    <th>01:29</th>\n",
       "  </tr>\n",
       "  <tr>\n",
       "    <th>2</th>\n",
       "    <th>0.582444</th>\n",
       "    <th>0.645995</th>\n",
       "    <th>0.371750</th>\n",
       "    <th>01:29</th>\n",
       "  </tr>\n",
       "  <tr>\n",
       "    <th>3</th>\n",
       "    <th>0.492108</th>\n",
       "    <th>0.651831</th>\n",
       "    <th>0.371750</th>\n",
       "    <th>01:29</th>\n",
       "  </tr>\n",
       "</table>\n"
      ],
      "text/plain": [
       "<IPython.core.display.HTML object>"
      ]
     },
     "metadata": {},
     "output_type": "display_data"
    },
    {
     "data": {
      "text/html": [
       "Total time: 02:59 <p><table style='width:375px; margin-bottom:10px'>\n",
       "  <tr>\n",
       "    <th>epoch</th>\n",
       "    <th>train_loss</th>\n",
       "    <th>valid_loss</th>\n",
       "    <th>error_rate</th>\n",
       "    <th>time</th>\n",
       "  </tr>\n",
       "  <tr>\n",
       "    <th>0</th>\n",
       "    <th>0.439280</th>\n",
       "    <th>0.651318</th>\n",
       "    <th>0.372617</th>\n",
       "    <th>01:29</th>\n",
       "  </tr>\n",
       "  <tr>\n",
       "    <th>1</th>\n",
       "    <th>0.441843</th>\n",
       "    <th>0.652784</th>\n",
       "    <th>0.375217</th>\n",
       "    <th>01:29</th>\n",
       "  </tr>\n",
       "</table>\n"
      ],
      "text/plain": [
       "<IPython.core.display.HTML object>"
      ]
     },
     "metadata": {},
     "output_type": "display_data"
    },
    {
     "data": {
      "text/html": [
       "Total time: 05:57 <p><table style='width:375px; margin-bottom:10px'>\n",
       "  <tr>\n",
       "    <th>epoch</th>\n",
       "    <th>train_loss</th>\n",
       "    <th>valid_loss</th>\n",
       "    <th>error_rate</th>\n",
       "    <th>time</th>\n",
       "  </tr>\n",
       "  <tr>\n",
       "    <th>0</th>\n",
       "    <th>0.858420</th>\n",
       "    <th>0.780062</th>\n",
       "    <th>0.425734</th>\n",
       "    <th>01:29</th>\n",
       "  </tr>\n",
       "  <tr>\n",
       "    <th>1</th>\n",
       "    <th>0.677638</th>\n",
       "    <th>0.665914</th>\n",
       "    <th>0.362694</th>\n",
       "    <th>01:29</th>\n",
       "  </tr>\n",
       "  <tr>\n",
       "    <th>2</th>\n",
       "    <th>0.565845</th>\n",
       "    <th>0.694534</th>\n",
       "    <th>0.359240</th>\n",
       "    <th>01:29</th>\n",
       "  </tr>\n",
       "  <tr>\n",
       "    <th>3</th>\n",
       "    <th>0.462557</th>\n",
       "    <th>0.678969</th>\n",
       "    <th>0.350605</th>\n",
       "    <th>01:29</th>\n",
       "  </tr>\n",
       "</table>\n"
      ],
      "text/plain": [
       "<IPython.core.display.HTML object>"
      ]
     },
     "metadata": {},
     "output_type": "display_data"
    },
    {
     "data": {
      "text/html": [
       "Total time: 02:58 <p><table style='width:375px; margin-bottom:10px'>\n",
       "  <tr>\n",
       "    <th>epoch</th>\n",
       "    <th>train_loss</th>\n",
       "    <th>valid_loss</th>\n",
       "    <th>error_rate</th>\n",
       "    <th>time</th>\n",
       "  </tr>\n",
       "  <tr>\n",
       "    <th>0</th>\n",
       "    <th>0.415316</th>\n",
       "    <th>0.678881</th>\n",
       "    <th>0.344560</th>\n",
       "    <th>01:28</th>\n",
       "  </tr>\n",
       "  <tr>\n",
       "    <th>1</th>\n",
       "    <th>0.414261</th>\n",
       "    <th>0.675992</th>\n",
       "    <th>0.347150</th>\n",
       "    <th>01:29</th>\n",
       "  </tr>\n",
       "</table>\n"
      ],
      "text/plain": [
       "<IPython.core.display.HTML object>"
      ]
     },
     "metadata": {},
     "output_type": "display_data"
    },
    {
     "data": {
      "text/html": [
       "Total time: 05:53 <p><table style='width:375px; margin-bottom:10px'>\n",
       "  <tr>\n",
       "    <th>epoch</th>\n",
       "    <th>train_loss</th>\n",
       "    <th>valid_loss</th>\n",
       "    <th>error_rate</th>\n",
       "    <th>time</th>\n",
       "  </tr>\n",
       "  <tr>\n",
       "    <th>0</th>\n",
       "    <th>0.874349</th>\n",
       "    <th>0.748411</th>\n",
       "    <th>0.390964</th>\n",
       "    <th>01:28</th>\n",
       "  </tr>\n",
       "  <tr>\n",
       "    <th>1</th>\n",
       "    <th>0.683654</th>\n",
       "    <th>0.647222</th>\n",
       "    <th>0.352737</th>\n",
       "    <th>01:28</th>\n",
       "  </tr>\n",
       "  <tr>\n",
       "    <th>2</th>\n",
       "    <th>0.578589</th>\n",
       "    <th>0.654711</th>\n",
       "    <th>0.366638</th>\n",
       "    <th>01:28</th>\n",
       "  </tr>\n",
       "  <tr>\n",
       "    <th>3</th>\n",
       "    <th>0.488236</th>\n",
       "    <th>0.655605</th>\n",
       "    <th>0.354474</th>\n",
       "    <th>01:28</th>\n",
       "  </tr>\n",
       "</table>\n"
      ],
      "text/plain": [
       "<IPython.core.display.HTML object>"
      ]
     },
     "metadata": {},
     "output_type": "display_data"
    },
    {
     "data": {
      "text/html": [
       "Total time: 02:58 <p><table style='width:375px; margin-bottom:10px'>\n",
       "  <tr>\n",
       "    <th>epoch</th>\n",
       "    <th>train_loss</th>\n",
       "    <th>valid_loss</th>\n",
       "    <th>error_rate</th>\n",
       "    <th>time</th>\n",
       "  </tr>\n",
       "  <tr>\n",
       "    <th>0</th>\n",
       "    <th>0.436415</th>\n",
       "    <th>0.654072</th>\n",
       "    <th>0.350999</th>\n",
       "    <th>01:29</th>\n",
       "  </tr>\n",
       "  <tr>\n",
       "    <th>1</th>\n",
       "    <th>0.427345</th>\n",
       "    <th>0.659747</th>\n",
       "    <th>0.354474</th>\n",
       "    <th>01:28</th>\n",
       "  </tr>\n",
       "</table>\n"
      ],
      "text/plain": [
       "<IPython.core.display.HTML object>"
      ]
     },
     "metadata": {},
     "output_type": "display_data"
    },
    {
     "data": {
      "text/html": [
       "Total time: 05:54 <p><table style='width:375px; margin-bottom:10px'>\n",
       "  <tr>\n",
       "    <th>epoch</th>\n",
       "    <th>train_loss</th>\n",
       "    <th>valid_loss</th>\n",
       "    <th>error_rate</th>\n",
       "    <th>time</th>\n",
       "  </tr>\n",
       "  <tr>\n",
       "    <th>0</th>\n",
       "    <th>0.878398</th>\n",
       "    <th>0.750182</th>\n",
       "    <th>0.395997</th>\n",
       "    <th>01:28</th>\n",
       "  </tr>\n",
       "  <tr>\n",
       "    <th>1</th>\n",
       "    <th>0.684861</th>\n",
       "    <th>0.659216</th>\n",
       "    <th>0.376849</th>\n",
       "    <th>01:28</th>\n",
       "  </tr>\n",
       "  <tr>\n",
       "    <th>2</th>\n",
       "    <th>0.576008</th>\n",
       "    <th>0.653286</th>\n",
       "    <th>0.355962</th>\n",
       "    <th>01:28</th>\n",
       "  </tr>\n",
       "  <tr>\n",
       "    <th>3</th>\n",
       "    <th>0.474478</th>\n",
       "    <th>0.666140</th>\n",
       "    <th>0.375109</th>\n",
       "    <th>01:28</th>\n",
       "  </tr>\n",
       "</table>\n"
      ],
      "text/plain": [
       "<IPython.core.display.HTML object>"
      ]
     },
     "metadata": {},
     "output_type": "display_data"
    },
    {
     "data": {
      "text/html": [
       "Total time: 02:56 <p><table style='width:375px; margin-bottom:10px'>\n",
       "  <tr>\n",
       "    <th>epoch</th>\n",
       "    <th>train_loss</th>\n",
       "    <th>valid_loss</th>\n",
       "    <th>error_rate</th>\n",
       "    <th>time</th>\n",
       "  </tr>\n",
       "  <tr>\n",
       "    <th>0</th>\n",
       "    <th>0.418338</th>\n",
       "    <th>0.666672</th>\n",
       "    <th>0.369017</th>\n",
       "    <th>01:28</th>\n",
       "  </tr>\n",
       "  <tr>\n",
       "    <th>1</th>\n",
       "    <th>0.424901</th>\n",
       "    <th>0.663436</th>\n",
       "    <th>0.367276</th>\n",
       "    <th>01:28</th>\n",
       "  </tr>\n",
       "</table>\n"
      ],
      "text/plain": [
       "<IPython.core.display.HTML object>"
      ]
     },
     "metadata": {},
     "output_type": "display_data"
    },
    {
     "data": {
      "text/html": [
       "Total time: 05:55 <p><table style='width:375px; margin-bottom:10px'>\n",
       "  <tr>\n",
       "    <th>epoch</th>\n",
       "    <th>train_loss</th>\n",
       "    <th>valid_loss</th>\n",
       "    <th>error_rate</th>\n",
       "    <th>time</th>\n",
       "  </tr>\n",
       "  <tr>\n",
       "    <th>0</th>\n",
       "    <th>0.861826</th>\n",
       "    <th>0.750500</th>\n",
       "    <th>0.409408</th>\n",
       "    <th>01:28</th>\n",
       "  </tr>\n",
       "  <tr>\n",
       "    <th>1</th>\n",
       "    <th>0.675556</th>\n",
       "    <th>0.655003</th>\n",
       "    <th>0.379791</th>\n",
       "    <th>01:28</th>\n",
       "  </tr>\n",
       "  <tr>\n",
       "    <th>2</th>\n",
       "    <th>0.571457</th>\n",
       "    <th>0.659785</th>\n",
       "    <th>0.355401</th>\n",
       "    <th>01:29</th>\n",
       "  </tr>\n",
       "  <tr>\n",
       "    <th>3</th>\n",
       "    <th>0.469437</th>\n",
       "    <th>0.666481</th>\n",
       "    <th>0.357143</th>\n",
       "    <th>01:28</th>\n",
       "  </tr>\n",
       "</table>\n"
      ],
      "text/plain": [
       "<IPython.core.display.HTML object>"
      ]
     },
     "metadata": {},
     "output_type": "display_data"
    },
    {
     "data": {
      "text/html": [
       "Total time: 02:57 <p><table style='width:375px; margin-bottom:10px'>\n",
       "  <tr>\n",
       "    <th>epoch</th>\n",
       "    <th>train_loss</th>\n",
       "    <th>valid_loss</th>\n",
       "    <th>error_rate</th>\n",
       "    <th>time</th>\n",
       "  </tr>\n",
       "  <tr>\n",
       "    <th>0</th>\n",
       "    <th>0.414179</th>\n",
       "    <th>0.667199</th>\n",
       "    <th>0.360627</th>\n",
       "    <th>01:28</th>\n",
       "  </tr>\n",
       "  <tr>\n",
       "    <th>1</th>\n",
       "    <th>0.415282</th>\n",
       "    <th>0.668392</th>\n",
       "    <th>0.353659</th>\n",
       "    <th>01:28</th>\n",
       "  </tr>\n",
       "</table>\n"
      ],
      "text/plain": [
       "<IPython.core.display.HTML object>"
      ]
     },
     "metadata": {},
     "output_type": "display_data"
    },
    {
     "data": {
      "text/html": [
       "Total time: 05:53 <p><table style='width:375px; margin-bottom:10px'>\n",
       "  <tr>\n",
       "    <th>epoch</th>\n",
       "    <th>train_loss</th>\n",
       "    <th>valid_loss</th>\n",
       "    <th>error_rate</th>\n",
       "    <th>time</th>\n",
       "  </tr>\n",
       "  <tr>\n",
       "    <th>0</th>\n",
       "    <th>0.896153</th>\n",
       "    <th>0.759184</th>\n",
       "    <th>0.397906</th>\n",
       "    <th>01:28</th>\n",
       "  </tr>\n",
       "  <tr>\n",
       "    <th>1</th>\n",
       "    <th>0.685624</th>\n",
       "    <th>0.644866</th>\n",
       "    <th>0.372600</th>\n",
       "    <th>01:28</th>\n",
       "  </tr>\n",
       "  <tr>\n",
       "    <th>2</th>\n",
       "    <th>0.574345</th>\n",
       "    <th>0.648691</th>\n",
       "    <th>0.358639</th>\n",
       "    <th>01:28</th>\n",
       "  </tr>\n",
       "  <tr>\n",
       "    <th>3</th>\n",
       "    <th>0.477869</th>\n",
       "    <th>0.653051</th>\n",
       "    <th>0.360384</th>\n",
       "    <th>01:28</th>\n",
       "  </tr>\n",
       "</table>\n"
      ],
      "text/plain": [
       "<IPython.core.display.HTML object>"
      ]
     },
     "metadata": {},
     "output_type": "display_data"
    },
    {
     "data": {
      "text/html": [
       "Total time: 02:56 <p><table style='width:375px; margin-bottom:10px'>\n",
       "  <tr>\n",
       "    <th>epoch</th>\n",
       "    <th>train_loss</th>\n",
       "    <th>valid_loss</th>\n",
       "    <th>error_rate</th>\n",
       "    <th>time</th>\n",
       "  </tr>\n",
       "  <tr>\n",
       "    <th>0</th>\n",
       "    <th>0.419167</th>\n",
       "    <th>0.654733</th>\n",
       "    <th>0.357766</th>\n",
       "    <th>01:28</th>\n",
       "  </tr>\n",
       "  <tr>\n",
       "    <th>1</th>\n",
       "    <th>0.421077</th>\n",
       "    <th>0.654734</th>\n",
       "    <th>0.356021</th>\n",
       "    <th>01:28</th>\n",
       "  </tr>\n",
       "</table>\n"
      ],
      "text/plain": [
       "<IPython.core.display.HTML object>"
      ]
     },
     "metadata": {},
     "output_type": "display_data"
    },
    {
     "data": {
      "text/html": [
       "Total time: 06:02 <p><table style='width:375px; margin-bottom:10px'>\n",
       "  <tr>\n",
       "    <th>epoch</th>\n",
       "    <th>train_loss</th>\n",
       "    <th>valid_loss</th>\n",
       "    <th>error_rate</th>\n",
       "    <th>time</th>\n",
       "  </tr>\n",
       "  <tr>\n",
       "    <th>0</th>\n",
       "    <th>0.895005</th>\n",
       "    <th>0.728157</th>\n",
       "    <th>0.414089</th>\n",
       "    <th>01:33</th>\n",
       "  </tr>\n",
       "  <tr>\n",
       "    <th>1</th>\n",
       "    <th>0.694933</th>\n",
       "    <th>0.649082</th>\n",
       "    <th>0.346220</th>\n",
       "    <th>01:29</th>\n",
       "  </tr>\n",
       "  <tr>\n",
       "    <th>2</th>\n",
       "    <th>0.576142</th>\n",
       "    <th>0.645511</th>\n",
       "    <th>0.345361</th>\n",
       "    <th>01:29</th>\n",
       "  </tr>\n",
       "  <tr>\n",
       "    <th>3</th>\n",
       "    <th>0.480409</th>\n",
       "    <th>0.641347</th>\n",
       "    <th>0.336770</th>\n",
       "    <th>01:29</th>\n",
       "  </tr>\n",
       "</table>\n"
      ],
      "text/plain": [
       "<IPython.core.display.HTML object>"
      ]
     },
     "metadata": {},
     "output_type": "display_data"
    },
    {
     "data": {
      "text/html": [
       "Total time: 02:59 <p><table style='width:375px; margin-bottom:10px'>\n",
       "  <tr>\n",
       "    <th>epoch</th>\n",
       "    <th>train_loss</th>\n",
       "    <th>valid_loss</th>\n",
       "    <th>error_rate</th>\n",
       "    <th>time</th>\n",
       "  </tr>\n",
       "  <tr>\n",
       "    <th>0</th>\n",
       "    <th>0.441178</th>\n",
       "    <th>0.644509</th>\n",
       "    <th>0.342784</th>\n",
       "    <th>01:29</th>\n",
       "  </tr>\n",
       "  <tr>\n",
       "    <th>1</th>\n",
       "    <th>0.424267</th>\n",
       "    <th>0.644063</th>\n",
       "    <th>0.340206</th>\n",
       "    <th>01:29</th>\n",
       "  </tr>\n",
       "</table>\n"
      ],
      "text/plain": [
       "<IPython.core.display.HTML object>"
      ]
     },
     "metadata": {},
     "output_type": "display_data"
    },
    {
     "data": {
      "text/html": [
       "Total time: 05:53 <p><table style='width:375px; margin-bottom:10px'>\n",
       "  <tr>\n",
       "    <th>epoch</th>\n",
       "    <th>train_loss</th>\n",
       "    <th>valid_loss</th>\n",
       "    <th>error_rate</th>\n",
       "    <th>time</th>\n",
       "  </tr>\n",
       "  <tr>\n",
       "    <th>0</th>\n",
       "    <th>0.868037</th>\n",
       "    <th>0.729425</th>\n",
       "    <th>0.396687</th>\n",
       "    <th>01:28</th>\n",
       "  </tr>\n",
       "  <tr>\n",
       "    <th>1</th>\n",
       "    <th>0.688258</th>\n",
       "    <th>0.653230</th>\n",
       "    <th>0.374891</th>\n",
       "    <th>01:28</th>\n",
       "  </tr>\n",
       "  <tr>\n",
       "    <th>2</th>\n",
       "    <th>0.579099</th>\n",
       "    <th>0.662816</th>\n",
       "    <th>0.361813</th>\n",
       "    <th>01:28</th>\n",
       "  </tr>\n",
       "  <tr>\n",
       "    <th>3</th>\n",
       "    <th>0.483944</th>\n",
       "    <th>0.665129</th>\n",
       "    <th>0.368788</th>\n",
       "    <th>01:28</th>\n",
       "  </tr>\n",
       "</table>\n"
      ],
      "text/plain": [
       "<IPython.core.display.HTML object>"
      ]
     },
     "metadata": {},
     "output_type": "display_data"
    },
    {
     "data": {
      "text/html": [
       "Total time: 02:57 <p><table style='width:375px; margin-bottom:10px'>\n",
       "  <tr>\n",
       "    <th>epoch</th>\n",
       "    <th>train_loss</th>\n",
       "    <th>valid_loss</th>\n",
       "    <th>error_rate</th>\n",
       "    <th>time</th>\n",
       "  </tr>\n",
       "  <tr>\n",
       "    <th>0</th>\n",
       "    <th>0.426013</th>\n",
       "    <th>0.666245</th>\n",
       "    <th>0.361813</th>\n",
       "    <th>01:28</th>\n",
       "  </tr>\n",
       "  <tr>\n",
       "    <th>1</th>\n",
       "    <th>0.430467</th>\n",
       "    <th>0.663257</th>\n",
       "    <th>0.371404</th>\n",
       "    <th>01:28</th>\n",
       "  </tr>\n",
       "</table>\n"
      ],
      "text/plain": [
       "<IPython.core.display.HTML object>"
      ]
     },
     "metadata": {},
     "output_type": "display_data"
    },
    {
     "data": {
      "text/html": [
       "Total time: 05:55 <p><table style='width:375px; margin-bottom:10px'>\n",
       "  <tr>\n",
       "    <th>epoch</th>\n",
       "    <th>train_loss</th>\n",
       "    <th>valid_loss</th>\n",
       "    <th>error_rate</th>\n",
       "    <th>time</th>\n",
       "  </tr>\n",
       "  <tr>\n",
       "    <th>0</th>\n",
       "    <th>0.864995</th>\n",
       "    <th>0.756042</th>\n",
       "    <th>0.391645</th>\n",
       "    <th>01:28</th>\n",
       "  </tr>\n",
       "  <tr>\n",
       "    <th>1</th>\n",
       "    <th>0.681813</th>\n",
       "    <th>0.640243</th>\n",
       "    <th>0.369887</th>\n",
       "    <th>01:28</th>\n",
       "  </tr>\n",
       "  <tr>\n",
       "    <th>2</th>\n",
       "    <th>0.561810</th>\n",
       "    <th>0.646490</th>\n",
       "    <th>0.354221</th>\n",
       "    <th>01:29</th>\n",
       "  </tr>\n",
       "  <tr>\n",
       "    <th>3</th>\n",
       "    <th>0.467094</th>\n",
       "    <th>0.648424</th>\n",
       "    <th>0.339426</th>\n",
       "    <th>01:28</th>\n",
       "  </tr>\n",
       "</table>\n"
      ],
      "text/plain": [
       "<IPython.core.display.HTML object>"
      ]
     },
     "metadata": {},
     "output_type": "display_data"
    },
    {
     "data": {
      "text/html": [
       "Total time: 02:57 <p><table style='width:375px; margin-bottom:10px'>\n",
       "  <tr>\n",
       "    <th>epoch</th>\n",
       "    <th>train_loss</th>\n",
       "    <th>valid_loss</th>\n",
       "    <th>error_rate</th>\n",
       "    <th>time</th>\n",
       "  </tr>\n",
       "  <tr>\n",
       "    <th>0</th>\n",
       "    <th>0.430562</th>\n",
       "    <th>0.645162</th>\n",
       "    <th>0.337685</th>\n",
       "    <th>01:29</th>\n",
       "  </tr>\n",
       "  <tr>\n",
       "    <th>1</th>\n",
       "    <th>0.418390</th>\n",
       "    <th>0.646251</th>\n",
       "    <th>0.340296</th>\n",
       "    <th>01:28</th>\n",
       "  </tr>\n",
       "</table>\n"
      ],
      "text/plain": [
       "<IPython.core.display.HTML object>"
      ]
     },
     "metadata": {},
     "output_type": "display_data"
    },
    {
     "data": {
      "text/html": [
       "Total time: 05:54 <p><table style='width:375px; margin-bottom:10px'>\n",
       "  <tr>\n",
       "    <th>epoch</th>\n",
       "    <th>train_loss</th>\n",
       "    <th>valid_loss</th>\n",
       "    <th>error_rate</th>\n",
       "    <th>time</th>\n",
       "  </tr>\n",
       "  <tr>\n",
       "    <th>0</th>\n",
       "    <th>0.873714</th>\n",
       "    <th>0.793429</th>\n",
       "    <th>0.410636</th>\n",
       "    <th>01:28</th>\n",
       "  </tr>\n",
       "  <tr>\n",
       "    <th>1</th>\n",
       "    <th>0.673313</th>\n",
       "    <th>0.650136</th>\n",
       "    <th>0.376635</th>\n",
       "    <th>01:29</th>\n",
       "  </tr>\n",
       "  <tr>\n",
       "    <th>2</th>\n",
       "    <th>0.561924</th>\n",
       "    <th>0.644027</th>\n",
       "    <th>0.335658</th>\n",
       "    <th>01:28</th>\n",
       "  </tr>\n",
       "  <tr>\n",
       "    <th>3</th>\n",
       "    <th>0.464404</th>\n",
       "    <th>0.657967</th>\n",
       "    <th>0.343505</th>\n",
       "    <th>01:28</th>\n",
       "  </tr>\n",
       "</table>\n"
      ],
      "text/plain": [
       "<IPython.core.display.HTML object>"
      ]
     },
     "metadata": {},
     "output_type": "display_data"
    },
    {
     "data": {
      "text/html": [
       "Total time: 02:57 <p><table style='width:375px; margin-bottom:10px'>\n",
       "  <tr>\n",
       "    <th>epoch</th>\n",
       "    <th>train_loss</th>\n",
       "    <th>valid_loss</th>\n",
       "    <th>error_rate</th>\n",
       "    <th>time</th>\n",
       "  </tr>\n",
       "  <tr>\n",
       "    <th>0</th>\n",
       "    <th>0.418500</th>\n",
       "    <th>0.661436</th>\n",
       "    <th>0.337402</th>\n",
       "    <th>01:28</th>\n",
       "  </tr>\n",
       "  <tr>\n",
       "    <th>1</th>\n",
       "    <th>0.407058</th>\n",
       "    <th>0.661701</th>\n",
       "    <th>0.338274</th>\n",
       "    <th>01:28</th>\n",
       "  </tr>\n",
       "</table>\n"
      ],
      "text/plain": [
       "<IPython.core.display.HTML object>"
      ]
     },
     "metadata": {},
     "output_type": "display_data"
    },
    {
     "data": {
      "text/html": [
       "Total time: 05:54 <p><table style='width:375px; margin-bottom:10px'>\n",
       "  <tr>\n",
       "    <th>epoch</th>\n",
       "    <th>train_loss</th>\n",
       "    <th>valid_loss</th>\n",
       "    <th>error_rate</th>\n",
       "    <th>time</th>\n",
       "  </tr>\n",
       "  <tr>\n",
       "    <th>0</th>\n",
       "    <th>0.835589</th>\n",
       "    <th>0.760852</th>\n",
       "    <th>0.415867</th>\n",
       "    <th>01:28</th>\n",
       "  </tr>\n",
       "  <tr>\n",
       "    <th>1</th>\n",
       "    <th>0.666705</th>\n",
       "    <th>0.667038</th>\n",
       "    <th>0.364429</th>\n",
       "    <th>01:28</th>\n",
       "  </tr>\n",
       "  <tr>\n",
       "    <th>2</th>\n",
       "    <th>0.558639</th>\n",
       "    <th>0.686266</th>\n",
       "    <th>0.364429</th>\n",
       "    <th>01:28</th>\n",
       "  </tr>\n",
       "  <tr>\n",
       "    <th>3</th>\n",
       "    <th>0.465580</th>\n",
       "    <th>0.685114</th>\n",
       "    <th>0.368788</th>\n",
       "    <th>01:29</th>\n",
       "  </tr>\n",
       "</table>\n"
      ],
      "text/plain": [
       "<IPython.core.display.HTML object>"
      ]
     },
     "metadata": {},
     "output_type": "display_data"
    },
    {
     "data": {
      "text/html": [
       "Total time: 02:57 <p><table style='width:375px; margin-bottom:10px'>\n",
       "  <tr>\n",
       "    <th>epoch</th>\n",
       "    <th>train_loss</th>\n",
       "    <th>valid_loss</th>\n",
       "    <th>error_rate</th>\n",
       "    <th>time</th>\n",
       "  </tr>\n",
       "  <tr>\n",
       "    <th>0</th>\n",
       "    <th>0.412315</th>\n",
       "    <th>0.686712</th>\n",
       "    <th>0.372276</th>\n",
       "    <th>01:28</th>\n",
       "  </tr>\n",
       "  <tr>\n",
       "    <th>1</th>\n",
       "    <th>0.413825</th>\n",
       "    <th>0.688222</th>\n",
       "    <th>0.368788</th>\n",
       "    <th>01:28</th>\n",
       "  </tr>\n",
       "</table>\n"
      ],
      "text/plain": [
       "<IPython.core.display.HTML object>"
      ]
     },
     "metadata": {},
     "output_type": "display_data"
    },
    {
     "data": {
      "text/html": [
       "Total time: 05:54 <p><table style='width:375px; margin-bottom:10px'>\n",
       "  <tr>\n",
       "    <th>epoch</th>\n",
       "    <th>train_loss</th>\n",
       "    <th>valid_loss</th>\n",
       "    <th>error_rate</th>\n",
       "    <th>time</th>\n",
       "  </tr>\n",
       "  <tr>\n",
       "    <th>0</th>\n",
       "    <th>0.863159</th>\n",
       "    <th>0.715025</th>\n",
       "    <th>0.376963</th>\n",
       "    <th>01:28</th>\n",
       "  </tr>\n",
       "  <tr>\n",
       "    <th>1</th>\n",
       "    <th>0.681404</th>\n",
       "    <th>0.661994</th>\n",
       "    <th>0.374346</th>\n",
       "    <th>01:28</th>\n",
       "  </tr>\n",
       "  <tr>\n",
       "    <th>2</th>\n",
       "    <th>0.569037</th>\n",
       "    <th>0.682726</th>\n",
       "    <th>0.378709</th>\n",
       "    <th>01:28</th>\n",
       "  </tr>\n",
       "  <tr>\n",
       "    <th>3</th>\n",
       "    <th>0.473950</th>\n",
       "    <th>0.681844</th>\n",
       "    <th>0.371728</th>\n",
       "    <th>01:28</th>\n",
       "  </tr>\n",
       "</table>\n"
      ],
      "text/plain": [
       "<IPython.core.display.HTML object>"
      ]
     },
     "metadata": {},
     "output_type": "display_data"
    },
    {
     "data": {
      "text/html": [
       "Total time: 02:56 <p><table style='width:375px; margin-bottom:10px'>\n",
       "  <tr>\n",
       "    <th>epoch</th>\n",
       "    <th>train_loss</th>\n",
       "    <th>valid_loss</th>\n",
       "    <th>error_rate</th>\n",
       "    <th>time</th>\n",
       "  </tr>\n",
       "  <tr>\n",
       "    <th>0</th>\n",
       "    <th>0.421958</th>\n",
       "    <th>0.683856</th>\n",
       "    <th>0.373473</th>\n",
       "    <th>01:28</th>\n",
       "  </tr>\n",
       "  <tr>\n",
       "    <th>1</th>\n",
       "    <th>0.421360</th>\n",
       "    <th>0.679397</th>\n",
       "    <th>0.366492</th>\n",
       "    <th>01:28</th>\n",
       "  </tr>\n",
       "</table>\n"
      ],
      "text/plain": [
       "<IPython.core.display.HTML object>"
      ]
     },
     "metadata": {},
     "output_type": "display_data"
    },
    {
     "data": {
      "text/html": [
       "Total time: 05:54 <p><table style='width:375px; margin-bottom:10px'>\n",
       "  <tr>\n",
       "    <th>epoch</th>\n",
       "    <th>train_loss</th>\n",
       "    <th>valid_loss</th>\n",
       "    <th>error_rate</th>\n",
       "    <th>time</th>\n",
       "  </tr>\n",
       "  <tr>\n",
       "    <th>0</th>\n",
       "    <th>0.886534</th>\n",
       "    <th>0.745226</th>\n",
       "    <th>0.398253</th>\n",
       "    <th>01:28</th>\n",
       "  </tr>\n",
       "  <tr>\n",
       "    <th>1</th>\n",
       "    <th>0.678935</th>\n",
       "    <th>0.648507</th>\n",
       "    <th>0.365939</th>\n",
       "    <th>01:29</th>\n",
       "  </tr>\n",
       "  <tr>\n",
       "    <th>2</th>\n",
       "    <th>0.573746</th>\n",
       "    <th>0.656641</th>\n",
       "    <th>0.361572</th>\n",
       "    <th>01:28</th>\n",
       "  </tr>\n",
       "  <tr>\n",
       "    <th>3</th>\n",
       "    <th>0.474309</th>\n",
       "    <th>0.660819</th>\n",
       "    <th>0.345852</th>\n",
       "    <th>01:28</th>\n",
       "  </tr>\n",
       "</table>\n"
      ],
      "text/plain": [
       "<IPython.core.display.HTML object>"
      ]
     },
     "metadata": {},
     "output_type": "display_data"
    },
    {
     "data": {
      "text/html": [
       "Total time: 02:57 <p><table style='width:375px; margin-bottom:10px'>\n",
       "  <tr>\n",
       "    <th>epoch</th>\n",
       "    <th>train_loss</th>\n",
       "    <th>valid_loss</th>\n",
       "    <th>error_rate</th>\n",
       "    <th>time</th>\n",
       "  </tr>\n",
       "  <tr>\n",
       "    <th>0</th>\n",
       "    <th>0.414853</th>\n",
       "    <th>0.658262</th>\n",
       "    <th>0.349345</th>\n",
       "    <th>01:28</th>\n",
       "  </tr>\n",
       "  <tr>\n",
       "    <th>1</th>\n",
       "    <th>0.424581</th>\n",
       "    <th>0.658579</th>\n",
       "    <th>0.341485</th>\n",
       "    <th>01:28</th>\n",
       "  </tr>\n",
       "</table>\n"
      ],
      "text/plain": [
       "<IPython.core.display.HTML object>"
      ]
     },
     "metadata": {},
     "output_type": "display_data"
    },
    {
     "data": {
      "text/html": [
       "Total time: 05:53 <p><table style='width:375px; margin-bottom:10px'>\n",
       "  <tr>\n",
       "    <th>epoch</th>\n",
       "    <th>train_loss</th>\n",
       "    <th>valid_loss</th>\n",
       "    <th>error_rate</th>\n",
       "    <th>time</th>\n",
       "  </tr>\n",
       "  <tr>\n",
       "    <th>0</th>\n",
       "    <th>0.836873</th>\n",
       "    <th>0.696044</th>\n",
       "    <th>0.382199</th>\n",
       "    <th>01:28</th>\n",
       "  </tr>\n",
       "  <tr>\n",
       "    <th>1</th>\n",
       "    <th>0.664242</th>\n",
       "    <th>0.644639</th>\n",
       "    <th>0.361257</th>\n",
       "    <th>01:28</th>\n",
       "  </tr>\n",
       "  <tr>\n",
       "    <th>2</th>\n",
       "    <th>0.552390</th>\n",
       "    <th>0.685358</th>\n",
       "    <th>0.361257</th>\n",
       "    <th>01:28</th>\n",
       "  </tr>\n",
       "  <tr>\n",
       "    <th>3</th>\n",
       "    <th>0.450580</th>\n",
       "    <th>0.678244</th>\n",
       "    <th>0.349913</th>\n",
       "    <th>01:28</th>\n",
       "  </tr>\n",
       "</table>\n"
      ],
      "text/plain": [
       "<IPython.core.display.HTML object>"
      ]
     },
     "metadata": {},
     "output_type": "display_data"
    },
    {
     "data": {
      "text/html": [
       "Total time: 02:57 <p><table style='width:375px; margin-bottom:10px'>\n",
       "  <tr>\n",
       "    <th>epoch</th>\n",
       "    <th>train_loss</th>\n",
       "    <th>valid_loss</th>\n",
       "    <th>error_rate</th>\n",
       "    <th>time</th>\n",
       "  </tr>\n",
       "  <tr>\n",
       "    <th>0</th>\n",
       "    <th>0.398239</th>\n",
       "    <th>0.678481</th>\n",
       "    <th>0.350785</th>\n",
       "    <th>01:28</th>\n",
       "  </tr>\n",
       "  <tr>\n",
       "    <th>1</th>\n",
       "    <th>0.400706</th>\n",
       "    <th>0.678007</th>\n",
       "    <th>0.347295</th>\n",
       "    <th>01:28</th>\n",
       "  </tr>\n",
       "</table>\n"
      ],
      "text/plain": [
       "<IPython.core.display.HTML object>"
      ]
     },
     "metadata": {},
     "output_type": "display_data"
    },
    {
     "data": {
      "text/html": [
       "Total time: 06:08 <p><table style='width:375px; margin-bottom:10px'>\n",
       "  <tr>\n",
       "    <th>epoch</th>\n",
       "    <th>train_loss</th>\n",
       "    <th>valid_loss</th>\n",
       "    <th>error_rate</th>\n",
       "    <th>time</th>\n",
       "  </tr>\n",
       "  <tr>\n",
       "    <th>0</th>\n",
       "    <th>0.884914</th>\n",
       "    <th>0.793355</th>\n",
       "    <th>0.387042</th>\n",
       "    <th>01:35</th>\n",
       "  </tr>\n",
       "  <tr>\n",
       "    <th>1</th>\n",
       "    <th>0.693826</th>\n",
       "    <th>0.637251</th>\n",
       "    <th>0.362319</th>\n",
       "    <th>01:30</th>\n",
       "  </tr>\n",
       "  <tr>\n",
       "    <th>2</th>\n",
       "    <th>0.577253</th>\n",
       "    <th>0.650569</th>\n",
       "    <th>0.361466</th>\n",
       "    <th>01:31</th>\n",
       "  </tr>\n",
       "  <tr>\n",
       "    <th>3</th>\n",
       "    <th>0.476722</th>\n",
       "    <th>0.640999</th>\n",
       "    <th>0.353794</th>\n",
       "    <th>01:30</th>\n",
       "  </tr>\n",
       "</table>\n"
      ],
      "text/plain": [
       "<IPython.core.display.HTML object>"
      ]
     },
     "metadata": {},
     "output_type": "display_data"
    },
    {
     "data": {
      "text/html": [
       "Total time: 03:02 <p><table style='width:375px; margin-bottom:10px'>\n",
       "  <tr>\n",
       "    <th>epoch</th>\n",
       "    <th>train_loss</th>\n",
       "    <th>valid_loss</th>\n",
       "    <th>error_rate</th>\n",
       "    <th>time</th>\n",
       "  </tr>\n",
       "  <tr>\n",
       "    <th>0</th>\n",
       "    <th>0.448205</th>\n",
       "    <th>0.640482</th>\n",
       "    <th>0.349531</th>\n",
       "    <th>01:31</th>\n",
       "  </tr>\n",
       "  <tr>\n",
       "    <th>1</th>\n",
       "    <th>0.442154</th>\n",
       "    <th>0.637763</th>\n",
       "    <th>0.351236</th>\n",
       "    <th>01:31</th>\n",
       "  </tr>\n",
       "</table>\n"
      ],
      "text/plain": [
       "<IPython.core.display.HTML object>"
      ]
     },
     "metadata": {},
     "output_type": "display_data"
    },
    {
     "data": {
      "text/html": [
       "Total time: 05:54 <p><table style='width:375px; margin-bottom:10px'>\n",
       "  <tr>\n",
       "    <th>epoch</th>\n",
       "    <th>train_loss</th>\n",
       "    <th>valid_loss</th>\n",
       "    <th>error_rate</th>\n",
       "    <th>time</th>\n",
       "  </tr>\n",
       "  <tr>\n",
       "    <th>0</th>\n",
       "    <th>0.843786</th>\n",
       "    <th>0.774634</th>\n",
       "    <th>0.424586</th>\n",
       "    <th>01:28</th>\n",
       "  </tr>\n",
       "  <tr>\n",
       "    <th>1</th>\n",
       "    <th>0.664017</th>\n",
       "    <th>0.644756</th>\n",
       "    <th>0.360942</th>\n",
       "    <th>01:28</th>\n",
       "  </tr>\n",
       "  <tr>\n",
       "    <th>2</th>\n",
       "    <th>0.564806</th>\n",
       "    <th>0.667011</th>\n",
       "    <th>0.379250</th>\n",
       "    <th>01:28</th>\n",
       "  </tr>\n",
       "  <tr>\n",
       "    <th>3</th>\n",
       "    <th>0.468237</th>\n",
       "    <th>0.665891</th>\n",
       "    <th>0.371404</th>\n",
       "    <th>01:28</th>\n",
       "  </tr>\n",
       "</table>\n"
      ],
      "text/plain": [
       "<IPython.core.display.HTML object>"
      ]
     },
     "metadata": {},
     "output_type": "display_data"
    },
    {
     "data": {
      "text/html": [
       "Total time: 02:57 <p><table style='width:375px; margin-bottom:10px'>\n",
       "  <tr>\n",
       "    <th>epoch</th>\n",
       "    <th>train_loss</th>\n",
       "    <th>valid_loss</th>\n",
       "    <th>error_rate</th>\n",
       "    <th>time</th>\n",
       "  </tr>\n",
       "  <tr>\n",
       "    <th>0</th>\n",
       "    <th>0.409221</th>\n",
       "    <th>0.667486</th>\n",
       "    <th>0.371404</th>\n",
       "    <th>01:28</th>\n",
       "  </tr>\n",
       "  <tr>\n",
       "    <th>1</th>\n",
       "    <th>0.406763</th>\n",
       "    <th>0.666145</th>\n",
       "    <th>0.375763</th>\n",
       "    <th>01:28</th>\n",
       "  </tr>\n",
       "</table>\n"
      ],
      "text/plain": [
       "<IPython.core.display.HTML object>"
      ]
     },
     "metadata": {},
     "output_type": "display_data"
    },
    {
     "data": {
      "text/html": [
       "Total time: 05:53 <p><table style='width:375px; margin-bottom:10px'>\n",
       "  <tr>\n",
       "    <th>epoch</th>\n",
       "    <th>train_loss</th>\n",
       "    <th>valid_loss</th>\n",
       "    <th>error_rate</th>\n",
       "    <th>time</th>\n",
       "  </tr>\n",
       "  <tr>\n",
       "    <th>0</th>\n",
       "    <th>0.884146</th>\n",
       "    <th>0.786321</th>\n",
       "    <th>0.403662</th>\n",
       "    <th>01:28</th>\n",
       "  </tr>\n",
       "  <tr>\n",
       "    <th>1</th>\n",
       "    <th>0.683822</th>\n",
       "    <th>0.646053</th>\n",
       "    <th>0.366173</th>\n",
       "    <th>01:27</th>\n",
       "  </tr>\n",
       "  <tr>\n",
       "    <th>2</th>\n",
       "    <th>0.567012</th>\n",
       "    <th>0.658578</th>\n",
       "    <th>0.349608</th>\n",
       "    <th>01:28</th>\n",
       "  </tr>\n",
       "  <tr>\n",
       "    <th>3</th>\n",
       "    <th>0.469873</th>\n",
       "    <th>0.664701</th>\n",
       "    <th>0.347864</th>\n",
       "    <th>01:28</th>\n",
       "  </tr>\n",
       "</table>\n"
      ],
      "text/plain": [
       "<IPython.core.display.HTML object>"
      ]
     },
     "metadata": {},
     "output_type": "display_data"
    },
    {
     "data": {
      "text/html": [
       "Total time: 02:57 <p><table style='width:375px; margin-bottom:10px'>\n",
       "  <tr>\n",
       "    <th>epoch</th>\n",
       "    <th>train_loss</th>\n",
       "    <th>valid_loss</th>\n",
       "    <th>error_rate</th>\n",
       "    <th>time</th>\n",
       "  </tr>\n",
       "  <tr>\n",
       "    <th>0</th>\n",
       "    <th>0.419661</th>\n",
       "    <th>0.662623</th>\n",
       "    <th>0.354839</th>\n",
       "    <th>01:28</th>\n",
       "  </tr>\n",
       "  <tr>\n",
       "    <th>1</th>\n",
       "    <th>0.425156</th>\n",
       "    <th>0.665712</th>\n",
       "    <th>0.353095</th>\n",
       "    <th>01:28</th>\n",
       "  </tr>\n",
       "</table>\n"
      ],
      "text/plain": [
       "<IPython.core.display.HTML object>"
      ]
     },
     "metadata": {},
     "output_type": "display_data"
    },
    {
     "data": {
      "text/html": [
       "Total time: 05:53 <p><table style='width:375px; margin-bottom:10px'>\n",
       "  <tr>\n",
       "    <th>epoch</th>\n",
       "    <th>train_loss</th>\n",
       "    <th>valid_loss</th>\n",
       "    <th>error_rate</th>\n",
       "    <th>time</th>\n",
       "  </tr>\n",
       "  <tr>\n",
       "    <th>0</th>\n",
       "    <th>0.873410</th>\n",
       "    <th>0.746042</th>\n",
       "    <th>0.411867</th>\n",
       "    <th>01:28</th>\n",
       "  </tr>\n",
       "  <tr>\n",
       "    <th>1</th>\n",
       "    <th>0.683335</th>\n",
       "    <th>0.656460</th>\n",
       "    <th>0.381326</th>\n",
       "    <th>01:28</th>\n",
       "  </tr>\n",
       "  <tr>\n",
       "    <th>2</th>\n",
       "    <th>0.574247</th>\n",
       "    <th>0.650548</th>\n",
       "    <th>0.361257</th>\n",
       "    <th>01:28</th>\n",
       "  </tr>\n",
       "  <tr>\n",
       "    <th>3</th>\n",
       "    <th>0.478681</th>\n",
       "    <th>0.659879</th>\n",
       "    <th>0.363002</th>\n",
       "    <th>01:27</th>\n",
       "  </tr>\n",
       "</table>\n"
      ],
      "text/plain": [
       "<IPython.core.display.HTML object>"
      ]
     },
     "metadata": {},
     "output_type": "display_data"
    },
    {
     "data": {
      "text/html": [
       "Total time: 02:57 <p><table style='width:375px; margin-bottom:10px'>\n",
       "  <tr>\n",
       "    <th>epoch</th>\n",
       "    <th>train_loss</th>\n",
       "    <th>valid_loss</th>\n",
       "    <th>error_rate</th>\n",
       "    <th>time</th>\n",
       "  </tr>\n",
       "  <tr>\n",
       "    <th>0</th>\n",
       "    <th>0.433087</th>\n",
       "    <th>0.659097</th>\n",
       "    <th>0.366492</th>\n",
       "    <th>01:28</th>\n",
       "  </tr>\n",
       "  <tr>\n",
       "    <th>1</th>\n",
       "    <th>0.428717</th>\n",
       "    <th>0.659208</th>\n",
       "    <th>0.363002</th>\n",
       "    <th>01:29</th>\n",
       "  </tr>\n",
       "</table>\n"
      ],
      "text/plain": [
       "<IPython.core.display.HTML object>"
      ]
     },
     "metadata": {},
     "output_type": "display_data"
    },
    {
     "data": {
      "text/html": [
       "Total time: 05:55 <p><table style='width:375px; margin-bottom:10px'>\n",
       "  <tr>\n",
       "    <th>epoch</th>\n",
       "    <th>train_loss</th>\n",
       "    <th>valid_loss</th>\n",
       "    <th>error_rate</th>\n",
       "    <th>time</th>\n",
       "  </tr>\n",
       "  <tr>\n",
       "    <th>0</th>\n",
       "    <th>0.878265</th>\n",
       "    <th>0.765891</th>\n",
       "    <th>0.424454</th>\n",
       "    <th>01:28</th>\n",
       "  </tr>\n",
       "  <tr>\n",
       "    <th>1</th>\n",
       "    <th>0.680604</th>\n",
       "    <th>0.615030</th>\n",
       "    <th>0.336245</th>\n",
       "    <th>01:29</th>\n",
       "  </tr>\n",
       "  <tr>\n",
       "    <th>2</th>\n",
       "    <th>0.581645</th>\n",
       "    <th>0.622468</th>\n",
       "    <th>0.335371</th>\n",
       "    <th>01:29</th>\n",
       "  </tr>\n",
       "  <tr>\n",
       "    <th>3</th>\n",
       "    <th>0.486986</th>\n",
       "    <th>0.618407</th>\n",
       "    <th>0.323144</th>\n",
       "    <th>01:28</th>\n",
       "  </tr>\n",
       "</table>\n"
      ],
      "text/plain": [
       "<IPython.core.display.HTML object>"
      ]
     },
     "metadata": {},
     "output_type": "display_data"
    },
    {
     "data": {
      "text/html": [
       "Total time: 02:57 <p><table style='width:375px; margin-bottom:10px'>\n",
       "  <tr>\n",
       "    <th>epoch</th>\n",
       "    <th>train_loss</th>\n",
       "    <th>valid_loss</th>\n",
       "    <th>error_rate</th>\n",
       "    <th>time</th>\n",
       "  </tr>\n",
       "  <tr>\n",
       "    <th>0</th>\n",
       "    <th>0.430614</th>\n",
       "    <th>0.618245</th>\n",
       "    <th>0.327511</th>\n",
       "    <th>01:28</th>\n",
       "  </tr>\n",
       "  <tr>\n",
       "    <th>1</th>\n",
       "    <th>0.433787</th>\n",
       "    <th>0.619472</th>\n",
       "    <th>0.327511</th>\n",
       "    <th>01:28</th>\n",
       "  </tr>\n",
       "</table>\n"
      ],
      "text/plain": [
       "<IPython.core.display.HTML object>"
      ]
     },
     "metadata": {},
     "output_type": "display_data"
    },
    {
     "data": {
      "text/html": [
       "Total time: 05:53 <p><table style='width:375px; margin-bottom:10px'>\n",
       "  <tr>\n",
       "    <th>epoch</th>\n",
       "    <th>train_loss</th>\n",
       "    <th>valid_loss</th>\n",
       "    <th>error_rate</th>\n",
       "    <th>time</th>\n",
       "  </tr>\n",
       "  <tr>\n",
       "    <th>0</th>\n",
       "    <th>0.837265</th>\n",
       "    <th>0.714972</th>\n",
       "    <th>0.406794</th>\n",
       "    <th>01:28</th>\n",
       "  </tr>\n",
       "  <tr>\n",
       "    <th>1</th>\n",
       "    <th>0.660392</th>\n",
       "    <th>0.657451</th>\n",
       "    <th>0.376307</th>\n",
       "    <th>01:28</th>\n",
       "  </tr>\n",
       "  <tr>\n",
       "    <th>2</th>\n",
       "    <th>0.567578</th>\n",
       "    <th>0.659028</th>\n",
       "    <th>0.364112</th>\n",
       "    <th>01:28</th>\n",
       "  </tr>\n",
       "  <tr>\n",
       "    <th>3</th>\n",
       "    <th>0.473966</th>\n",
       "    <th>0.665227</th>\n",
       "    <th>0.365854</th>\n",
       "    <th>01:28</th>\n",
       "  </tr>\n",
       "</table>\n"
      ],
      "text/plain": [
       "<IPython.core.display.HTML object>"
      ]
     },
     "metadata": {},
     "output_type": "display_data"
    },
    {
     "data": {
      "text/html": [
       "Total time: 02:57 <p><table style='width:375px; margin-bottom:10px'>\n",
       "  <tr>\n",
       "    <th>epoch</th>\n",
       "    <th>train_loss</th>\n",
       "    <th>valid_loss</th>\n",
       "    <th>error_rate</th>\n",
       "    <th>time</th>\n",
       "  </tr>\n",
       "  <tr>\n",
       "    <th>0</th>\n",
       "    <th>0.415946</th>\n",
       "    <th>0.663580</th>\n",
       "    <th>0.364112</th>\n",
       "    <th>01:29</th>\n",
       "  </tr>\n",
       "  <tr>\n",
       "    <th>1</th>\n",
       "    <th>0.413392</th>\n",
       "    <th>0.666403</th>\n",
       "    <th>0.364112</th>\n",
       "    <th>01:28</th>\n",
       "  </tr>\n",
       "</table>\n"
      ],
      "text/plain": [
       "<IPython.core.display.HTML object>"
      ]
     },
     "metadata": {},
     "output_type": "display_data"
    },
    {
     "data": {
      "text/html": [
       "Total time: 05:55 <p><table style='width:375px; margin-bottom:10px'>\n",
       "  <tr>\n",
       "    <th>epoch</th>\n",
       "    <th>train_loss</th>\n",
       "    <th>valid_loss</th>\n",
       "    <th>error_rate</th>\n",
       "    <th>time</th>\n",
       "  </tr>\n",
       "  <tr>\n",
       "    <th>0</th>\n",
       "    <th>0.863463</th>\n",
       "    <th>0.741126</th>\n",
       "    <th>0.385689</th>\n",
       "    <th>01:28</th>\n",
       "  </tr>\n",
       "  <tr>\n",
       "    <th>1</th>\n",
       "    <th>0.671060</th>\n",
       "    <th>0.660717</th>\n",
       "    <th>0.361257</th>\n",
       "    <th>01:29</th>\n",
       "  </tr>\n",
       "  <tr>\n",
       "    <th>2</th>\n",
       "    <th>0.583849</th>\n",
       "    <th>0.655590</th>\n",
       "    <th>0.369110</th>\n",
       "    <th>01:28</th>\n",
       "  </tr>\n",
       "  <tr>\n",
       "    <th>3</th>\n",
       "    <th>0.477961</th>\n",
       "    <th>0.654601</th>\n",
       "    <th>0.358639</th>\n",
       "    <th>01:28</th>\n",
       "  </tr>\n",
       "</table>\n"
      ],
      "text/plain": [
       "<IPython.core.display.HTML object>"
      ]
     },
     "metadata": {},
     "output_type": "display_data"
    },
    {
     "data": {
      "text/html": [
       "Total time: 02:57 <p><table style='width:375px; margin-bottom:10px'>\n",
       "  <tr>\n",
       "    <th>epoch</th>\n",
       "    <th>train_loss</th>\n",
       "    <th>valid_loss</th>\n",
       "    <th>error_rate</th>\n",
       "    <th>time</th>\n",
       "  </tr>\n",
       "  <tr>\n",
       "    <th>0</th>\n",
       "    <th>0.429370</th>\n",
       "    <th>0.661154</th>\n",
       "    <th>0.360384</th>\n",
       "    <th>01:28</th>\n",
       "  </tr>\n",
       "  <tr>\n",
       "    <th>1</th>\n",
       "    <th>0.423540</th>\n",
       "    <th>0.657016</th>\n",
       "    <th>0.360384</th>\n",
       "    <th>01:28</th>\n",
       "  </tr>\n",
       "</table>\n"
      ],
      "text/plain": [
       "<IPython.core.display.HTML object>"
      ]
     },
     "metadata": {},
     "output_type": "display_data"
    },
    {
     "data": {
      "text/html": [
       "Total time: 05:54 <p><table style='width:375px; margin-bottom:10px'>\n",
       "  <tr>\n",
       "    <th>epoch</th>\n",
       "    <th>train_loss</th>\n",
       "    <th>valid_loss</th>\n",
       "    <th>error_rate</th>\n",
       "    <th>time</th>\n",
       "  </tr>\n",
       "  <tr>\n",
       "    <th>0</th>\n",
       "    <th>0.850942</th>\n",
       "    <th>0.729819</th>\n",
       "    <th>0.390925</th>\n",
       "    <th>01:29</th>\n",
       "  </tr>\n",
       "  <tr>\n",
       "    <th>1</th>\n",
       "    <th>0.683475</th>\n",
       "    <th>0.658134</th>\n",
       "    <th>0.369983</th>\n",
       "    <th>01:28</th>\n",
       "  </tr>\n",
       "  <tr>\n",
       "    <th>2</th>\n",
       "    <th>0.574554</th>\n",
       "    <th>0.645685</th>\n",
       "    <th>0.356894</th>\n",
       "    <th>01:28</th>\n",
       "  </tr>\n",
       "  <tr>\n",
       "    <th>3</th>\n",
       "    <th>0.478675</th>\n",
       "    <th>0.647886</th>\n",
       "    <th>0.344677</th>\n",
       "    <th>01:28</th>\n",
       "  </tr>\n",
       "</table>\n"
      ],
      "text/plain": [
       "<IPython.core.display.HTML object>"
      ]
     },
     "metadata": {},
     "output_type": "display_data"
    },
    {
     "data": {
      "text/html": [
       "Total time: 02:56 <p><table style='width:375px; margin-bottom:10px'>\n",
       "  <tr>\n",
       "    <th>epoch</th>\n",
       "    <th>train_loss</th>\n",
       "    <th>valid_loss</th>\n",
       "    <th>error_rate</th>\n",
       "    <th>time</th>\n",
       "  </tr>\n",
       "  <tr>\n",
       "    <th>0</th>\n",
       "    <th>0.432182</th>\n",
       "    <th>0.648075</th>\n",
       "    <th>0.352531</th>\n",
       "    <th>01:28</th>\n",
       "  </tr>\n",
       "  <tr>\n",
       "    <th>1</th>\n",
       "    <th>0.422844</th>\n",
       "    <th>0.649062</th>\n",
       "    <th>0.342932</th>\n",
       "    <th>01:28</th>\n",
       "  </tr>\n",
       "</table>\n"
      ],
      "text/plain": [
       "<IPython.core.display.HTML object>"
      ]
     },
     "metadata": {},
     "output_type": "display_data"
    },
    {
     "data": {
      "text/html": [
       "Total time: 05:53 <p><table style='width:375px; margin-bottom:10px'>\n",
       "  <tr>\n",
       "    <th>epoch</th>\n",
       "    <th>train_loss</th>\n",
       "    <th>valid_loss</th>\n",
       "    <th>error_rate</th>\n",
       "    <th>time</th>\n",
       "  </tr>\n",
       "  <tr>\n",
       "    <th>0</th>\n",
       "    <th>0.900402</th>\n",
       "    <th>0.732139</th>\n",
       "    <th>0.398084</th>\n",
       "    <th>01:28</th>\n",
       "  </tr>\n",
       "  <tr>\n",
       "    <th>1</th>\n",
       "    <th>0.685833</th>\n",
       "    <th>0.639071</th>\n",
       "    <th>0.352787</th>\n",
       "    <th>01:28</th>\n",
       "  </tr>\n",
       "  <tr>\n",
       "    <th>2</th>\n",
       "    <th>0.570604</th>\n",
       "    <th>0.673653</th>\n",
       "    <th>0.381533</th>\n",
       "    <th>01:28</th>\n",
       "  </tr>\n",
       "  <tr>\n",
       "    <th>3</th>\n",
       "    <th>0.476356</th>\n",
       "    <th>0.663669</th>\n",
       "    <th>0.359756</th>\n",
       "    <th>01:28</th>\n",
       "  </tr>\n",
       "</table>\n"
      ],
      "text/plain": [
       "<IPython.core.display.HTML object>"
      ]
     },
     "metadata": {},
     "output_type": "display_data"
    },
    {
     "data": {
      "text/html": [
       "Total time: 02:56 <p><table style='width:375px; margin-bottom:10px'>\n",
       "  <tr>\n",
       "    <th>epoch</th>\n",
       "    <th>train_loss</th>\n",
       "    <th>valid_loss</th>\n",
       "    <th>error_rate</th>\n",
       "    <th>time</th>\n",
       "  </tr>\n",
       "  <tr>\n",
       "    <th>0</th>\n",
       "    <th>0.425720</th>\n",
       "    <th>0.662153</th>\n",
       "    <th>0.357143</th>\n",
       "    <th>01:28</th>\n",
       "  </tr>\n",
       "  <tr>\n",
       "    <th>1</th>\n",
       "    <th>0.429233</th>\n",
       "    <th>0.661929</th>\n",
       "    <th>0.355401</th>\n",
       "    <th>01:28</th>\n",
       "  </tr>\n",
       "</table>\n"
      ],
      "text/plain": [
       "<IPython.core.display.HTML object>"
      ]
     },
     "metadata": {},
     "output_type": "display_data"
    },
    {
     "data": {
      "text/html": [
       "Total time: 05:53 <p><table style='width:375px; margin-bottom:10px'>\n",
       "  <tr>\n",
       "    <th>epoch</th>\n",
       "    <th>train_loss</th>\n",
       "    <th>valid_loss</th>\n",
       "    <th>error_rate</th>\n",
       "    <th>time</th>\n",
       "  </tr>\n",
       "  <tr>\n",
       "    <th>0</th>\n",
       "    <th>0.901545</th>\n",
       "    <th>0.727098</th>\n",
       "    <th>0.369338</th>\n",
       "    <th>01:28</th>\n",
       "  </tr>\n",
       "  <tr>\n",
       "    <th>1</th>\n",
       "    <th>0.701775</th>\n",
       "    <th>0.631525</th>\n",
       "    <th>0.338850</th>\n",
       "    <th>01:28</th>\n",
       "  </tr>\n",
       "  <tr>\n",
       "    <th>2</th>\n",
       "    <th>0.571014</th>\n",
       "    <th>0.658585</th>\n",
       "    <th>0.356272</th>\n",
       "    <th>01:27</th>\n",
       "  </tr>\n",
       "  <tr>\n",
       "    <th>3</th>\n",
       "    <th>0.480911</th>\n",
       "    <th>0.648149</th>\n",
       "    <th>0.350174</th>\n",
       "    <th>01:28</th>\n",
       "  </tr>\n",
       "</table>\n"
      ],
      "text/plain": [
       "<IPython.core.display.HTML object>"
      ]
     },
     "metadata": {},
     "output_type": "display_data"
    },
    {
     "data": {
      "text/html": [
       "Total time: 02:57 <p><table style='width:375px; margin-bottom:10px'>\n",
       "  <tr>\n",
       "    <th>epoch</th>\n",
       "    <th>train_loss</th>\n",
       "    <th>valid_loss</th>\n",
       "    <th>error_rate</th>\n",
       "    <th>time</th>\n",
       "  </tr>\n",
       "  <tr>\n",
       "    <th>0</th>\n",
       "    <th>0.435926</th>\n",
       "    <th>0.650286</th>\n",
       "    <th>0.350174</th>\n",
       "    <th>01:28</th>\n",
       "  </tr>\n",
       "  <tr>\n",
       "    <th>1</th>\n",
       "    <th>0.436065</th>\n",
       "    <th>0.649460</th>\n",
       "    <th>0.351045</th>\n",
       "    <th>01:28</th>\n",
       "  </tr>\n",
       "</table>\n"
      ],
      "text/plain": [
       "<IPython.core.display.HTML object>"
      ]
     },
     "metadata": {},
     "output_type": "display_data"
    },
    {
     "data": {
      "text/html": [
       "Total time: 06:09 <p><table style='width:375px; margin-bottom:10px'>\n",
       "  <tr>\n",
       "    <th>epoch</th>\n",
       "    <th>train_loss</th>\n",
       "    <th>valid_loss</th>\n",
       "    <th>error_rate</th>\n",
       "    <th>time</th>\n",
       "  </tr>\n",
       "  <tr>\n",
       "    <th>0</th>\n",
       "    <th>0.856288</th>\n",
       "    <th>0.707177</th>\n",
       "    <th>0.424191</th>\n",
       "    <th>01:35</th>\n",
       "  </tr>\n",
       "  <tr>\n",
       "    <th>1</th>\n",
       "    <th>0.662028</th>\n",
       "    <th>0.672102</th>\n",
       "    <th>0.365417</th>\n",
       "    <th>01:31</th>\n",
       "  </tr>\n",
       "  <tr>\n",
       "    <th>2</th>\n",
       "    <th>0.563375</th>\n",
       "    <th>0.662915</th>\n",
       "    <th>0.379898</th>\n",
       "    <th>01:31</th>\n",
       "  </tr>\n",
       "  <tr>\n",
       "    <th>3</th>\n",
       "    <th>0.472386</th>\n",
       "    <th>0.666071</th>\n",
       "    <th>0.367973</th>\n",
       "    <th>01:31</th>\n",
       "  </tr>\n",
       "</table>\n"
      ],
      "text/plain": [
       "<IPython.core.display.HTML object>"
      ]
     },
     "metadata": {},
     "output_type": "display_data"
    },
    {
     "data": {
      "text/html": [
       "Total time: 03:02 <p><table style='width:375px; margin-bottom:10px'>\n",
       "  <tr>\n",
       "    <th>epoch</th>\n",
       "    <th>train_loss</th>\n",
       "    <th>valid_loss</th>\n",
       "    <th>error_rate</th>\n",
       "    <th>time</th>\n",
       "  </tr>\n",
       "  <tr>\n",
       "    <th>0</th>\n",
       "    <th>0.410403</th>\n",
       "    <th>0.665105</th>\n",
       "    <th>0.366269</th>\n",
       "    <th>01:31</th>\n",
       "  </tr>\n",
       "  <tr>\n",
       "    <th>1</th>\n",
       "    <th>0.417724</th>\n",
       "    <th>0.664892</th>\n",
       "    <th>0.368825</th>\n",
       "    <th>01:31</th>\n",
       "  </tr>\n",
       "</table>\n"
      ],
      "text/plain": [
       "<IPython.core.display.HTML object>"
      ]
     },
     "metadata": {},
     "output_type": "display_data"
    },
    {
     "data": {
      "text/html": [
       "Total time: 05:55 <p><table style='width:375px; margin-bottom:10px'>\n",
       "  <tr>\n",
       "    <th>epoch</th>\n",
       "    <th>train_loss</th>\n",
       "    <th>valid_loss</th>\n",
       "    <th>error_rate</th>\n",
       "    <th>time</th>\n",
       "  </tr>\n",
       "  <tr>\n",
       "    <th>0</th>\n",
       "    <th>0.869285</th>\n",
       "    <th>0.729902</th>\n",
       "    <th>0.410995</th>\n",
       "    <th>01:28</th>\n",
       "  </tr>\n",
       "  <tr>\n",
       "    <th>1</th>\n",
       "    <th>0.673541</th>\n",
       "    <th>0.662941</th>\n",
       "    <th>0.374346</th>\n",
       "    <th>01:28</th>\n",
       "  </tr>\n",
       "  <tr>\n",
       "    <th>2</th>\n",
       "    <th>0.569183</th>\n",
       "    <th>0.669990</th>\n",
       "    <th>0.368237</th>\n",
       "    <th>01:28</th>\n",
       "  </tr>\n",
       "  <tr>\n",
       "    <th>3</th>\n",
       "    <th>0.474060</th>\n",
       "    <th>0.672164</th>\n",
       "    <th>0.356894</th>\n",
       "    <th>01:28</th>\n",
       "  </tr>\n",
       "</table>\n"
      ],
      "text/plain": [
       "<IPython.core.display.HTML object>"
      ]
     },
     "metadata": {},
     "output_type": "display_data"
    },
    {
     "data": {
      "text/html": [
       "Total time: 02:56 <p><table style='width:375px; margin-bottom:10px'>\n",
       "  <tr>\n",
       "    <th>epoch</th>\n",
       "    <th>train_loss</th>\n",
       "    <th>valid_loss</th>\n",
       "    <th>error_rate</th>\n",
       "    <th>time</th>\n",
       "  </tr>\n",
       "  <tr>\n",
       "    <th>0</th>\n",
       "    <th>0.424807</th>\n",
       "    <th>0.672078</th>\n",
       "    <th>0.356021</th>\n",
       "    <th>01:28</th>\n",
       "  </tr>\n",
       "  <tr>\n",
       "    <th>1</th>\n",
       "    <th>0.429608</th>\n",
       "    <th>0.672789</th>\n",
       "    <th>0.357766</th>\n",
       "    <th>01:28</th>\n",
       "  </tr>\n",
       "</table>\n"
      ],
      "text/plain": [
       "<IPython.core.display.HTML object>"
      ]
     },
     "metadata": {},
     "output_type": "display_data"
    },
    {
     "data": {
      "text/html": [
       "Total time: 05:53 <p><table style='width:375px; margin-bottom:10px'>\n",
       "  <tr>\n",
       "    <th>epoch</th>\n",
       "    <th>train_loss</th>\n",
       "    <th>valid_loss</th>\n",
       "    <th>error_rate</th>\n",
       "    <th>time</th>\n",
       "  </tr>\n",
       "  <tr>\n",
       "    <th>0</th>\n",
       "    <th>0.836828</th>\n",
       "    <th>0.693615</th>\n",
       "    <th>0.391645</th>\n",
       "    <th>01:28</th>\n",
       "  </tr>\n",
       "  <tr>\n",
       "    <th>1</th>\n",
       "    <th>0.663674</th>\n",
       "    <th>0.683411</th>\n",
       "    <th>0.386423</th>\n",
       "    <th>01:28</th>\n",
       "  </tr>\n",
       "  <tr>\n",
       "    <th>2</th>\n",
       "    <th>0.561393</th>\n",
       "    <th>0.668612</th>\n",
       "    <th>0.352480</th>\n",
       "    <th>01:28</th>\n",
       "  </tr>\n",
       "  <tr>\n",
       "    <th>3</th>\n",
       "    <th>0.458940</th>\n",
       "    <th>0.683133</th>\n",
       "    <th>0.345518</th>\n",
       "    <th>01:28</th>\n",
       "  </tr>\n",
       "</table>\n"
      ],
      "text/plain": [
       "<IPython.core.display.HTML object>"
      ]
     },
     "metadata": {},
     "output_type": "display_data"
    },
    {
     "data": {
      "text/html": [
       "Total time: 02:57 <p><table style='width:375px; margin-bottom:10px'>\n",
       "  <tr>\n",
       "    <th>epoch</th>\n",
       "    <th>train_loss</th>\n",
       "    <th>valid_loss</th>\n",
       "    <th>error_rate</th>\n",
       "    <th>time</th>\n",
       "  </tr>\n",
       "  <tr>\n",
       "    <th>0</th>\n",
       "    <th>0.401310</th>\n",
       "    <th>0.683820</th>\n",
       "    <th>0.343777</th>\n",
       "    <th>01:28</th>\n",
       "  </tr>\n",
       "  <tr>\n",
       "    <th>1</th>\n",
       "    <th>0.407458</th>\n",
       "    <th>0.682022</th>\n",
       "    <th>0.346388</th>\n",
       "    <th>01:29</th>\n",
       "  </tr>\n",
       "</table>\n"
      ],
      "text/plain": [
       "<IPython.core.display.HTML object>"
      ]
     },
     "metadata": {},
     "output_type": "display_data"
    },
    {
     "data": {
      "text/html": [
       "Total time: 05:54 <p><table style='width:375px; margin-bottom:10px'>\n",
       "  <tr>\n",
       "    <th>epoch</th>\n",
       "    <th>train_loss</th>\n",
       "    <th>valid_loss</th>\n",
       "    <th>error_rate</th>\n",
       "    <th>time</th>\n",
       "  </tr>\n",
       "  <tr>\n",
       "    <th>0</th>\n",
       "    <th>0.867685</th>\n",
       "    <th>0.718808</th>\n",
       "    <th>0.400524</th>\n",
       "    <th>01:28</th>\n",
       "  </tr>\n",
       "  <tr>\n",
       "    <th>1</th>\n",
       "    <th>0.664793</th>\n",
       "    <th>0.656487</th>\n",
       "    <th>0.384817</th>\n",
       "    <th>01:28</th>\n",
       "  </tr>\n",
       "  <tr>\n",
       "    <th>2</th>\n",
       "    <th>0.565020</th>\n",
       "    <th>0.670814</th>\n",
       "    <th>0.359511</th>\n",
       "    <th>01:28</th>\n",
       "  </tr>\n",
       "  <tr>\n",
       "    <th>3</th>\n",
       "    <th>0.463938</th>\n",
       "    <th>0.671523</th>\n",
       "    <th>0.366492</th>\n",
       "    <th>01:28</th>\n",
       "  </tr>\n",
       "</table>\n"
      ],
      "text/plain": [
       "<IPython.core.display.HTML object>"
      ]
     },
     "metadata": {},
     "output_type": "display_data"
    },
    {
     "data": {
      "text/html": [
       "Total time: 02:57 <p><table style='width:375px; margin-bottom:10px'>\n",
       "  <tr>\n",
       "    <th>epoch</th>\n",
       "    <th>train_loss</th>\n",
       "    <th>valid_loss</th>\n",
       "    <th>error_rate</th>\n",
       "    <th>time</th>\n",
       "  </tr>\n",
       "  <tr>\n",
       "    <th>0</th>\n",
       "    <th>0.408232</th>\n",
       "    <th>0.671517</th>\n",
       "    <th>0.363874</th>\n",
       "    <th>01:28</th>\n",
       "  </tr>\n",
       "  <tr>\n",
       "    <th>1</th>\n",
       "    <th>0.407399</th>\n",
       "    <th>0.671822</th>\n",
       "    <th>0.365620</th>\n",
       "    <th>01:28</th>\n",
       "  </tr>\n",
       "</table>\n"
      ],
      "text/plain": [
       "<IPython.core.display.HTML object>"
      ]
     },
     "metadata": {},
     "output_type": "display_data"
    },
    {
     "data": {
      "text/html": [
       "Total time: 05:55 <p><table style='width:375px; margin-bottom:10px'>\n",
       "  <tr>\n",
       "    <th>epoch</th>\n",
       "    <th>train_loss</th>\n",
       "    <th>valid_loss</th>\n",
       "    <th>error_rate</th>\n",
       "    <th>time</th>\n",
       "  </tr>\n",
       "  <tr>\n",
       "    <th>0</th>\n",
       "    <th>0.859304</th>\n",
       "    <th>0.721990</th>\n",
       "    <th>0.388502</th>\n",
       "    <th>01:28</th>\n",
       "  </tr>\n",
       "  <tr>\n",
       "    <th>1</th>\n",
       "    <th>0.660472</th>\n",
       "    <th>0.688774</th>\n",
       "    <th>0.367596</th>\n",
       "    <th>01:28</th>\n",
       "  </tr>\n",
       "  <tr>\n",
       "    <th>2</th>\n",
       "    <th>0.558073</th>\n",
       "    <th>0.687020</th>\n",
       "    <th>0.378920</th>\n",
       "    <th>01:28</th>\n",
       "  </tr>\n",
       "  <tr>\n",
       "    <th>3</th>\n",
       "    <th>0.468061</th>\n",
       "    <th>0.684692</th>\n",
       "    <th>0.367596</th>\n",
       "    <th>01:28</th>\n",
       "  </tr>\n",
       "</table>\n"
      ],
      "text/plain": [
       "<IPython.core.display.HTML object>"
      ]
     },
     "metadata": {},
     "output_type": "display_data"
    },
    {
     "data": {
      "text/html": [
       "Total time: 02:57 <p><table style='width:375px; margin-bottom:10px'>\n",
       "  <tr>\n",
       "    <th>epoch</th>\n",
       "    <th>train_loss</th>\n",
       "    <th>valid_loss</th>\n",
       "    <th>error_rate</th>\n",
       "    <th>time</th>\n",
       "  </tr>\n",
       "  <tr>\n",
       "    <th>0</th>\n",
       "    <th>0.416230</th>\n",
       "    <th>0.684358</th>\n",
       "    <th>0.364983</th>\n",
       "    <th>01:28</th>\n",
       "  </tr>\n",
       "  <tr>\n",
       "    <th>1</th>\n",
       "    <th>0.407393</th>\n",
       "    <th>0.683380</th>\n",
       "    <th>0.368467</th>\n",
       "    <th>01:28</th>\n",
       "  </tr>\n",
       "</table>\n"
      ],
      "text/plain": [
       "<IPython.core.display.HTML object>"
      ]
     },
     "metadata": {},
     "output_type": "display_data"
    },
    {
     "data": {
      "text/html": [
       "Total time: 05:55 <p><table style='width:375px; margin-bottom:10px'>\n",
       "  <tr>\n",
       "    <th>epoch</th>\n",
       "    <th>train_loss</th>\n",
       "    <th>valid_loss</th>\n",
       "    <th>error_rate</th>\n",
       "    <th>time</th>\n",
       "  </tr>\n",
       "  <tr>\n",
       "    <th>0</th>\n",
       "    <th>0.855720</th>\n",
       "    <th>0.771144</th>\n",
       "    <th>0.404534</th>\n",
       "    <th>01:28</th>\n",
       "  </tr>\n",
       "  <tr>\n",
       "    <th>1</th>\n",
       "    <th>0.677022</th>\n",
       "    <th>0.669627</th>\n",
       "    <th>0.360942</th>\n",
       "    <th>01:29</th>\n",
       "  </tr>\n",
       "  <tr>\n",
       "    <th>2</th>\n",
       "    <th>0.574193</th>\n",
       "    <th>0.662448</th>\n",
       "    <th>0.350480</th>\n",
       "    <th>01:28</th>\n",
       "  </tr>\n",
       "  <tr>\n",
       "    <th>3</th>\n",
       "    <th>0.475137</th>\n",
       "    <th>0.663719</th>\n",
       "    <th>0.349608</th>\n",
       "    <th>01:28</th>\n",
       "  </tr>\n",
       "</table>\n"
      ],
      "text/plain": [
       "<IPython.core.display.HTML object>"
      ]
     },
     "metadata": {},
     "output_type": "display_data"
    },
    {
     "data": {
      "text/html": [
       "Total time: 02:57 <p><table style='width:375px; margin-bottom:10px'>\n",
       "  <tr>\n",
       "    <th>epoch</th>\n",
       "    <th>train_loss</th>\n",
       "    <th>valid_loss</th>\n",
       "    <th>error_rate</th>\n",
       "    <th>time</th>\n",
       "  </tr>\n",
       "  <tr>\n",
       "    <th>0</th>\n",
       "    <th>0.421268</th>\n",
       "    <th>0.664849</th>\n",
       "    <th>0.354839</th>\n",
       "    <th>01:28</th>\n",
       "  </tr>\n",
       "  <tr>\n",
       "    <th>1</th>\n",
       "    <th>0.428652</th>\n",
       "    <th>0.664130</th>\n",
       "    <th>0.349608</th>\n",
       "    <th>01:28</th>\n",
       "  </tr>\n",
       "</table>\n"
      ],
      "text/plain": [
       "<IPython.core.display.HTML object>"
      ]
     },
     "metadata": {},
     "output_type": "display_data"
    }
   ],
   "source": [
    "for n in subjectlist_nomeds:\n",
    "\n",
    "    #removes child n GASFs from nomeds list\n",
    "    blinded_file_list = generate_data_withoutchild(n)\n",
    "\n",
    "    #creates a databunch without child n\n",
    "    data = (ImageList(blinded_file_list)\n",
    "            .split_by_rand_pct(0.2)\n",
    "            .label_from_func(get_float_labels)\n",
    "            .transform(tfms, size=224)\n",
    "            .databunch())\n",
    "\n",
    "    #trains a new model, naive to child n trials\n",
    "    learn = cnn_learner(data, models.resnet50, metrics=error_rate)\n",
    "    learn.fit_one_cycle(4)\n",
    "    learn.fit_one_cycle(2, max_lr=2e-6)\n",
    "    learn.save('intheblind_'+str(n))\n",
    "\n",
    "    #reintroduces child n GASFs\n",
    "    child_n_trial_paths = collectpathsofsubject(n)\n",
    "    predictionslist_n = givepredictionslistfromchildpaths(childpaths=child_n_trial_paths)\n",
    "    ratio_ADHD_to_all_preds = predictionslist_n.count('off-ADHD')/len(predictionslist_n)\n",
    "    class_n = get_float_labels(child_n_trial_paths[0])\n",
    "    subject_class_ratio_tuple = (n,class_n,ratio_ADHD_to_all_preds)\n",
    "\n",
    "\n",
    "    subject_class_ratio_tuple\n",
    "\n",
    "    with open('InTheBlind/'+str(n), 'w') as myfile:\n",
    "        wr = csv.writer(myfile, quoting=csv.QUOTE_ALL)\n",
    "        wr.writerow(subject_class_ratio_tuple)\n",
    "\n",
    "    subject_class_ratio_tuple_list.append(subject_class_ratio_tuple)\n",
    "\n",
    "with open('InTheBlind/full_list.txt', 'w') as myfile:\n",
    "    wr = csv.writer(myfile, quoting=csv.QUOTE_ALL)\n",
    "    wr.writerow(subject_class_ratio_tuple_list)"
   ]
  },
  {
   "cell_type": "code",
   "execution_count": null,
   "metadata": {},
   "outputs": [],
   "source": []
  }
 ],
 "metadata": {
  "kernelspec": {
   "display_name": "pytorch_fastai",
   "language": "python",
   "name": "python3"
  },
  "language_info": {
   "codemirror_mode": {
    "name": "ipython",
    "version": 3
   },
   "file_extension": ".py",
   "mimetype": "text/x-python",
   "name": "python",
   "nbconvert_exporter": "python",
   "pygments_lexer": "ipython3",
   "version": "3.7.1"
  },
  "varInspector": {
   "cols": {
    "lenName": 16,
    "lenType": 16,
    "lenVar": 40
   },
   "kernels_config": {
    "python": {
     "delete_cmd_postfix": "",
     "delete_cmd_prefix": "del ",
     "library": "var_list.py",
     "varRefreshCmd": "print(var_dic_list())"
    },
    "r": {
     "delete_cmd_postfix": ") ",
     "delete_cmd_prefix": "rm(",
     "library": "var_list.r",
     "varRefreshCmd": "cat(var_dic_list()) "
    }
   },
   "types_to_exclude": [
    "module",
    "function",
    "builtin_function_or_method",
    "instance",
    "_Feature"
   ],
   "window_display": false
  }
 },
 "nbformat": 4,
 "nbformat_minor": 2
}
