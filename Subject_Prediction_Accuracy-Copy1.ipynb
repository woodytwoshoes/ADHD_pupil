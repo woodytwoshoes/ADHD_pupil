{
 "cells": [
  {
   "cell_type": "code",
   "execution_count": 1,
   "metadata": {},
   "outputs": [],
   "source": [
    "from fastai.vision import *"
   ]
  },
  {
   "cell_type": "code",
   "execution_count": 2,
   "metadata": {},
   "outputs": [],
   "source": [
    "path = Path('GASF')"
   ]
  },
  {
   "cell_type": "code",
   "execution_count": 3,
   "metadata": {},
   "outputs": [],
   "source": [
    "np.random.seed(42)\n",
    "tfms = [[],[]]\n",
    "fnames = get_image_files(path)\n",
    "fnames_nomeds = []\n",
    "for onefile in fnames:\n",
    "    if \"on-ADHD\" not in onefile.parts[-1]:\n",
    "        fnames_nomeds.append(onefile)\n",
    "\n"
   ]
  },
  {
   "cell_type": "code",
   "execution_count": 4,
   "metadata": {},
   "outputs": [],
   "source": [
    "def get_float_labels(y):\n",
    "    label = ((y.parts[-1].split('_')[-1]).split('.')[0])\n",
    "    return label"
   ]
  },
  {
   "cell_type": "code",
   "execution_count": 5,
   "metadata": {},
   "outputs": [],
   "source": [
    "def get_subject_label(y):\n",
    "    label = ((y.parts[-1].split('_')[-3]).split('.')[0])\n",
    "    return label"
   ]
  },
  {
   "cell_type": "code",
   "execution_count": 6,
   "metadata": {},
   "outputs": [],
   "source": [
    "def get_subject_trial(y):\n",
    "    label = ((y.parts[-1].split('_')[-2]).split('.')[0])\n",
    "    return label"
   ]
  },
  {
   "cell_type": "code",
   "execution_count": 47,
   "metadata": {},
   "outputs": [
    {
     "data": {
      "text/plain": [
       "PosixPath('GASF/interpol_sliced100_48_79_Ctrl.jpg')"
      ]
     },
     "execution_count": 47,
     "metadata": {},
     "output_type": "execute_result"
    }
   ],
   "source": [
    "exampleGASF = fnames_nomeds[0]\n",
    "y = exampleGASF\n",
    "y"
   ]
  },
  {
   "cell_type": "code",
   "execution_count": 46,
   "metadata": {},
   "outputs": [
    {
     "name": "stdout",
     "output_type": "stream",
     "text": [
      "Ctrl\n",
      "48\n",
      "79\n"
     ]
    }
   ],
   "source": [
    "print(get_float_labels(y))\n",
    "print(get_subject_label(y))\n",
    "print(get_subject_trial(y))"
   ]
  },
  {
   "cell_type": "code",
   "execution_count": 7,
   "metadata": {},
   "outputs": [],
   "source": [
    "def collectpathsofsubject(n):\n",
    "    subjectpaths = []\n",
    "    for fname in fnames_nomeds:\n",
    "        if get_subject_label(fname) == str(n):\n",
    "            subjectpaths.append(fname)\n",
    "    return subjectpaths\n",
    "        "
   ]
  },
  {
   "cell_type": "code",
   "execution_count": 50,
   "metadata": {},
   "outputs": [
    {
     "data": {
      "text/plain": [
       "[PosixPath('GASF/interpol_sliced100_1_67_off-ADHD.jpg'),\n",
       " PosixPath('GASF/interpol_sliced100_1_10_off-ADHD.jpg'),\n",
       " PosixPath('GASF/interpol_sliced100_1_25_off-ADHD.jpg'),\n",
       " PosixPath('GASF/interpol_sliced100_1_103_off-ADHD.jpg'),\n",
       " PosixPath('GASF/interpol_sliced100_1_129_off-ADHD.jpg'),\n",
       " PosixPath('GASF/interpol_sliced100_1_44_off-ADHD.jpg'),\n",
       " PosixPath('GASF/interpol_sliced100_1_55_off-ADHD.jpg'),\n",
       " PosixPath('GASF/interpol_sliced100_1_92_off-ADHD.jpg'),\n",
       " PosixPath('GASF/interpol_sliced100_1_112_off-ADHD.jpg'),\n",
       " PosixPath('GASF/interpol_sliced100_1_159_off-ADHD.jpg'),\n",
       " PosixPath('GASF/interpol_sliced100_1_149_off-ADHD.jpg'),\n",
       " PosixPath('GASF/interpol_sliced100_1_157_off-ADHD.jpg'),\n",
       " PosixPath('GASF/interpol_sliced100_1_19_off-ADHD.jpg'),\n",
       " PosixPath('GASF/interpol_sliced100_1_133_off-ADHD.jpg'),\n",
       " PosixPath('GASF/interpol_sliced100_1_113_off-ADHD.jpg'),\n",
       " PosixPath('GASF/interpol_sliced100_1_142_off-ADHD.jpg'),\n",
       " PosixPath('GASF/interpol_sliced100_1_97_off-ADHD.jpg'),\n",
       " PosixPath('GASF/interpol_sliced100_1_32_off-ADHD.jpg'),\n",
       " PosixPath('GASF/interpol_sliced100_1_130_off-ADHD.jpg'),\n",
       " PosixPath('GASF/interpol_sliced100_1_69_off-ADHD.jpg'),\n",
       " PosixPath('GASF/interpol_sliced100_1_118_off-ADHD.jpg'),\n",
       " PosixPath('GASF/interpol_sliced100_1_48_off-ADHD.jpg'),\n",
       " PosixPath('GASF/interpol_sliced100_1_66_off-ADHD.jpg'),\n",
       " PosixPath('GASF/interpol_sliced100_1_18_off-ADHD.jpg'),\n",
       " PosixPath('GASF/interpol_sliced100_1_135_off-ADHD.jpg'),\n",
       " PosixPath('GASF/interpol_sliced100_1_87_off-ADHD.jpg'),\n",
       " PosixPath('GASF/interpol_sliced100_1_102_off-ADHD.jpg'),\n",
       " PosixPath('GASF/interpol_sliced100_1_144_off-ADHD.jpg'),\n",
       " PosixPath('GASF/interpol_sliced100_1_115_off-ADHD.jpg'),\n",
       " PosixPath('GASF/interpol_sliced100_1_123_off-ADHD.jpg'),\n",
       " PosixPath('GASF/interpol_sliced100_1_17_off-ADHD.jpg'),\n",
       " PosixPath('GASF/interpol_sliced100_1_72_off-ADHD.jpg'),\n",
       " PosixPath('GASF/interpol_sliced100_1_95_off-ADHD.jpg'),\n",
       " PosixPath('GASF/interpol_sliced100_1_53_off-ADHD.jpg'),\n",
       " PosixPath('GASF/interpol_sliced100_1_28_off-ADHD.jpg'),\n",
       " PosixPath('GASF/interpol_sliced100_1_88_off-ADHD.jpg'),\n",
       " PosixPath('GASF/interpol_sliced100_1_63_off-ADHD.jpg'),\n",
       " PosixPath('GASF/interpol_sliced100_1_68_off-ADHD.jpg'),\n",
       " PosixPath('GASF/interpol_sliced100_1_15_off-ADHD.jpg'),\n",
       " PosixPath('GASF/interpol_sliced100_1_84_off-ADHD.jpg'),\n",
       " PosixPath('GASF/interpol_sliced100_1_26_off-ADHD.jpg'),\n",
       " PosixPath('GASF/interpol_sliced100_1_153_off-ADHD.jpg'),\n",
       " PosixPath('GASF/interpol_sliced100_1_147_off-ADHD.jpg'),\n",
       " PosixPath('GASF/interpol_sliced100_1_8_off-ADHD.jpg'),\n",
       " PosixPath('GASF/interpol_sliced100_1_71_off-ADHD.jpg'),\n",
       " PosixPath('GASF/interpol_sliced100_1_36_off-ADHD.jpg'),\n",
       " PosixPath('GASF/interpol_sliced100_1_155_off-ADHD.jpg'),\n",
       " PosixPath('GASF/interpol_sliced100_1_34_off-ADHD.jpg'),\n",
       " PosixPath('GASF/interpol_sliced100_1_31_off-ADHD.jpg'),\n",
       " PosixPath('GASF/interpol_sliced100_1_59_off-ADHD.jpg'),\n",
       " PosixPath('GASF/interpol_sliced100_1_94_off-ADHD.jpg'),\n",
       " PosixPath('GASF/interpol_sliced100_1_148_off-ADHD.jpg'),\n",
       " PosixPath('GASF/interpol_sliced100_1_14_off-ADHD.jpg'),\n",
       " PosixPath('GASF/interpol_sliced100_1_54_off-ADHD.jpg'),\n",
       " PosixPath('GASF/interpol_sliced100_1_46_off-ADHD.jpg'),\n",
       " PosixPath('GASF/interpol_sliced100_1_27_off-ADHD.jpg'),\n",
       " PosixPath('GASF/interpol_sliced100_1_64_off-ADHD.jpg'),\n",
       " PosixPath('GASF/interpol_sliced100_1_98_off-ADHD.jpg'),\n",
       " PosixPath('GASF/interpol_sliced100_1_82_off-ADHD.jpg'),\n",
       " PosixPath('GASF/interpol_sliced100_1_117_off-ADHD.jpg'),\n",
       " PosixPath('GASF/interpol_sliced100_1_1_off-ADHD.jpg'),\n",
       " PosixPath('GASF/interpol_sliced100_1_151_off-ADHD.jpg'),\n",
       " PosixPath('GASF/interpol_sliced100_1_83_off-ADHD.jpg'),\n",
       " PosixPath('GASF/interpol_sliced100_1_56_off-ADHD.jpg'),\n",
       " PosixPath('GASF/interpol_sliced100_1_62_off-ADHD.jpg'),\n",
       " PosixPath('GASF/interpol_sliced100_1_16_off-ADHD.jpg'),\n",
       " PosixPath('GASF/interpol_sliced100_1_96_off-ADHD.jpg'),\n",
       " PosixPath('GASF/interpol_sliced100_1_51_off-ADHD.jpg'),\n",
       " PosixPath('GASF/interpol_sliced100_1_127_off-ADHD.jpg'),\n",
       " PosixPath('GASF/interpol_sliced100_1_52_off-ADHD.jpg'),\n",
       " PosixPath('GASF/interpol_sliced100_1_70_off-ADHD.jpg'),\n",
       " PosixPath('GASF/interpol_sliced100_1_33_off-ADHD.jpg'),\n",
       " PosixPath('GASF/interpol_sliced100_1_24_off-ADHD.jpg'),\n",
       " PosixPath('GASF/interpol_sliced100_1_30_off-ADHD.jpg'),\n",
       " PosixPath('GASF/interpol_sliced100_1_132_off-ADHD.jpg'),\n",
       " PosixPath('GASF/interpol_sliced100_1_89_off-ADHD.jpg'),\n",
       " PosixPath('GASF/interpol_sliced100_1_76_off-ADHD.jpg'),\n",
       " PosixPath('GASF/interpol_sliced100_1_4_off-ADHD.jpg'),\n",
       " PosixPath('GASF/interpol_sliced100_1_6_off-ADHD.jpg'),\n",
       " PosixPath('GASF/interpol_sliced100_1_23_off-ADHD.jpg'),\n",
       " PosixPath('GASF/interpol_sliced100_1_143_off-ADHD.jpg'),\n",
       " PosixPath('GASF/interpol_sliced100_1_109_off-ADHD.jpg'),\n",
       " PosixPath('GASF/interpol_sliced100_1_156_off-ADHD.jpg'),\n",
       " PosixPath('GASF/interpol_sliced100_1_122_off-ADHD.jpg'),\n",
       " PosixPath('GASF/interpol_sliced100_1_22_off-ADHD.jpg'),\n",
       " PosixPath('GASF/interpol_sliced100_1_79_off-ADHD.jpg'),\n",
       " PosixPath('GASF/interpol_sliced100_1_124_off-ADHD.jpg'),\n",
       " PosixPath('GASF/interpol_sliced100_1_12_off-ADHD.jpg'),\n",
       " PosixPath('GASF/interpol_sliced100_1_65_off-ADHD.jpg'),\n",
       " PosixPath('GASF/interpol_sliced100_1_5_off-ADHD.jpg'),\n",
       " PosixPath('GASF/interpol_sliced100_1_58_off-ADHD.jpg'),\n",
       " PosixPath('GASF/interpol_sliced100_1_119_off-ADHD.jpg'),\n",
       " PosixPath('GASF/interpol_sliced100_1_73_off-ADHD.jpg'),\n",
       " PosixPath('GASF/interpol_sliced100_1_134_off-ADHD.jpg'),\n",
       " PosixPath('GASF/interpol_sliced100_1_137_off-ADHD.jpg'),\n",
       " PosixPath('GASF/interpol_sliced100_1_152_off-ADHD.jpg'),\n",
       " PosixPath('GASF/interpol_sliced100_1_106_off-ADHD.jpg'),\n",
       " PosixPath('GASF/interpol_sliced100_1_75_off-ADHD.jpg'),\n",
       " PosixPath('GASF/interpol_sliced100_1_50_off-ADHD.jpg'),\n",
       " PosixPath('GASF/interpol_sliced100_1_90_off-ADHD.jpg'),\n",
       " PosixPath('GASF/interpol_sliced100_1_146_off-ADHD.jpg'),\n",
       " PosixPath('GASF/interpol_sliced100_1_125_off-ADHD.jpg'),\n",
       " PosixPath('GASF/interpol_sliced100_1_57_off-ADHD.jpg'),\n",
       " PosixPath('GASF/interpol_sliced100_1_78_off-ADHD.jpg'),\n",
       " PosixPath('GASF/interpol_sliced100_1_91_off-ADHD.jpg'),\n",
       " PosixPath('GASF/interpol_sliced100_1_104_off-ADHD.jpg'),\n",
       " PosixPath('GASF/interpol_sliced100_1_49_off-ADHD.jpg'),\n",
       " PosixPath('GASF/interpol_sliced100_1_43_off-ADHD.jpg'),\n",
       " PosixPath('GASF/interpol_sliced100_1_150_off-ADHD.jpg'),\n",
       " PosixPath('GASF/interpol_sliced100_1_128_off-ADHD.jpg'),\n",
       " PosixPath('GASF/interpol_sliced100_1_39_off-ADHD.jpg'),\n",
       " PosixPath('GASF/interpol_sliced100_1_47_off-ADHD.jpg'),\n",
       " PosixPath('GASF/interpol_sliced100_1_138_off-ADHD.jpg'),\n",
       " PosixPath('GASF/interpol_sliced100_1_110_off-ADHD.jpg'),\n",
       " PosixPath('GASF/interpol_sliced100_1_45_off-ADHD.jpg'),\n",
       " PosixPath('GASF/interpol_sliced100_1_108_off-ADHD.jpg'),\n",
       " PosixPath('GASF/interpol_sliced100_1_136_off-ADHD.jpg'),\n",
       " PosixPath('GASF/interpol_sliced100_1_158_off-ADHD.jpg'),\n",
       " PosixPath('GASF/interpol_sliced100_1_11_off-ADHD.jpg'),\n",
       " PosixPath('GASF/interpol_sliced100_1_154_off-ADHD.jpg'),\n",
       " PosixPath('GASF/interpol_sliced100_1_13_off-ADHD.jpg'),\n",
       " PosixPath('GASF/interpol_sliced100_1_77_off-ADHD.jpg'),\n",
       " PosixPath('GASF/interpol_sliced100_1_29_off-ADHD.jpg'),\n",
       " PosixPath('GASF/interpol_sliced100_1_85_off-ADHD.jpg'),\n",
       " PosixPath('GASF/interpol_sliced100_1_37_off-ADHD.jpg'),\n",
       " PosixPath('GASF/interpol_sliced100_1_42_off-ADHD.jpg'),\n",
       " PosixPath('GASF/interpol_sliced100_1_38_off-ADHD.jpg'),\n",
       " PosixPath('GASF/interpol_sliced100_1_131_off-ADHD.jpg'),\n",
       " PosixPath('GASF/interpol_sliced100_1_9_off-ADHD.jpg')]"
      ]
     },
     "execution_count": 50,
     "metadata": {},
     "output_type": "execute_result"
    }
   ],
   "source": [
    "child_1 = collectpathsofsubject(1)\n",
    "child_1"
   ]
  },
  {
   "cell_type": "code",
   "execution_count": 13,
   "metadata": {},
   "outputs": [],
   "source": [
    "data = (ImageList(fnames_nomeds)\n",
    "        .split_by_rand_pct(0.2)\n",
    "        .label_from_func(get_float_labels)\n",
    "        .transform(tfms, size=224)\n",
    "        .databunch())\n",
    "learn = cnn_learner(data, models.resnet50, metrics=error_rate)\n",
    "learn.load('Repurposed_Classifier_CNN_pupil_ADHD_2class_ctrl_offADHD_validspecific_23_13_24_48_59_55');"
   ]
  },
  {
   "cell_type": "code",
   "execution_count": 63,
   "metadata": {},
   "outputs": [
    {
     "data": {
      "text/plain": [
       "Category off-ADHD"
      ]
     },
     "execution_count": 63,
     "metadata": {},
     "output_type": "execute_result"
    }
   ],
   "source": [
    "img = open_image(child_1[0])\n",
    "img\n",
    "learn.predict(img)[0]"
   ]
  },
  {
   "cell_type": "code",
   "execution_count": 65,
   "metadata": {},
   "outputs": [
    {
     "data": {
      "text/plain": [
       "'off-ADHD'"
      ]
     },
     "execution_count": 65,
     "metadata": {},
     "output_type": "execute_result"
    }
   ],
   "source": [
    "str(learn.predict(img)[0])"
   ]
  },
  {
   "cell_type": "code",
   "execution_count": 8,
   "metadata": {},
   "outputs": [],
   "source": [
    "def givepredictionslistfromchildpaths(childpaths):\n",
    "    predictionslist = []\n",
    "    for path in childpaths:\n",
    "        img = open_image(path)\n",
    "        prediction = str(learn.predict(img)[0])\n",
    "        predictionslist.append(prediction)\n",
    "    return predictionslist"
   ]
  },
  {
   "cell_type": "code",
   "execution_count": 74,
   "metadata": {},
   "outputs": [],
   "source": [
    "predictionslist = givepredictionslistfromchildpaths(child_1)"
   ]
  },
  {
   "cell_type": "code",
   "execution_count": 9,
   "metadata": {},
   "outputs": [],
   "source": [
    "def most_frequent(List): \n",
    "    return max(set(List), key = List.count) "
   ]
  },
  {
   "cell_type": "code",
   "execution_count": 77,
   "metadata": {},
   "outputs": [
    {
     "data": {
      "text/plain": [
       "'off-ADHD'"
      ]
     },
     "execution_count": 77,
     "metadata": {},
     "output_type": "execute_result"
    }
   ],
   "source": [
    "most_frequent(predictionslist)"
   ]
  },
  {
   "cell_type": "code",
   "execution_count": 81,
   "metadata": {},
   "outputs": [],
   "source": [
    "subjectlist_nomeds = [1,2,3,4,5,6,7,8,9,10,11,12,13,14,15,16,17,18,19,20,21,22,23,24,\\\n",
    "                      25,26,27,28,46,47,48,49,50,51,52,53,54,55,56,57,58,59,60,61,62,63,64,65,66,67]"
   ]
  },
  {
   "cell_type": "code",
   "execution_count": 10,
   "metadata": {},
   "outputs": [],
   "source": [
    "validsubjects = [23, 13, 24, 48, 59, 55]"
   ]
  },
  {
   "cell_type": "markdown",
   "metadata": {},
   "source": [
    "n = 46\n",
    "child_n = collectpathsofsubject(n)\n",
    "label_n = get_float_labels(child_n[0])\n",
    "predictionslist_n = givepredictionslistfromchildpaths(child_n)\n",
    "most_frequent_classification = most_frequent(predictionslist_n)\n",
    "ratio_most_freq_to_all_preds = predictionslist_n.count(most_frequent_classification)/len(predictionslist_n)\n",
    "print(\"subject: \" +str(n),\"label:\" + str(label_n),\"most_frequent_classification:\"+str(most_frequent_classification),\"ratio:\"+str(ratio_most_freq_to_all_preds))\n",
    "real_pred_tuple = (label_n, most_frequent_classification)"
   ]
  },
  {
   "cell_type": "code",
   "execution_count": 15,
   "metadata": {},
   "outputs": [],
   "source": [
    "def generate_real_pred_tuple_list(validsubjects):\n",
    "    real_pred_tuple_list = []\n",
    "    for n in validsubjects:\n",
    "        child_n = collectpathsofsubject(n)\n",
    "        label_n = get_float_labels(child_n[0])\n",
    "        predictionslist_n = givepredictionslistfromchildpaths(child_n)\n",
    "        most_frequent_classification = most_frequent(predictionslist_n)\n",
    "        ratio_ADHD_to_all_preds = predictionslist_n.count('off-ADHD')/len(predictionslist_n)\n",
    "        #print(\"subject: \" +str(n),\"label:\" + str(label_n),\"most_frequent_classification:\"+str(most_frequent_classification),\"ratio:\"+str(ratio_most_freq_to_all_preds))\n",
    "        real_pred_tuple = (n,label_n, most_frequent_classification,ratio_ADHD_to_all_preds)\n",
    "        real_pred_tuple_list.append(real_pred_tuple)\n",
    "    return real_pred_tuple_list"
   ]
  },
  {
   "cell_type": "code",
   "execution_count": 16,
   "metadata": {},
   "outputs": [
    {
     "data": {
      "text/plain": [
       "[(23, 'off-ADHD', 'off-ADHD', 0.8205128205128205),\n",
       " (13, 'off-ADHD', 'off-ADHD', 0.7654320987654321),\n",
       " (24, 'off-ADHD', 'off-ADHD', 0.6953125),\n",
       " (48, 'Ctrl', 'off-ADHD', 0.5223880597014925),\n",
       " (59, 'Ctrl', 'Ctrl', 0.4755244755244755),\n",
       " (55, 'Ctrl', 'Ctrl', 0.2589928057553957)]"
      ]
     },
     "execution_count": 16,
     "metadata": {},
     "output_type": "execute_result"
    }
   ],
   "source": [
    "real_vs_pred_tuple_list = generate_real_pred_tuple_list(validsubjects)\n",
    "real_vs_pred_tuple_list"
   ]
  },
  {
   "cell_type": "code",
   "execution_count": 108,
   "metadata": {},
   "outputs": [
    {
     "data": {
      "text/plain": [
       "list"
      ]
     },
     "execution_count": 108,
     "metadata": {},
     "output_type": "execute_result"
    }
   ],
   "source": [
    "type(real_vs_pred_tuple_list)"
   ]
  },
  {
   "cell_type": "code",
   "execution_count": 104,
   "metadata": {},
   "outputs": [],
   "source": [
    "import csv\n"
   ]
  },
  {
   "cell_type": "code",
   "execution_count": 109,
   "metadata": {},
   "outputs": [],
   "source": [
    "\n",
    "with open('Accuracy_2class_nomedsADHD_Ctrl/real_vs_pred_tuple_list', 'w') as myfile:\n",
    "    wr = csv.writer(myfile, quoting=csv.QUOTE_ALL)\n",
    "    wr.writerow(real_vs_pred_tuple_list)"
   ]
  },
  {
   "cell_type": "code",
   "execution_count": 111,
   "metadata": {},
   "outputs": [
    {
     "data": {
      "text/plain": [
       "(Image (3, 224, 224), Category off-ADHD)"
      ]
     },
     "execution_count": 111,
     "metadata": {},
     "output_type": "execute_result"
    }
   ],
   "source": []
  },
  {
   "cell_type": "code",
   "execution_count": null,
   "metadata": {},
   "outputs": [],
   "source": []
  }
 ],
 "metadata": {
  "kernelspec": {
   "display_name": "pytorch_fastai",
   "language": "python",
   "name": "python3"
  },
  "language_info": {
   "codemirror_mode": {
    "name": "ipython",
    "version": 3
   },
   "file_extension": ".py",
   "mimetype": "text/x-python",
   "name": "python",
   "nbconvert_exporter": "python",
   "pygments_lexer": "ipython3",
   "version": "3.7.1"
  },
  "varInspector": {
   "cols": {
    "lenName": 16,
    "lenType": 16,
    "lenVar": 40
   },
   "kernels_config": {
    "python": {
     "delete_cmd_postfix": "",
     "delete_cmd_prefix": "del ",
     "library": "var_list.py",
     "varRefreshCmd": "print(var_dic_list())"
    },
    "r": {
     "delete_cmd_postfix": ") ",
     "delete_cmd_prefix": "rm(",
     "library": "var_list.r",
     "varRefreshCmd": "cat(var_dic_list()) "
    }
   },
   "types_to_exclude": [
    "module",
    "function",
    "builtin_function_or_method",
    "instance",
    "_Feature"
   ],
   "window_display": false
  }
 },
 "nbformat": 4,
 "nbformat_minor": 2
}
