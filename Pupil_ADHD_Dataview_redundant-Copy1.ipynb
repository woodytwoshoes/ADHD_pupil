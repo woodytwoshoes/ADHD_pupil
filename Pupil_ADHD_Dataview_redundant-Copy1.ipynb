{
 "cells": [
  {
   "cell_type": "code",
   "execution_count": 48,
   "metadata": {},
   "outputs": [],
   "source": [
    "def getdatafromref(ref,file):\n",
    "    name = h5py.h5r.get_name(ref, file.id)\n",
    "    data = file[name][()]\n",
    "    return data\n",
    "    "
   ]
  },
  {
   "cell_type": "code",
   "execution_count": 13,
   "metadata": {},
   "outputs": [],
   "source": [
    "import h5py"
   ]
  },
  {
   "cell_type": "code",
   "execution_count": 14,
   "metadata": {},
   "outputs": [],
   "source": [
    "file = h5py.File('Pupil_dataset.mat', 'r')"
   ]
  },
  {
   "cell_type": "code",
   "execution_count": 89,
   "metadata": {},
   "outputs": [
    {
     "data": {
      "text/plain": [
       "<HDF5 file \"Pupil_dataset.mat\" (mode r)>"
      ]
     },
     "execution_count": 89,
     "metadata": {},
     "output_type": "execute_result"
    }
   ],
   "source": [
    "file"
   ]
  },
  {
   "cell_type": "code",
   "execution_count": 16,
   "metadata": {},
   "outputs": [],
   "source": [
    "dset = file['Pupil_data']"
   ]
  },
  {
   "cell_type": "code",
   "execution_count": 17,
   "metadata": {},
   "outputs": [
    {
     "data": {
      "text/plain": [
       "['Age', 'Group', 'Subject', 'Task_data', 'Task_epocs', 'Wisc']"
      ]
     },
     "execution_count": 17,
     "metadata": {},
     "output_type": "execute_result"
    }
   ],
   "source": [
    "list(dset.keys())"
   ]
  },
  {
   "cell_type": "code",
   "execution_count": 57,
   "metadata": {},
   "outputs": [
    {
     "name": "stdout",
     "output_type": "stream",
     "text": [
      "index: 0 subject: 1.0 group: off-ADHD\n",
      "index: 1 subject: 2.0 group: off-ADHD\n",
      "index: 2 subject: 3.0 group: off-ADHD\n",
      "index: 3 subject: 4.0 group: off-ADHD\n",
      "index: 4 subject: 5.0 group: off-ADHD\n",
      "index: 5 subject: 6.0 group: off-ADHD\n",
      "index: 6 subject: 7.0 group: off-ADHD\n",
      "index: 7 subject: 8.0 group: off-ADHD\n",
      "index: 8 subject: 9.0 group: off-ADHD\n",
      "index: 9 subject: 10.0 group: off-ADHD\n",
      "index: 10 subject: 11.0 group: off-ADHD\n",
      "index: 11 subject: 12.0 group: off-ADHD\n",
      "index: 12 subject: 13.0 group: off-ADHD\n",
      "index: 13 subject: 14.0 group: off-ADHD\n",
      "index: 14 subject: 15.0 group: off-ADHD\n",
      "index: 15 subject: 16.0 group: off-ADHD\n",
      "index: 16 subject: 17.0 group: off-ADHD\n",
      "index: 17 subject: 18.0 group: off-ADHD\n",
      "index: 18 subject: 19.0 group: off-ADHD\n",
      "index: 19 subject: 20.0 group: off-ADHD\n",
      "index: 20 subject: 21.0 group: off-ADHD\n",
      "index: 21 subject: 22.0 group: off-ADHD\n",
      "index: 22 subject: 23.0 group: off-ADHD\n",
      "index: 23 subject: 24.0 group: off-ADHD\n",
      "index: 24 subject: 25.0 group: off-ADHD\n",
      "index: 25 subject: 26.0 group: off-ADHD\n",
      "index: 26 subject: 27.0 group: off-ADHD\n",
      "index: 27 subject: 28.0 group: off-ADHD\n",
      "index: 28 subject: 1.0 group: on-ADHD\n",
      "index: 29 subject: 2.0 group: on-ADHD\n",
      "index: 30 subject: 4.0 group: on-ADHD\n",
      "index: 31 subject: 5.0 group: on-ADHD\n",
      "index: 32 subject: 9.0 group: on-ADHD\n",
      "index: 33 subject: 11.0 group: on-ADHD\n",
      "index: 34 subject: 12.0 group: on-ADHD\n",
      "index: 35 subject: 13.0 group: on-ADHD\n",
      "index: 36 subject: 16.0 group: on-ADHD\n",
      "index: 37 subject: 17.0 group: on-ADHD\n",
      "index: 38 subject: 18.0 group: on-ADHD\n",
      "index: 39 subject: 20.0 group: on-ADHD\n",
      "index: 40 subject: 21.0 group: on-ADHD\n",
      "index: 41 subject: 22.0 group: on-ADHD\n",
      "index: 42 subject: 24.0 group: on-ADHD\n",
      "index: 43 subject: 25.0 group: on-ADHD\n",
      "index: 44 subject: 28.0 group: on-ADHD\n",
      "index: 45 subject: 29.0 group: Ctrl\n",
      "index: 46 subject: 30.0 group: Ctrl\n",
      "index: 47 subject: 31.0 group: Ctrl\n",
      "index: 48 subject: 32.0 group: Ctrl\n",
      "index: 49 subject: 33.0 group: Ctrl\n",
      "index: 50 subject: 34.0 group: Ctrl\n",
      "index: 51 subject: 35.0 group: Ctrl\n",
      "index: 52 subject: 36.0 group: Ctrl\n",
      "index: 53 subject: 37.0 group: Ctrl\n",
      "index: 54 subject: 38.0 group: Ctrl\n",
      "index: 55 subject: 39.0 group: Ctrl\n",
      "index: 56 subject: 40.0 group: Ctrl\n",
      "index: 57 subject: 41.0 group: Ctrl\n",
      "index: 58 subject: 42.0 group: Ctrl\n",
      "index: 59 subject: 43.0 group: Ctrl\n",
      "index: 60 subject: 44.0 group: Ctrl\n",
      "index: 61 subject: 45.0 group: Ctrl\n",
      "index: 62 subject: 46.0 group: Ctrl\n",
      "index: 63 subject: 47.0 group: Ctrl\n",
      "index: 64 subject: 48.0 group: Ctrl\n",
      "index: 65 subject: 49.0 group: Ctrl\n",
      "index: 66 subject: 50.0 group: Ctrl\n"
     ]
    }
   ],
   "source": [
    "for i in range(67):\n",
    "    ref_subject = dset['Subject'][i][0]\n",
    "    ref_group = dset['Group'][i][0]\n",
    "    subjectno = getdatafromref(ref_subject,file)\n",
    "    ref_group_obj = file[ref_group]\n",
    "    str_group = ''.join(chr(i) for i in ref_group_obj[:])\n",
    "    print(\"index: \" +str(i),\"subject: \" +str(subjectno[0][0]) +\" group: \" + str_group)"
   ]
  },
  {
   "cell_type": "code",
   "execution_count": 66,
   "metadata": {},
   "outputs": [],
   "source": [
    "Task_epocs = dset['Task_epocs']"
   ]
  },
  {
   "cell_type": "code",
   "execution_count": 67,
   "metadata": {},
   "outputs": [
    {
     "data": {
      "text/plain": [
       "<HDF5 dataset \"Task_epocs\": shape (67, 1), type \"|O\">"
      ]
     },
     "execution_count": 67,
     "metadata": {},
     "output_type": "execute_result"
    }
   ],
   "source": [
    "Task_epocs"
   ]
  },
  {
   "cell_type": "code",
   "execution_count": 73,
   "metadata": {},
   "outputs": [],
   "source": [
    "subject_1_off_epocs = dset['Task_epocs'][0][0]"
   ]
  },
  {
   "cell_type": "code",
   "execution_count": 79,
   "metadata": {},
   "outputs": [],
   "source": [
    "subject_1_off_epocs_dataset = file[subject_1_off_epocs]"
   ]
  },
  {
   "cell_type": "code",
   "execution_count": 93,
   "metadata": {},
   "outputs": [
    {
     "data": {
      "text/plain": [
       "array([3707764736,          2,          1,          1,         68,\n",
       "                1], dtype=uint32)"
      ]
     },
     "execution_count": 93,
     "metadata": {},
     "output_type": "execute_result"
    }
   ],
   "source": [
    "subject_1_off_epocs_dataset[0]"
   ]
  },
  {
   "cell_type": "code",
   "execution_count": null,
   "metadata": {},
   "outputs": [],
   "source": []
  }
 ],
 "metadata": {
  "kernelspec": {
   "display_name": "pytorch_fastai",
   "language": "python",
   "name": "python3"
  },
  "language_info": {
   "codemirror_mode": {
    "name": "ipython",
    "version": 3
   },
   "file_extension": ".py",
   "mimetype": "text/x-python",
   "name": "python",
   "nbconvert_exporter": "python",
   "pygments_lexer": "ipython3",
   "version": "3.7.1"
  },
  "varInspector": {
   "cols": {
    "lenName": 16,
    "lenType": 16,
    "lenVar": 40
   },
   "kernels_config": {
    "python": {
     "delete_cmd_postfix": "",
     "delete_cmd_prefix": "del ",
     "library": "var_list.py",
     "varRefreshCmd": "print(var_dic_list())"
    },
    "r": {
     "delete_cmd_postfix": ") ",
     "delete_cmd_prefix": "rm(",
     "library": "var_list.r",
     "varRefreshCmd": "cat(var_dic_list()) "
    }
   },
   "types_to_exclude": [
    "module",
    "function",
    "builtin_function_or_method",
    "instance",
    "_Feature"
   ],
   "window_display": false
  }
 },
 "nbformat": 4,
 "nbformat_minor": 2
}
