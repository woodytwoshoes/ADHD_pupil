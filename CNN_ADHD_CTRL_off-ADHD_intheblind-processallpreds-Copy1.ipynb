{
 "cells": [
  {
   "cell_type": "code",
   "execution_count": 1,
   "metadata": {},
   "outputs": [],
   "source": [
    "from fastai.vision import *\n",
    "path = Path('GASF')\n"
   ]
  },
  {
   "cell_type": "code",
   "execution_count": 2,
   "metadata": {},
   "outputs": [],
   "source": [
    "def get_float_labels(y):\n",
    "    label = ((y.parts[-1].split('_')[-1]).split('.')[0])\n",
    "    return label"
   ]
  },
  {
   "cell_type": "code",
   "execution_count": 3,
   "metadata": {},
   "outputs": [],
   "source": [
    "def get_subject_label(y):\n",
    "    label = ((y.parts[-1].split('_')[-3]).split('.')[0])\n",
    "    return label"
   ]
  },
  {
   "cell_type": "code",
   "execution_count": 4,
   "metadata": {},
   "outputs": [],
   "source": [
    "def generate_data_withoutchild(n):\n",
    "    blinded_file_list = []\n",
    "    for fname in fnames_nomeds:\n",
    "        if int(get_subject_label(fname)) != n:\n",
    "            blinded_file_list.append(fname)\n",
    "    return blinded_file_list"
   ]
  },
  {
   "cell_type": "code",
   "execution_count": 5,
   "metadata": {},
   "outputs": [],
   "source": [
    "def collectpathsofsubject(n):\n",
    "    subjectpaths = []\n",
    "    for fname in fnames_nomeds:\n",
    "        if get_subject_label(fname) == str(n):\n",
    "            subjectpaths.append(fname)\n",
    "    return subjectpaths\n",
    "        \n",
    "\n",
    "def givepredictionslistfromchildpaths(childpaths):\n",
    "    predictionslist = []\n",
    "    for path in childpaths:\n",
    "        img = open_image(path)\n",
    "        prediction = learn.predict(img)\n",
    "        predictionslist.append(prediction)\n",
    "    return predictionslist"
   ]
  },
  {
   "cell_type": "code",
   "execution_count": 16,
   "metadata": {},
   "outputs": [
    {
     "data": {
      "text/plain": [
       "[(Category Ctrl, tensor(0), tensor([0.5960, 0.4040])),\n",
       " (Category off-ADHD, tensor(1), tensor([0.2713, 0.7287])),\n",
       " (Category Ctrl, tensor(0), tensor([0.6430, 0.3570])),\n",
       " (Category Ctrl, tensor(0), tensor([0.7716, 0.2284])),\n",
       " (Category off-ADHD, tensor(1), tensor([0.3182, 0.6818])),\n",
       " (Category off-ADHD, tensor(1), tensor([0.0326, 0.9674])),\n",
       " (Category off-ADHD, tensor(1), tensor([0.0719, 0.9281])),\n",
       " (Category off-ADHD, tensor(1), tensor([0.4160, 0.5840])),\n",
       " (Category Ctrl, tensor(0), tensor([0.7089, 0.2911])),\n",
       " (Category off-ADHD, tensor(1), tensor([0.2035, 0.7965])),\n",
       " (Category off-ADHD, tensor(1), tensor([0.1117, 0.8883])),\n",
       " (Category Ctrl, tensor(0), tensor([0.5857, 0.4143])),\n",
       " (Category off-ADHD, tensor(1), tensor([0.3022, 0.6978])),\n",
       " (Category off-ADHD, tensor(1), tensor([0.3296, 0.6704])),\n",
       " (Category off-ADHD, tensor(1), tensor([0.0412, 0.9588])),\n",
       " (Category off-ADHD, tensor(1), tensor([0.3417, 0.6583])),\n",
       " (Category off-ADHD, tensor(1), tensor([0.0827, 0.9173])),\n",
       " (Category off-ADHD, tensor(1), tensor([0.2187, 0.7813])),\n",
       " (Category Ctrl, tensor(0), tensor([0.6647, 0.3353])),\n",
       " (Category Ctrl, tensor(0), tensor([0.5611, 0.4389])),\n",
       " (Category off-ADHD, tensor(1), tensor([0.2623, 0.7377])),\n",
       " (Category Ctrl, tensor(0), tensor([0.5330, 0.4670])),\n",
       " (Category off-ADHD, tensor(1), tensor([0.3466, 0.6534])),\n",
       " (Category off-ADHD, tensor(1), tensor([0.3669, 0.6331])),\n",
       " (Category off-ADHD, tensor(1), tensor([0.2700, 0.7300])),\n",
       " (Category off-ADHD, tensor(1), tensor([0.3033, 0.6967])),\n",
       " (Category off-ADHD, tensor(1), tensor([0.3413, 0.6587])),\n",
       " (Category Ctrl, tensor(0), tensor([0.8152, 0.1848])),\n",
       " (Category off-ADHD, tensor(1), tensor([0.3120, 0.6880])),\n",
       " (Category off-ADHD, tensor(1), tensor([0.1902, 0.8098])),\n",
       " (Category Ctrl, tensor(0), tensor([0.6082, 0.3918])),\n",
       " (Category off-ADHD, tensor(1), tensor([0.0093, 0.9907])),\n",
       " (Category off-ADHD, tensor(1), tensor([0.1314, 0.8686])),\n",
       " (Category off-ADHD, tensor(1), tensor([0.2772, 0.7228])),\n",
       " (Category off-ADHD, tensor(1), tensor([0.2568, 0.7432])),\n",
       " (Category off-ADHD, tensor(1), tensor([0.3274, 0.6726])),\n",
       " (Category off-ADHD, tensor(1), tensor([0.4360, 0.5640])),\n",
       " (Category off-ADHD, tensor(1), tensor([0.4794, 0.5206])),\n",
       " (Category off-ADHD, tensor(1), tensor([0.0753, 0.9247])),\n",
       " (Category off-ADHD, tensor(1), tensor([0.3696, 0.6304])),\n",
       " (Category off-ADHD, tensor(1), tensor([0.2845, 0.7155])),\n",
       " (Category off-ADHD, tensor(1), tensor([0.4508, 0.5492])),\n",
       " (Category Ctrl, tensor(0), tensor([0.6047, 0.3953])),\n",
       " (Category off-ADHD, tensor(1), tensor([0.4599, 0.5401])),\n",
       " (Category off-ADHD, tensor(1), tensor([0.1865, 0.8135])),\n",
       " (Category off-ADHD, tensor(1), tensor([0.1690, 0.8310])),\n",
       " (Category off-ADHD, tensor(1), tensor([0.2825, 0.7175])),\n",
       " (Category Ctrl, tensor(0), tensor([0.5127, 0.4873])),\n",
       " (Category Ctrl, tensor(0), tensor([0.6077, 0.3923])),\n",
       " (Category Ctrl, tensor(0), tensor([0.7220, 0.2780])),\n",
       " (Category off-ADHD, tensor(1), tensor([0.3233, 0.6767])),\n",
       " (Category off-ADHD, tensor(1), tensor([0.1901, 0.8099])),\n",
       " (Category Ctrl, tensor(0), tensor([0.7281, 0.2719])),\n",
       " (Category off-ADHD, tensor(1), tensor([0.0668, 0.9332])),\n",
       " (Category Ctrl, tensor(0), tensor([0.5831, 0.4169])),\n",
       " (Category off-ADHD, tensor(1), tensor([0.4224, 0.5776])),\n",
       " (Category off-ADHD, tensor(1), tensor([0.0473, 0.9527])),\n",
       " (Category off-ADHD, tensor(1), tensor([0.4360, 0.5640])),\n",
       " (Category off-ADHD, tensor(1), tensor([0.4663, 0.5337])),\n",
       " (Category off-ADHD, tensor(1), tensor([0.2025, 0.7975])),\n",
       " (Category Ctrl, tensor(0), tensor([0.7884, 0.2116])),\n",
       " (Category off-ADHD, tensor(1), tensor([0.4548, 0.5452])),\n",
       " (Category Ctrl, tensor(0), tensor([0.8143, 0.1857])),\n",
       " (Category off-ADHD, tensor(1), tensor([0.4914, 0.5086])),\n",
       " (Category off-ADHD, tensor(1), tensor([0.2127, 0.7873])),\n",
       " (Category off-ADHD, tensor(1), tensor([0.0657, 0.9343])),\n",
       " (Category off-ADHD, tensor(1), tensor([0.1777, 0.8223])),\n",
       " (Category off-ADHD, tensor(1), tensor([0.3568, 0.6432])),\n",
       " (Category Ctrl, tensor(0), tensor([0.8304, 0.1696])),\n",
       " (Category off-ADHD, tensor(1), tensor([0.1298, 0.8702])),\n",
       " (Category off-ADHD, tensor(1), tensor([0.3721, 0.6279])),\n",
       " (Category off-ADHD, tensor(1), tensor([0.4174, 0.5826])),\n",
       " (Category off-ADHD, tensor(1), tensor([0.2480, 0.7520])),\n",
       " (Category off-ADHD, tensor(1), tensor([0.2445, 0.7555])),\n",
       " (Category Ctrl, tensor(0), tensor([0.5944, 0.4056])),\n",
       " (Category off-ADHD, tensor(1), tensor([0.4454, 0.5546])),\n",
       " (Category off-ADHD, tensor(1), tensor([0.4523, 0.5477])),\n",
       " (Category off-ADHD, tensor(1), tensor([0.3559, 0.6441])),\n",
       " (Category off-ADHD, tensor(1), tensor([0.1979, 0.8021])),\n",
       " (Category off-ADHD, tensor(1), tensor([0.3917, 0.6083])),\n",
       " (Category off-ADHD, tensor(1), tensor([0.4463, 0.5537])),\n",
       " (Category off-ADHD, tensor(1), tensor([0.2625, 0.7375])),\n",
       " (Category Ctrl, tensor(0), tensor([0.5365, 0.4635])),\n",
       " (Category off-ADHD, tensor(1), tensor([0.0438, 0.9562])),\n",
       " (Category off-ADHD, tensor(1), tensor([0.3633, 0.6367])),\n",
       " (Category off-ADHD, tensor(1), tensor([0.2911, 0.7089])),\n",
       " (Category Ctrl, tensor(0), tensor([0.5713, 0.4287])),\n",
       " (Category off-ADHD, tensor(1), tensor([0.2198, 0.7802])),\n",
       " (Category off-ADHD, tensor(1), tensor([0.2655, 0.7345])),\n",
       " (Category Ctrl, tensor(0), tensor([0.5457, 0.4543])),\n",
       " (Category Ctrl, tensor(0), tensor([0.6782, 0.3218])),\n",
       " (Category Ctrl, tensor(0), tensor([0.5119, 0.4881])),\n",
       " (Category off-ADHD, tensor(1), tensor([0.4501, 0.5499])),\n",
       " (Category off-ADHD, tensor(1), tensor([0.3561, 0.6439])),\n",
       " (Category Ctrl, tensor(0), tensor([0.5593, 0.4407])),\n",
       " (Category off-ADHD, tensor(1), tensor([0.3977, 0.6023])),\n",
       " (Category off-ADHD, tensor(1), tensor([0.3870, 0.6130])),\n",
       " (Category off-ADHD, tensor(1), tensor([0.3627, 0.6373])),\n",
       " (Category Ctrl, tensor(0), tensor([0.6147, 0.3853])),\n",
       " (Category off-ADHD, tensor(1), tensor([0.4362, 0.5638])),\n",
       " (Category off-ADHD, tensor(1), tensor([0.3566, 0.6434])),\n",
       " (Category off-ADHD, tensor(1), tensor([0.4726, 0.5274])),\n",
       " (Category off-ADHD, tensor(1), tensor([0.1960, 0.8040])),\n",
       " (Category Ctrl, tensor(0), tensor([0.7967, 0.2033])),\n",
       " (Category Ctrl, tensor(0), tensor([0.7885, 0.2115])),\n",
       " (Category Ctrl, tensor(0), tensor([0.6934, 0.3066])),\n",
       " (Category off-ADHD, tensor(1), tensor([0.3035, 0.6965])),\n",
       " (Category off-ADHD, tensor(1), tensor([0.4385, 0.5615])),\n",
       " (Category off-ADHD, tensor(1), tensor([0.4868, 0.5132])),\n",
       " (Category off-ADHD, tensor(1), tensor([0.0973, 0.9027])),\n",
       " (Category off-ADHD, tensor(1), tensor([0.0603, 0.9397])),\n",
       " (Category off-ADHD, tensor(1), tensor([0.1032, 0.8968])),\n",
       " (Category Ctrl, tensor(0), tensor([0.6919, 0.3081])),\n",
       " (Category off-ADHD, tensor(1), tensor([0.4130, 0.5870])),\n",
       " (Category Ctrl, tensor(0), tensor([0.5983, 0.4017])),\n",
       " (Category off-ADHD, tensor(1), tensor([0.1584, 0.8416])),\n",
       " (Category Ctrl, tensor(0), tensor([0.5513, 0.4487])),\n",
       " (Category off-ADHD, tensor(1), tensor([0.3847, 0.6153])),\n",
       " (Category Ctrl, tensor(0), tensor([0.5475, 0.4525])),\n",
       " (Category off-ADHD, tensor(1), tensor([0.3695, 0.6305])),\n",
       " (Category Ctrl, tensor(0), tensor([0.8561, 0.1439])),\n",
       " (Category off-ADHD, tensor(1), tensor([0.4071, 0.5929])),\n",
       " (Category off-ADHD, tensor(1), tensor([0.1765, 0.8235])),\n",
       " (Category off-ADHD, tensor(1), tensor([0.3197, 0.6803])),\n",
       " (Category Ctrl, tensor(0), tensor([0.6974, 0.3026])),\n",
       " (Category off-ADHD, tensor(1), tensor([0.2631, 0.7369])),\n",
       " (Category off-ADHD, tensor(1), tensor([0.3088, 0.6912])),\n",
       " (Category Ctrl, tensor(0), tensor([0.7448, 0.2552])),\n",
       " (Category off-ADHD, tensor(1), tensor([0.3153, 0.6847]))]"
      ]
     },
     "execution_count": 16,
     "metadata": {},
     "output_type": "execute_result"
    }
   ],
   "source": [
    "givepredictionslistfromchildpaths(collectpathsofsubject(1))"
   ]
  },
  {
   "cell_type": "code",
   "execution_count": 6,
   "metadata": {},
   "outputs": [],
   "source": [
    "#generate new GASF list without on-ADHD GASFs\n",
    "\n",
    "np.random.seed(42)\n",
    "tfms = [[],[]]\n",
    "fnames = get_image_files(path)\n",
    "fnames_nomeds = []\n",
    "for onefile in fnames:\n",
    "    if \"on-ADHD\" not in onefile.parts[-1]:\n",
    "        fnames_nomeds.append(onefile)"
   ]
  },
  {
   "cell_type": "code",
   "execution_count": 7,
   "metadata": {},
   "outputs": [],
   "source": [
    "subjectlist_nomeds = [1,2,3,4,5,6,7,8,9,10,11,12,13,14,15,16,17,18,19,20,21,22,23,24,\\\n",
    "                      25,26,27,28,46,47,48,49,50,51,52,53,54,55,56,57,58,59,60,61,62,63,64,65,66,67]"
   ]
  },
  {
   "cell_type": "code",
   "execution_count": 27,
   "metadata": {},
   "outputs": [],
   "source": [
    "subject_class_ratio_tuple_list = []"
   ]
  },
  {
   "cell_type": "code",
   "execution_count": 34,
   "metadata": {},
   "outputs": [
    {
     "name": "stdout",
     "output_type": "stream",
     "text": [
      "<class '_csv.reader'>\n",
      "<class '_csv.reader'>\n",
      "<class '_csv.reader'>\n",
      "<class '_csv.reader'>\n",
      "<class '_csv.reader'>\n",
      "<class '_csv.reader'>\n",
      "<class '_csv.reader'>\n",
      "<class '_csv.reader'>\n",
      "<class '_csv.reader'>\n",
      "<class '_csv.reader'>\n",
      "<class '_csv.reader'>\n",
      "<class '_csv.reader'>\n",
      "<class '_csv.reader'>\n",
      "<class '_csv.reader'>\n",
      "<class '_csv.reader'>\n",
      "<class '_csv.reader'>\n",
      "<class '_csv.reader'>\n",
      "<class '_csv.reader'>\n",
      "<class '_csv.reader'>\n",
      "<class '_csv.reader'>\n",
      "<class '_csv.reader'>\n",
      "<class '_csv.reader'>\n",
      "<class '_csv.reader'>\n",
      "<class '_csv.reader'>\n",
      "<class '_csv.reader'>\n",
      "<class '_csv.reader'>\n",
      "<class '_csv.reader'>\n",
      "<class '_csv.reader'>\n",
      "<class '_csv.reader'>\n",
      "<class '_csv.reader'>\n",
      "<class '_csv.reader'>\n",
      "<class '_csv.reader'>\n",
      "<class '_csv.reader'>\n",
      "<class '_csv.reader'>\n",
      "<class '_csv.reader'>\n",
      "<class '_csv.reader'>\n",
      "<class '_csv.reader'>\n",
      "<class '_csv.reader'>\n",
      "<class '_csv.reader'>\n",
      "<class '_csv.reader'>\n",
      "<class '_csv.reader'>\n",
      "<class '_csv.reader'>\n",
      "<class '_csv.reader'>\n",
      "<class '_csv.reader'>\n",
      "<class '_csv.reader'>\n",
      "<class '_csv.reader'>\n",
      "<class '_csv.reader'>\n",
      "<class '_csv.reader'>\n",
      "<class '_csv.reader'>\n",
      "<class '_csv.reader'>\n"
     ]
    }
   ],
   "source": [
    "n = 2\n",
    "\n",
    "with open('InTheBlind/'+'allpredsaverage', 'w') as myfile2:\n",
    "    for n in subjectlist_nomeds:\n",
    "        ADHD_prob_list = []\n",
    "        with open('InTheBlind/'+'allpreds'+str(n), 'r') as myfile:\n",
    "            csv_reader = csv.reader(myfile, delimiter=',')\n",
    "            print(type(csv_reader))\n",
    "            line_count = 0\n",
    "            for row in csv_reader:\n",
    "                if line_count != 0:\n",
    "                    ADHD_tensor = row[2]\n",
    "                    ADHD_prob = float(ADHD_tensor.split(' ')[1][:-2])\n",
    "                    ADHD_prob_list.append(ADHD_prob)\n",
    "                line_count += 1\n",
    "            ADHD_prob_avg = sum(ADHD_prob_list)/len(ADHD_prob_list)\n",
    "\n",
    "            wr = csv.writer(myfile2, quoting=csv.QUOTE_ALL)\n",
    "            wr.writerow((n, n<29,ADHD_prob_avg))\n",
    "        \n"
   ]
  },
  {
   "cell_type": "code",
   "execution_count": 28,
   "metadata": {},
   "outputs": [
    {
     "data": {
      "text/plain": [
       "[0.404,\n",
       " 0.7287,\n",
       " 0.357,\n",
       " 0.2284,\n",
       " 0.6818,\n",
       " 0.9674,\n",
       " 0.9281,\n",
       " 0.584,\n",
       " 0.2911,\n",
       " 0.7965,\n",
       " 0.8883,\n",
       " 0.4143,\n",
       " 0.6978,\n",
       " 0.6704,\n",
       " 0.9588,\n",
       " 0.6583,\n",
       " 0.9173,\n",
       " 0.7813,\n",
       " 0.3353,\n",
       " 0.4389,\n",
       " 0.7377,\n",
       " 0.467,\n",
       " 0.6534,\n",
       " 0.6331,\n",
       " 0.73,\n",
       " 0.6967,\n",
       " 0.6587,\n",
       " 0.1848,\n",
       " 0.688,\n",
       " 0.8098,\n",
       " 0.3918,\n",
       " 0.9907,\n",
       " 0.8686,\n",
       " 0.7228,\n",
       " 0.7432,\n",
       " 0.6726,\n",
       " 0.564,\n",
       " 0.5206,\n",
       " 0.9247,\n",
       " 0.6304,\n",
       " 0.7155,\n",
       " 0.5492,\n",
       " 0.3953,\n",
       " 0.5401,\n",
       " 0.8135,\n",
       " 0.831,\n",
       " 0.7175,\n",
       " 0.4873,\n",
       " 0.3923,\n",
       " 0.278,\n",
       " 0.6767,\n",
       " 0.8099,\n",
       " 0.2719,\n",
       " 0.9332,\n",
       " 0.4169,\n",
       " 0.5776,\n",
       " 0.9527,\n",
       " 0.564,\n",
       " 0.5337,\n",
       " 0.7975,\n",
       " 0.2116,\n",
       " 0.5452,\n",
       " 0.1857,\n",
       " 0.5086,\n",
       " 0.7873,\n",
       " 0.9343,\n",
       " 0.8223,\n",
       " 0.6432,\n",
       " 0.1696,\n",
       " 0.8702,\n",
       " 0.6279,\n",
       " 0.5826,\n",
       " 0.752,\n",
       " 0.7555,\n",
       " 0.4056,\n",
       " 0.5546,\n",
       " 0.5477,\n",
       " 0.6441,\n",
       " 0.8021,\n",
       " 0.6083,\n",
       " 0.5537,\n",
       " 0.7375,\n",
       " 0.4635,\n",
       " 0.9562,\n",
       " 0.6367,\n",
       " 0.7089,\n",
       " 0.4287,\n",
       " 0.7802,\n",
       " 0.7345,\n",
       " 0.4543,\n",
       " 0.3218,\n",
       " 0.4881,\n",
       " 0.5499,\n",
       " 0.6439,\n",
       " 0.4407,\n",
       " 0.6023,\n",
       " 0.613,\n",
       " 0.6373,\n",
       " 0.3853,\n",
       " 0.5638,\n",
       " 0.6434,\n",
       " 0.5274,\n",
       " 0.804,\n",
       " 0.2033,\n",
       " 0.2115,\n",
       " 0.3066,\n",
       " 0.6965,\n",
       " 0.5615,\n",
       " 0.5132,\n",
       " 0.9027,\n",
       " 0.9397,\n",
       " 0.8968,\n",
       " 0.3081,\n",
       " 0.587,\n",
       " 0.4017,\n",
       " 0.8416,\n",
       " 0.4487,\n",
       " 0.6153,\n",
       " 0.4525,\n",
       " 0.6305,\n",
       " 0.1439,\n",
       " 0.5929,\n",
       " 0.8235,\n",
       " 0.6803,\n",
       " 0.3026,\n",
       " 0.7369,\n",
       " 0.6912,\n",
       " 0.2552,\n",
       " 0.6847]"
      ]
     },
     "execution_count": 28,
     "metadata": {},
     "output_type": "execute_result"
    }
   ],
   "source": []
  },
  {
   "cell_type": "code",
   "execution_count": 21,
   "metadata": {},
   "outputs": [
    {
     "data": {
      "text/plain": [
       "'0.6847])'"
      ]
     },
     "execution_count": 21,
     "metadata": {},
     "output_type": "execute_result"
    }
   ],
   "source": []
  },
  {
   "cell_type": "code",
   "execution_count": 22,
   "metadata": {},
   "outputs": [
    {
     "data": {
      "text/plain": [
       "'0.6847'"
      ]
     },
     "execution_count": 22,
     "metadata": {},
     "output_type": "execute_result"
    }
   ],
   "source": []
  },
  {
   "cell_type": "code",
   "execution_count": 24,
   "metadata": {},
   "outputs": [
    {
     "data": {
      "text/plain": [
       "0.6847"
      ]
     },
     "execution_count": 24,
     "metadata": {},
     "output_type": "execute_result"
    }
   ],
   "source": []
  },
  {
   "cell_type": "code",
   "execution_count": null,
   "metadata": {},
   "outputs": [],
   "source": []
  }
 ],
 "metadata": {
  "kernelspec": {
   "display_name": "pytorch_fastai",
   "language": "python",
   "name": "python3"
  },
  "language_info": {
   "codemirror_mode": {
    "name": "ipython",
    "version": 3
   },
   "file_extension": ".py",
   "mimetype": "text/x-python",
   "name": "python",
   "nbconvert_exporter": "python",
   "pygments_lexer": "ipython3",
   "version": "3.7.1"
  },
  "varInspector": {
   "cols": {
    "lenName": 16,
    "lenType": 16,
    "lenVar": 40
   },
   "kernels_config": {
    "python": {
     "delete_cmd_postfix": "",
     "delete_cmd_prefix": "del ",
     "library": "var_list.py",
     "varRefreshCmd": "print(var_dic_list())"
    },
    "r": {
     "delete_cmd_postfix": ") ",
     "delete_cmd_prefix": "rm(",
     "library": "var_list.r",
     "varRefreshCmd": "cat(var_dic_list()) "
    }
   },
   "types_to_exclude": [
    "module",
    "function",
    "builtin_function_or_method",
    "instance",
    "_Feature"
   ],
   "window_display": false
  }
 },
 "nbformat": 4,
 "nbformat_minor": 2
}
