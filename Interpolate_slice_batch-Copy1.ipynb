{
 "cells": [
  {
   "cell_type": "code",
   "execution_count": 42,
   "metadata": {},
   "outputs": [],
   "source": [
    "import numpy as np\n",
    "import pathlib\n",
    "import os\n",
    "import matplotlib.pyplot as plt"
   ]
  },
  {
   "cell_type": "code",
   "execution_count": 43,
   "metadata": {},
   "outputs": [],
   "source": [
    "def interpolate_gaps(values, limit=None):\n",
    "    \"\"\"\n",
    "    Fill gaps using linear interpolation, optionally only fill gaps up to a\n",
    "    size of `limit`.\n",
    "    \"\"\"\n",
    "    values = np.asarray(values)\n",
    "    i = np.arange(values.size)\n",
    "    valid = np.isfinite(values)\n",
    "    filled = np.interp(i, i[valid], values[valid])\n",
    "\n",
    "    if limit is not None:\n",
    "        invalid = ~valid\n",
    "        for n in range(1, limit+1):\n",
    "            invalid[:-n] &= invalid[n:]\n",
    "        filled[invalid] = np.nan\n",
    "\n",
    "    return filled"
   ]
  },
  {
   "cell_type": "code",
   "execution_count": 44,
   "metadata": {},
   "outputs": [],
   "source": [
    "root = \"Pupil_Z_matfiles/\""
   ]
  },
  {
   "cell_type": "code",
   "execution_count": 45,
   "metadata": {
    "scrolled": true
   },
   "outputs": [
    {
     "data": {
      "text/plain": [
       "10720"
      ]
     },
     "execution_count": 45,
     "metadata": {},
     "output_type": "execute_result"
    }
   ],
   "source": [
    "fileslist = sorted(os.listdir(root))\n",
    "len(fileslist)"
   ]
  },
  {
   "cell_type": "code",
   "execution_count": 46,
   "metadata": {},
   "outputs": [],
   "source": [
    "import shutil\n",
    "\n",
    "destination = \"Pupil_Z_csvfiles_interpol_slicedfac100/\"\n",
    "\n",
    "if os.path.exists(destination):\n",
    "    shutil.rmtree(destination)\n",
    "\n",
    "os.makedirs(destination)"
   ]
  },
  {
   "cell_type": "code",
   "execution_count": 47,
   "metadata": {},
   "outputs": [],
   "source": [
    "for i in range(10720):\n",
    "    try:\n",
    "        stem = fileslist[i]\n",
    "        \n",
    "        #name original file\n",
    "        filename = root + stem\n",
    "        \n",
    "        #reads Original file\n",
    "        pupil_time_series = np.genfromtxt(filename, delimiter=',')\n",
    "        \n",
    "        #interpolate original file with limit of 1000ms\n",
    "        pupil_time_series_interpol = interpolate_gaps(pupil_time_series, limit=1000)\n",
    "        \n",
    "        #takes only every 100th value, making each series only 80 units long\n",
    "        pupil_time_series_interpol_sliced = pupil_time_series_interpol[::100]\n",
    "        \n",
    "        #turns series into good little numpy array\n",
    "        pupil_time_series_interpol_sliced_array = np.asarray(pupil_time_series_interpol_sliced)\n",
    "        \n",
    "        finalfilestem = \"interpol_sliced100_\"+stem+\".csv\"\n",
    "        \n",
    "        finalfilename = destination + finalfilestem\n",
    "        \n",
    "        #if the series already exists AT THE DESTINATION, this deletes it.\n",
    "        try:\n",
    "            os.remove(finalfilename)\n",
    "        except OSError:\n",
    "            pass\n",
    "        \n",
    "        \n",
    "        np.savetxt(finalfilename, pupil_time_series_interpol_sliced_array, delimiter=\",\")\n",
    "    except:\n",
    "        continue"
   ]
  },
  {
   "cell_type": "code",
   "execution_count": 48,
   "metadata": {},
   "outputs": [
    {
     "data": {
      "text/plain": [
       "9804"
      ]
     },
     "execution_count": 48,
     "metadata": {},
     "output_type": "execute_result"
    }
   ],
   "source": [
    "finalfileslist = sorted(os.listdir(destination))\n",
    "len(finalfileslist)"
   ]
  },
  {
   "cell_type": "code",
   "execution_count": 49,
   "metadata": {},
   "outputs": [
    {
     "data": {
      "text/plain": [
       "5949"
      ]
     },
     "execution_count": 49,
     "metadata": {},
     "output_type": "execute_result"
    }
   ],
   "source": [
    "GASFfileslist = sorted(os.listdir('GASF/'))\n",
    "len(GASFfileslist)"
   ]
  },
  {
   "cell_type": "code",
   "execution_count": null,
   "metadata": {},
   "outputs": [],
   "source": []
  }
 ],
 "metadata": {
  "kernelspec": {
   "display_name": "pytorch_fastai",
   "language": "python",
   "name": "python3"
  },
  "language_info": {
   "codemirror_mode": {
    "name": "ipython",
    "version": 3
   },
   "file_extension": ".py",
   "mimetype": "text/x-python",
   "name": "python",
   "nbconvert_exporter": "python",
   "pygments_lexer": "ipython3",
   "version": "3.7.1"
  },
  "varInspector": {
   "cols": {
    "lenName": 16,
    "lenType": 16,
    "lenVar": 40
   },
   "kernels_config": {
    "python": {
     "delete_cmd_postfix": "",
     "delete_cmd_prefix": "del ",
     "library": "var_list.py",
     "varRefreshCmd": "print(var_dic_list())"
    },
    "r": {
     "delete_cmd_postfix": ") ",
     "delete_cmd_prefix": "rm(",
     "library": "var_list.r",
     "varRefreshCmd": "cat(var_dic_list()) "
    }
   },
   "types_to_exclude": [
    "module",
    "function",
    "builtin_function_or_method",
    "instance",
    "_Feature"
   ],
   "window_display": false
  }
 },
 "nbformat": 4,
 "nbformat_minor": 2
}
