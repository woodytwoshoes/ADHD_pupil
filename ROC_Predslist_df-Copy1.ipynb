{
 "cells": [
  {
   "cell_type": "code",
   "execution_count": 2,
   "metadata": {},
   "outputs": [],
   "source": [
    "import numpy as np\n",
    "import csv"
   ]
  },
  {
   "cell_type": "code",
   "execution_count": 20,
   "metadata": {},
   "outputs": [],
   "source": [
    "with open('InTheBlind/full_list.txt') as csv_file:\n",
    "    csv_reader = csv.reader(csv_file, delimiter=',')\n",
    "    for row in csv_reader:\n",
    "        x =', '.join(row)\n",
    "        "
   ]
  },
  {
   "cell_type": "code",
   "execution_count": 24,
   "metadata": {},
   "outputs": [
    {
     "data": {
      "text/plain": [
       "\"(1, 'off-ADHD', 0.7054263565891473), (1, 'off-ADHD', 0.7131782945736435), (2, 'off-ADHD', 0.6454545454545455), (3, 'off-ADHD', 0.803921568627451), (4, 'off-ADHD', 0.6206896551724138), (5, 'off-ADHD', 0.2986111111111111), (6, 'off-ADHD', 0.7640449438202247), (7, 'off-ADHD', 0.4915254237288136), (8, 'off-ADHD', 0.5339805825242718), (9, 'off-ADHD', 0.49606299212598426), (10, 'off-ADHD', 0.5151515151515151), (11, 'off-ADHD', 0.5142857142857142), (12, 'off-ADHD', 0.8244274809160306), (13, 'off-ADHD', 0.8148148148148148), (14, 'off-ADHD', 0.68), (15, 'off-ADHD', 0.48226950354609927), (16, 'off-ADHD', 0.6544117647058824), (17, 'off-ADHD', 0.6097560975609756), (18, 'off-ADHD', 0.5390625), (19, 'off-ADHD', 0.3816793893129771), (20, 'off-ADHD', 0.6153846153846154), (21, 'off-ADHD', 0.8118811881188119), (22, 'off-ADHD', 0.5802469135802469), (23, 'off-ADHD', 0.7350427350427351), (24, 'off-ADHD', 0.6328125), (25, 'off-ADHD', 0.5538461538461539), (26, 'off-ADHD', 0.5390070921985816), (27, 'off-ADHD', 0.7346938775510204), (28, 'off-ADHD', 0.8134328358208955), (46, 'Ctrl', 0.5645161290322581), (47, 'Ctrl', 0.5620437956204379), (48, 'Ctrl', 0.5298507462686567), (49, 'Ctrl', 0.48201438848920863), (50, 'Ctrl', 0.5138888888888888), (51, 'Ctrl', 0.5071428571428571), (52, 'Ctrl', 0.8), (53, 'Ctrl', 0.572463768115942), (54, 'Ctrl', 0.4492753623188406), (55, 'Ctrl', 0.30935251798561153), (56, 'Ctrl', 0.4246575342465753), (57, 'Ctrl', 0.43410852713178294), (58, 'Ctrl', 0.43356643356643354), (59, 'Ctrl', 0.44755244755244755), (60, 'Ctrl', 0.2923076923076923), (61, 'Ctrl', 0.4318181818181818), (62, 'Ctrl', 0.0), (63, 'Ctrl', 0.35), (64, 'Ctrl', 0.656), (65, 'Ctrl', 0.3706293706293706), (66, 'Ctrl', 0.5227272727272727), (67, 'Ctrl', 0.4492753623188406)\""
      ]
     },
     "execution_count": 24,
     "metadata": {},
     "output_type": "execute_result"
    }
   ],
   "source": [
    "x"
   ]
  },
  {
   "cell_type": "code",
   "execution_count": 25,
   "metadata": {},
   "outputs": [],
   "source": [
    "predictions = x.split('), ')\n"
   ]
  },
  {
   "cell_type": "code",
   "execution_count": 26,
   "metadata": {},
   "outputs": [
    {
     "data": {
      "text/plain": [
       "[\"(1, 'off-ADHD', 0.7054263565891473\",\n",
       " \"(1, 'off-ADHD', 0.7131782945736435\",\n",
       " \"(2, 'off-ADHD', 0.6454545454545455\",\n",
       " \"(3, 'off-ADHD', 0.803921568627451\",\n",
       " \"(4, 'off-ADHD', 0.6206896551724138\",\n",
       " \"(5, 'off-ADHD', 0.2986111111111111\",\n",
       " \"(6, 'off-ADHD', 0.7640449438202247\",\n",
       " \"(7, 'off-ADHD', 0.4915254237288136\",\n",
       " \"(8, 'off-ADHD', 0.5339805825242718\",\n",
       " \"(9, 'off-ADHD', 0.49606299212598426\",\n",
       " \"(10, 'off-ADHD', 0.5151515151515151\",\n",
       " \"(11, 'off-ADHD', 0.5142857142857142\",\n",
       " \"(12, 'off-ADHD', 0.8244274809160306\",\n",
       " \"(13, 'off-ADHD', 0.8148148148148148\",\n",
       " \"(14, 'off-ADHD', 0.68\",\n",
       " \"(15, 'off-ADHD', 0.48226950354609927\",\n",
       " \"(16, 'off-ADHD', 0.6544117647058824\",\n",
       " \"(17, 'off-ADHD', 0.6097560975609756\",\n",
       " \"(18, 'off-ADHD', 0.5390625\",\n",
       " \"(19, 'off-ADHD', 0.3816793893129771\",\n",
       " \"(20, 'off-ADHD', 0.6153846153846154\",\n",
       " \"(21, 'off-ADHD', 0.8118811881188119\",\n",
       " \"(22, 'off-ADHD', 0.5802469135802469\",\n",
       " \"(23, 'off-ADHD', 0.7350427350427351\",\n",
       " \"(24, 'off-ADHD', 0.6328125\",\n",
       " \"(25, 'off-ADHD', 0.5538461538461539\",\n",
       " \"(26, 'off-ADHD', 0.5390070921985816\",\n",
       " \"(27, 'off-ADHD', 0.7346938775510204\",\n",
       " \"(28, 'off-ADHD', 0.8134328358208955\",\n",
       " \"(46, 'Ctrl', 0.5645161290322581\",\n",
       " \"(47, 'Ctrl', 0.5620437956204379\",\n",
       " \"(48, 'Ctrl', 0.5298507462686567\",\n",
       " \"(49, 'Ctrl', 0.48201438848920863\",\n",
       " \"(50, 'Ctrl', 0.5138888888888888\",\n",
       " \"(51, 'Ctrl', 0.5071428571428571\",\n",
       " \"(52, 'Ctrl', 0.8\",\n",
       " \"(53, 'Ctrl', 0.572463768115942\",\n",
       " \"(54, 'Ctrl', 0.4492753623188406\",\n",
       " \"(55, 'Ctrl', 0.30935251798561153\",\n",
       " \"(56, 'Ctrl', 0.4246575342465753\",\n",
       " \"(57, 'Ctrl', 0.43410852713178294\",\n",
       " \"(58, 'Ctrl', 0.43356643356643354\",\n",
       " \"(59, 'Ctrl', 0.44755244755244755\",\n",
       " \"(60, 'Ctrl', 0.2923076923076923\",\n",
       " \"(61, 'Ctrl', 0.4318181818181818\",\n",
       " \"(62, 'Ctrl', 0.0\",\n",
       " \"(63, 'Ctrl', 0.35\",\n",
       " \"(64, 'Ctrl', 0.656\",\n",
       " \"(65, 'Ctrl', 0.3706293706293706\",\n",
       " \"(66, 'Ctrl', 0.5227272727272727\",\n",
       " \"(67, 'Ctrl', 0.4492753623188406)\"]"
      ]
     },
     "execution_count": 26,
     "metadata": {},
     "output_type": "execute_result"
    }
   ],
   "source": [
    "predictions"
   ]
  },
  {
   "cell_type": "code",
   "execution_count": 28,
   "metadata": {},
   "outputs": [],
   "source": [
    "first_pred = predictions[0]"
   ]
  },
  {
   "cell_type": "code",
   "execution_count": 38,
   "metadata": {},
   "outputs": [
    {
     "data": {
      "text/plain": [
       "['1', \"'off-ADHD'\", '0.7054263565891473']"
      ]
     },
     "execution_count": 38,
     "metadata": {},
     "output_type": "execute_result"
    }
   ],
   "source": [
    "first_pred[1:].split(', ')"
   ]
  },
  {
   "cell_type": "code",
   "execution_count": 52,
   "metadata": {},
   "outputs": [],
   "source": [
    "subject = first_pred[1:].split(', ')[0]\n",
    "subj_class = first_pred[1:].split(', ')[1].replace(\"'\",\"\")\n",
    "ratio = float(first_pred[1:].split(', ')[2])"
   ]
  },
  {
   "cell_type": "code",
   "execution_count": 53,
   "metadata": {},
   "outputs": [
    {
     "data": {
      "text/plain": [
       "'1'"
      ]
     },
     "execution_count": 53,
     "metadata": {},
     "output_type": "execute_result"
    }
   ],
   "source": [
    "subject"
   ]
  },
  {
   "cell_type": "code",
   "execution_count": 54,
   "metadata": {},
   "outputs": [
    {
     "data": {
      "text/plain": [
       "'off-ADHD'"
      ]
     },
     "execution_count": 54,
     "metadata": {},
     "output_type": "execute_result"
    }
   ],
   "source": [
    "subj_class"
   ]
  },
  {
   "cell_type": "code",
   "execution_count": 55,
   "metadata": {},
   "outputs": [
    {
     "data": {
      "text/plain": [
       "0.7054263565891473"
      ]
     },
     "execution_count": 55,
     "metadata": {},
     "output_type": "execute_result"
    }
   ],
   "source": [
    "ratio"
   ]
  },
  {
   "cell_type": "code",
   "execution_count": 60,
   "metadata": {},
   "outputs": [],
   "source": [
    "subj_class_list = []"
   ]
  },
  {
   "cell_type": "code",
   "execution_count": 97,
   "metadata": {},
   "outputs": [],
   "source": [
    "subj_class_list = []\n",
    "preds_list_for_subjects = []\n",
    "subj_list = []\n",
    "\n",
    "for prediction in predictions:\n",
    "    subject = prediction[1:].split(', ')[0]\n",
    "    subj_class = prediction[1:].split(', ')[1].replace(\"'\",\"\")\n",
    "    ratio = float(prediction[1:].split(', ')[2].replace(\")\",\"\"))\n",
    "    subj_list.append(subject)\n",
    "    subj_class_list.append(subj_class)\n",
    "    preds_list_for_subjects.append(ratio)"
   ]
  },
  {
   "cell_type": "code",
   "execution_count": 65,
   "metadata": {},
   "outputs": [
    {
     "data": {
      "text/plain": [
       "[0.7054263565891473,\n",
       " 0.7131782945736435,\n",
       " 0.6454545454545455,\n",
       " 0.803921568627451,\n",
       " 0.6206896551724138,\n",
       " 0.2986111111111111,\n",
       " 0.7640449438202247,\n",
       " 0.4915254237288136,\n",
       " 0.5339805825242718,\n",
       " 0.49606299212598426,\n",
       " 0.5151515151515151,\n",
       " 0.5142857142857142,\n",
       " 0.8244274809160306,\n",
       " 0.8148148148148148,\n",
       " 0.68,\n",
       " 0.48226950354609927,\n",
       " 0.6544117647058824,\n",
       " 0.6097560975609756,\n",
       " 0.5390625,\n",
       " 0.3816793893129771,\n",
       " 0.6153846153846154,\n",
       " 0.8118811881188119,\n",
       " 0.5802469135802469,\n",
       " 0.7350427350427351,\n",
       " 0.6328125,\n",
       " 0.5538461538461539,\n",
       " 0.5390070921985816,\n",
       " 0.7346938775510204,\n",
       " 0.8134328358208955,\n",
       " 0.5645161290322581,\n",
       " 0.5620437956204379,\n",
       " 0.5298507462686567,\n",
       " 0.48201438848920863,\n",
       " 0.5138888888888888,\n",
       " 0.5071428571428571,\n",
       " 0.8,\n",
       " 0.572463768115942,\n",
       " 0.4492753623188406,\n",
       " 0.30935251798561153,\n",
       " 0.4246575342465753,\n",
       " 0.43410852713178294,\n",
       " 0.43356643356643354,\n",
       " 0.44755244755244755,\n",
       " 0.2923076923076923,\n",
       " 0.4318181818181818,\n",
       " 0.0,\n",
       " 0.35,\n",
       " 0.656,\n",
       " 0.3706293706293706,\n",
       " 0.5227272727272727,\n",
       " 0.4492753623188406]"
      ]
     },
     "execution_count": 65,
     "metadata": {},
     "output_type": "execute_result"
    }
   ],
   "source": []
  },
  {
   "cell_type": "code",
   "execution_count": 63,
   "metadata": {},
   "outputs": [],
   "source": [
    "y = subj_class_list"
   ]
  },
  {
   "cell_type": "code",
   "execution_count": null,
   "metadata": {},
   "outputs": [],
   "source": [
    "from sklearn import metrics"
   ]
  },
  {
   "cell_type": "code",
   "execution_count": 68,
   "metadata": {},
   "outputs": [],
   "source": [
    "y = np.array(y)\n",
    "pred = np.array(preds_list_for_subjects)"
   ]
  },
  {
   "cell_type": "code",
   "execution_count": 69,
   "metadata": {},
   "outputs": [],
   "source": [
    "fpr, tpr, thresholds = metrics.roc_curve(y, pred, pos_label='off-ADHD')"
   ]
  },
  {
   "cell_type": "code",
   "execution_count": 81,
   "metadata": {},
   "outputs": [],
   "source": [
    "roc_auc = metrics.auc(fpr, tpr)"
   ]
  },
  {
   "cell_type": "code",
   "execution_count": 79,
   "metadata": {},
   "outputs": [],
   "source": [
    "import matplotlib.pyplot as plt\n",
    "%matplotlib inline"
   ]
  },
  {
   "cell_type": "code",
   "execution_count": 107,
   "metadata": {},
   "outputs": [
    {
     "data": {
      "image/png": "[encoded data removed]",
      "text/plain": [
       "<Figure size 432x288 with 1 Axes>"
      ]
     },
     "metadata": {
      "needs_background": "light"
     },
     "output_type": "display_data"
    }
   ],
   "source": [
    "plt.figure()\n",
    "lw = 2\n",
    "plt.plot(fpr, tpr, color='darkorange',\n",
    "         lw=lw, label='ROC curve (area = %0.2f)' % roc_auc)\n",
    "plt.plot([0, 1], [0, 1], color='navy', lw=lw, linestyle='--')\n",
    "plt.xlim([0.0, 1.0])\n",
    "plt.ylim([0.0, 1.05])\n",
    "plt.xlabel('False Positive Rate')\n",
    "plt.ylabel('True Positive Rate')\n",
    "plt.title(\"Receiver Operating Characteristic for Fraction of Trials: 'off-ADHD'\")\n",
    "plt.legend(loc=\"lower right\")\n",
    "plt.show()"
   ]
  },
  {
   "cell_type": "code",
   "execution_count": 98,
   "metadata": {},
   "outputs": [],
   "source": [
    "subj_list = subj_list[1:]\n",
    "subj_class_list = subj_class_list[1:]\n",
    "preds_list_for_subjects = preds_list_for_subjects[1:]"
   ]
  },
  {
   "cell_type": "code",
   "execution_count": 99,
   "metadata": {},
   "outputs": [],
   "source": [
    "subject_list_real = []\n",
    "for subject in subj_list:\n",
    "    if int(subject)>28:\n",
    "        subject_list_real.append(int(subject)-17)\n",
    "    else:\n",
    "        subject_list_real.append(int(subject))\n",
    "        "
   ]
  },
  {
   "cell_type": "code",
   "execution_count": 100,
   "metadata": {},
   "outputs": [
    {
     "data": {
      "text/plain": [
       "[1,\n",
       " 2,\n",
       " 3,\n",
       " 4,\n",
       " 5,\n",
       " 6,\n",
       " 7,\n",
       " 8,\n",
       " 9,\n",
       " 10,\n",
       " 11,\n",
       " 12,\n",
       " 13,\n",
       " 14,\n",
       " 15,\n",
       " 16,\n",
       " 17,\n",
       " 18,\n",
       " 19,\n",
       " 20,\n",
       " 21,\n",
       " 22,\n",
       " 23,\n",
       " 24,\n",
       " 25,\n",
       " 26,\n",
       " 27,\n",
       " 28,\n",
       " 29,\n",
       " 30,\n",
       " 31,\n",
       " 32,\n",
       " 33,\n",
       " 34,\n",
       " 35,\n",
       " 36,\n",
       " 37,\n",
       " 38,\n",
       " 39,\n",
       " 40,\n",
       " 41,\n",
       " 42,\n",
       " 43,\n",
       " 44,\n",
       " 45,\n",
       " 46,\n",
       " 47,\n",
       " 48,\n",
       " 49,\n",
       " 50]"
      ]
     },
     "execution_count": 100,
     "metadata": {},
     "output_type": "execute_result"
    }
   ],
   "source": [
    "subject_list_real"
   ]
  },
  {
   "cell_type": "code",
   "execution_count": 101,
   "metadata": {},
   "outputs": [],
   "source": [
    "from pandas import DataFrame\n",
    "df = DataFrame({'Subjects': subject_list_real, 'Class': subj_class_list, 'Ratio: ADHD:All Predictions':preds_list_for_subjects})\n"
   ]
  },
  {
   "cell_type": "code",
   "execution_count": 102,
   "metadata": {},
   "outputs": [
    {
     "data": {
      "text/html": [
       "<div>\n",
       "<style scoped>\n",
       "    .dataframe tbody tr th:only-of-type {\n",
       "        vertical-align: middle;\n",
       "    }\n",
       "\n",
       "    .dataframe tbody tr th {\n",
       "        vertical-align: top;\n",
       "    }\n",
       "\n",
       "    .dataframe thead th {\n",
       "        text-align: right;\n",
       "    }\n",
       "</style>\n",
       "<table border=\"1\" class=\"dataframe\">\n",
       "  <thead>\n",
       "    <tr style=\"text-align: right;\">\n",
       "      <th></th>\n",
       "      <th>Subjects</th>\n",
       "      <th>Class</th>\n",
       "      <th>Ratio: ADHD:All Predictions</th>\n",
       "    </tr>\n",
       "  </thead>\n",
       "  <tbody>\n",
       "    <tr>\n",
       "      <th>0</th>\n",
       "      <td>1</td>\n",
       "      <td>off-ADHD</td>\n",
       "      <td>0.713178</td>\n",
       "    </tr>\n",
       "    <tr>\n",
       "      <th>1</th>\n",
       "      <td>2</td>\n",
       "      <td>off-ADHD</td>\n",
       "      <td>0.645455</td>\n",
       "    </tr>\n",
       "    <tr>\n",
       "      <th>2</th>\n",
       "      <td>3</td>\n",
       "      <td>off-ADHD</td>\n",
       "      <td>0.803922</td>\n",
       "    </tr>\n",
       "    <tr>\n",
       "      <th>3</th>\n",
       "      <td>4</td>\n",
       "      <td>off-ADHD</td>\n",
       "      <td>0.620690</td>\n",
       "    </tr>\n",
       "    <tr>\n",
       "      <th>4</th>\n",
       "      <td>5</td>\n",
       "      <td>off-ADHD</td>\n",
       "      <td>0.298611</td>\n",
       "    </tr>\n",
       "    <tr>\n",
       "      <th>5</th>\n",
       "      <td>6</td>\n",
       "      <td>off-ADHD</td>\n",
       "      <td>0.764045</td>\n",
       "    </tr>\n",
       "    <tr>\n",
       "      <th>6</th>\n",
       "      <td>7</td>\n",
       "      <td>off-ADHD</td>\n",
       "      <td>0.491525</td>\n",
       "    </tr>\n",
       "    <tr>\n",
       "      <th>7</th>\n",
       "      <td>8</td>\n",
       "      <td>off-ADHD</td>\n",
       "      <td>0.533981</td>\n",
       "    </tr>\n",
       "    <tr>\n",
       "      <th>8</th>\n",
       "      <td>9</td>\n",
       "      <td>off-ADHD</td>\n",
       "      <td>0.496063</td>\n",
       "    </tr>\n",
       "    <tr>\n",
       "      <th>9</th>\n",
       "      <td>10</td>\n",
       "      <td>off-ADHD</td>\n",
       "      <td>0.515152</td>\n",
       "    </tr>\n",
       "    <tr>\n",
       "      <th>10</th>\n",
       "      <td>11</td>\n",
       "      <td>off-ADHD</td>\n",
       "      <td>0.514286</td>\n",
       "    </tr>\n",
       "    <tr>\n",
       "      <th>11</th>\n",
       "      <td>12</td>\n",
       "      <td>off-ADHD</td>\n",
       "      <td>0.824427</td>\n",
       "    </tr>\n",
       "    <tr>\n",
       "      <th>12</th>\n",
       "      <td>13</td>\n",
       "      <td>off-ADHD</td>\n",
       "      <td>0.814815</td>\n",
       "    </tr>\n",
       "    <tr>\n",
       "      <th>13</th>\n",
       "      <td>14</td>\n",
       "      <td>off-ADHD</td>\n",
       "      <td>0.680000</td>\n",
       "    </tr>\n",
       "    <tr>\n",
       "      <th>14</th>\n",
       "      <td>15</td>\n",
       "      <td>off-ADHD</td>\n",
       "      <td>0.482270</td>\n",
       "    </tr>\n",
       "    <tr>\n",
       "      <th>15</th>\n",
       "      <td>16</td>\n",
       "      <td>off-ADHD</td>\n",
       "      <td>0.654412</td>\n",
       "    </tr>\n",
       "    <tr>\n",
       "      <th>16</th>\n",
       "      <td>17</td>\n",
       "      <td>off-ADHD</td>\n",
       "      <td>0.609756</td>\n",
       "    </tr>\n",
       "    <tr>\n",
       "      <th>17</th>\n",
       "      <td>18</td>\n",
       "      <td>off-ADHD</td>\n",
       "      <td>0.539062</td>\n",
       "    </tr>\n",
       "    <tr>\n",
       "      <th>18</th>\n",
       "      <td>19</td>\n",
       "      <td>off-ADHD</td>\n",
       "      <td>0.381679</td>\n",
       "    </tr>\n",
       "    <tr>\n",
       "      <th>19</th>\n",
       "      <td>20</td>\n",
       "      <td>off-ADHD</td>\n",
       "      <td>0.615385</td>\n",
       "    </tr>\n",
       "    <tr>\n",
       "      <th>20</th>\n",
       "      <td>21</td>\n",
       "      <td>off-ADHD</td>\n",
       "      <td>0.811881</td>\n",
       "    </tr>\n",
       "    <tr>\n",
       "      <th>21</th>\n",
       "      <td>22</td>\n",
       "      <td>off-ADHD</td>\n",
       "      <td>0.580247</td>\n",
       "    </tr>\n",
       "    <tr>\n",
       "      <th>22</th>\n",
       "      <td>23</td>\n",
       "      <td>off-ADHD</td>\n",
       "      <td>0.735043</td>\n",
       "    </tr>\n",
       "    <tr>\n",
       "      <th>23</th>\n",
       "      <td>24</td>\n",
       "      <td>off-ADHD</td>\n",
       "      <td>0.632812</td>\n",
       "    </tr>\n",
       "    <tr>\n",
       "      <th>24</th>\n",
       "      <td>25</td>\n",
       "      <td>off-ADHD</td>\n",
       "      <td>0.553846</td>\n",
       "    </tr>\n",
       "    <tr>\n",
       "      <th>25</th>\n",
       "      <td>26</td>\n",
       "      <td>off-ADHD</td>\n",
       "      <td>0.539007</td>\n",
       "    </tr>\n",
       "    <tr>\n",
       "      <th>26</th>\n",
       "      <td>27</td>\n",
       "      <td>off-ADHD</td>\n",
       "      <td>0.734694</td>\n",
       "    </tr>\n",
       "    <tr>\n",
       "      <th>27</th>\n",
       "      <td>28</td>\n",
       "      <td>off-ADHD</td>\n",
       "      <td>0.813433</td>\n",
       "    </tr>\n",
       "    <tr>\n",
       "      <th>28</th>\n",
       "      <td>29</td>\n",
       "      <td>Ctrl</td>\n",
       "      <td>0.564516</td>\n",
       "    </tr>\n",
       "    <tr>\n",
       "      <th>29</th>\n",
       "      <td>30</td>\n",
       "      <td>Ctrl</td>\n",
       "      <td>0.562044</td>\n",
       "    </tr>\n",
       "    <tr>\n",
       "      <th>30</th>\n",
       "      <td>31</td>\n",
       "      <td>Ctrl</td>\n",
       "      <td>0.529851</td>\n",
       "    </tr>\n",
       "    <tr>\n",
       "      <th>31</th>\n",
       "      <td>32</td>\n",
       "      <td>Ctrl</td>\n",
       "      <td>0.482014</td>\n",
       "    </tr>\n",
       "    <tr>\n",
       "      <th>32</th>\n",
       "      <td>33</td>\n",
       "      <td>Ctrl</td>\n",
       "      <td>0.513889</td>\n",
       "    </tr>\n",
       "    <tr>\n",
       "      <th>33</th>\n",
       "      <td>34</td>\n",
       "      <td>Ctrl</td>\n",
       "      <td>0.507143</td>\n",
       "    </tr>\n",
       "    <tr>\n",
       "      <th>34</th>\n",
       "      <td>35</td>\n",
       "      <td>Ctrl</td>\n",
       "      <td>0.800000</td>\n",
       "    </tr>\n",
       "    <tr>\n",
       "      <th>35</th>\n",
       "      <td>36</td>\n",
       "      <td>Ctrl</td>\n",
       "      <td>0.572464</td>\n",
       "    </tr>\n",
       "    <tr>\n",
       "      <th>36</th>\n",
       "      <td>37</td>\n",
       "      <td>Ctrl</td>\n",
       "      <td>0.449275</td>\n",
       "    </tr>\n",
       "    <tr>\n",
       "      <th>37</th>\n",
       "      <td>38</td>\n",
       "      <td>Ctrl</td>\n",
       "      <td>0.309353</td>\n",
       "    </tr>\n",
       "    <tr>\n",
       "      <th>38</th>\n",
       "      <td>39</td>\n",
       "      <td>Ctrl</td>\n",
       "      <td>0.424658</td>\n",
       "    </tr>\n",
       "    <tr>\n",
       "      <th>39</th>\n",
       "      <td>40</td>\n",
       "      <td>Ctrl</td>\n",
       "      <td>0.434109</td>\n",
       "    </tr>\n",
       "    <tr>\n",
       "      <th>40</th>\n",
       "      <td>41</td>\n",
       "      <td>Ctrl</td>\n",
       "      <td>0.433566</td>\n",
       "    </tr>\n",
       "    <tr>\n",
       "      <th>41</th>\n",
       "      <td>42</td>\n",
       "      <td>Ctrl</td>\n",
       "      <td>0.447552</td>\n",
       "    </tr>\n",
       "    <tr>\n",
       "      <th>42</th>\n",
       "      <td>43</td>\n",
       "      <td>Ctrl</td>\n",
       "      <td>0.292308</td>\n",
       "    </tr>\n",
       "    <tr>\n",
       "      <th>43</th>\n",
       "      <td>44</td>\n",
       "      <td>Ctrl</td>\n",
       "      <td>0.431818</td>\n",
       "    </tr>\n",
       "    <tr>\n",
       "      <th>44</th>\n",
       "      <td>45</td>\n",
       "      <td>Ctrl</td>\n",
       "      <td>0.000000</td>\n",
       "    </tr>\n",
       "    <tr>\n",
       "      <th>45</th>\n",
       "      <td>46</td>\n",
       "      <td>Ctrl</td>\n",
       "      <td>0.350000</td>\n",
       "    </tr>\n",
       "    <tr>\n",
       "      <th>46</th>\n",
       "      <td>47</td>\n",
       "      <td>Ctrl</td>\n",
       "      <td>0.656000</td>\n",
       "    </tr>\n",
       "    <tr>\n",
       "      <th>47</th>\n",
       "      <td>48</td>\n",
       "      <td>Ctrl</td>\n",
       "      <td>0.370629</td>\n",
       "    </tr>\n",
       "    <tr>\n",
       "      <th>48</th>\n",
       "      <td>49</td>\n",
       "      <td>Ctrl</td>\n",
       "      <td>0.522727</td>\n",
       "    </tr>\n",
       "    <tr>\n",
       "      <th>49</th>\n",
       "      <td>50</td>\n",
       "      <td>Ctrl</td>\n",
       "      <td>0.449275</td>\n",
       "    </tr>\n",
       "  </tbody>\n",
       "</table>\n",
       "</div>"
      ],
      "text/plain": [
       "    Subjects     Class  Ratio: ADHD:All Predictions\n",
       "0          1  off-ADHD                     0.713178\n",
       "1          2  off-ADHD                     0.645455\n",
       "2          3  off-ADHD                     0.803922\n",
       "3          4  off-ADHD                     0.620690\n",
       "4          5  off-ADHD                     0.298611\n",
       "5          6  off-ADHD                     0.764045\n",
       "6          7  off-ADHD                     0.491525\n",
       "7          8  off-ADHD                     0.533981\n",
       "8          9  off-ADHD                     0.496063\n",
       "9         10  off-ADHD                     0.515152\n",
       "10        11  off-ADHD                     0.514286\n",
       "11        12  off-ADHD                     0.824427\n",
       "12        13  off-ADHD                     0.814815\n",
       "13        14  off-ADHD                     0.680000\n",
       "14        15  off-ADHD                     0.482270\n",
       "15        16  off-ADHD                     0.654412\n",
       "16        17  off-ADHD                     0.609756\n",
       "17        18  off-ADHD                     0.539062\n",
       "18        19  off-ADHD                     0.381679\n",
       "19        20  off-ADHD                     0.615385\n",
       "20        21  off-ADHD                     0.811881\n",
       "21        22  off-ADHD                     0.580247\n",
       "22        23  off-ADHD                     0.735043\n",
       "23        24  off-ADHD                     0.632812\n",
       "24        25  off-ADHD                     0.553846\n",
       "25        26  off-ADHD                     0.539007\n",
       "26        27  off-ADHD                     0.734694\n",
       "27        28  off-ADHD                     0.813433\n",
       "28        29      Ctrl                     0.564516\n",
       "29        30      Ctrl                     0.562044\n",
       "30        31      Ctrl                     0.529851\n",
       "31        32      Ctrl                     0.482014\n",
       "32        33      Ctrl                     0.513889\n",
       "33        34      Ctrl                     0.507143\n",
       "34        35      Ctrl                     0.800000\n",
       "35        36      Ctrl                     0.572464\n",
       "36        37      Ctrl                     0.449275\n",
       "37        38      Ctrl                     0.309353\n",
       "38        39      Ctrl                     0.424658\n",
       "39        40      Ctrl                     0.434109\n",
       "40        41      Ctrl                     0.433566\n",
       "41        42      Ctrl                     0.447552\n",
       "42        43      Ctrl                     0.292308\n",
       "43        44      Ctrl                     0.431818\n",
       "44        45      Ctrl                     0.000000\n",
       "45        46      Ctrl                     0.350000\n",
       "46        47      Ctrl                     0.656000\n",
       "47        48      Ctrl                     0.370629\n",
       "48        49      Ctrl                     0.522727\n",
       "49        50      Ctrl                     0.449275"
      ]
     },
     "execution_count": 102,
     "metadata": {},
     "output_type": "execute_result"
    }
   ],
   "source": [
    "df"
   ]
  },
  {
   "cell_type": "code",
   "execution_count": 104,
   "metadata": {},
   "outputs": [
    {
     "ename": "ModuleNotFoundError",
     "evalue": "No module named 'openpyxl'",
     "output_type": "error",
     "traceback": [
      "\u001b[0;31m---------------------------------------------------------------------------\u001b[0m",
      "\u001b[0;31mModuleNotFoundError\u001b[0m                       Traceback (most recent call last)",
      "\u001b[0;32m<ipython-input-104-9531a480308f>\u001b[0m in \u001b[0;36m<module>\u001b[0;34m\u001b[0m\n\u001b[0;32m----> 1\u001b[0;31m \u001b[0;32mimport\u001b[0m \u001b[0mopenpyxl\u001b[0m\u001b[0;34m\u001b[0m\u001b[0;34m\u001b[0m\u001b[0m\n\u001b[0m",
      "\u001b[0;31mModuleNotFoundError\u001b[0m: No module named 'openpyxl'"
     ]
    }
   ],
   "source": [
    "import openpyxl "
   ]
  },
  {
   "cell_type": "code",
   "execution_count": 105,
   "metadata": {},
   "outputs": [],
   "source": [
    "df.to_excel('InTheBlind/subj_class_predsratio_clean.xlsx', sheet_name='sheet1', index=False)"
   ]
  },
  {
   "cell_type": "code",
   "execution_count": null,
   "metadata": {},
   "outputs": [],
   "source": []
  }
 ],
 "metadata": {
  "kernelspec": {
   "display_name": "pytorch_fastai",
   "language": "python",
   "name": "python3"
  },
  "language_info": {
   "codemirror_mode": {
    "name": "ipython",
    "version": 3
   },
   "file_extension": ".py",
   "mimetype": "text/x-python",
   "name": "python",
   "nbconvert_exporter": "python",
   "pygments_lexer": "ipython3",
   "version": "3.7.1"
  },
  "varInspector": {
   "cols": {
    "lenName": 16,
    "lenType": 16,
    "lenVar": 40
   },
   "kernels_config": {
    "python": {
     "delete_cmd_postfix": "",
     "delete_cmd_prefix": "del ",
     "library": "var_list.py",
     "varRefreshCmd": "print(var_dic_list())"
    },
    "r": {
     "delete_cmd_postfix": ") ",
     "delete_cmd_prefix": "rm(",
     "library": "var_list.r",
     "varRefreshCmd": "cat(var_dic_list()) "
    }
   },
   "types_to_exclude": [
    "module",
    "function",
    "builtin_function_or_method",
    "instance",
    "_Feature"
   ],
   "window_display": false
  }
 },
 "nbformat": 4,
 "nbformat_minor": 2
}
