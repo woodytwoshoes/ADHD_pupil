{
 "cells": [
  {
   "cell_type": "code",
   "execution_count": 1,
   "metadata": {},
   "outputs": [],
   "source": [
    "import numpy as np\n",
    "import pathlib\n",
    "import os\n",
    "import matplotlib.pyplot as plt"
   ]
  },
  {
   "cell_type": "code",
   "execution_count": 2,
   "metadata": {},
   "outputs": [],
   "source": [
    "def interpolate_gaps(values, limit=None):\n",
    "    \"\"\"\n",
    "    Fill gaps using linear interpolation, optionally only fill gaps up to a\n",
    "    size of `limit`.\n",
    "    \"\"\"\n",
    "    values = np.asarray(values)\n",
    "    i = np.arange(values.size)\n",
    "    valid = np.isfinite(values)\n",
    "    filled = np.interp(i, i[valid], values[valid])\n",
    "\n",
    "    if limit is not None:\n",
    "        invalid = ~valid\n",
    "        for n in range(1, limit+1):\n",
    "            invalid[:-n] &= invalid[n:]\n",
    "        filled[invalid] = np.nan\n",
    "\n",
    "    return filled"
   ]
  },
  {
   "cell_type": "markdown",
   "metadata": {},
   "source": [
    "destination = \"Pupil_Z_csvfiles_interpol_slicedfac100/\"\n",
    "\n",
    "finalfileslist = sorted(os.listdir(destination))\n",
    "\n",
    "len(finalfileslist)"
   ]
  },
  {
   "cell_type": "code",
   "execution_count": 3,
   "metadata": {},
   "outputs": [],
   "source": [
    "root = \"Pupil_Z_matfiles/\""
   ]
  },
  {
   "cell_type": "code",
   "execution_count": 4,
   "metadata": {},
   "outputs": [],
   "source": [
    "i = 3"
   ]
  },
  {
   "cell_type": "code",
   "execution_count": 5,
   "metadata": {},
   "outputs": [],
   "source": [
    "fileslist = sorted(os.listdir(root))\n"
   ]
  },
  {
   "cell_type": "code",
   "execution_count": 6,
   "metadata": {},
   "outputs": [
    {
     "data": {
      "text/plain": [
       "'10_103_off-ADHD'"
      ]
     },
     "execution_count": 6,
     "metadata": {},
     "output_type": "execute_result"
    }
   ],
   "source": [
    "stem = fileslist[i]\n",
    "stem"
   ]
  },
  {
   "cell_type": "code",
   "execution_count": 7,
   "metadata": {},
   "outputs": [],
   "source": [
    "filename = root + stem"
   ]
  },
  {
   "cell_type": "code",
   "execution_count": 8,
   "metadata": {},
   "outputs": [
    {
     "data": {
      "text/plain": [
       "'Pupil_Z_matfiles/10_103_off-ADHD'"
      ]
     },
     "execution_count": 8,
     "metadata": {},
     "output_type": "execute_result"
    }
   ],
   "source": [
    "filename"
   ]
  },
  {
   "cell_type": "code",
   "execution_count": 9,
   "metadata": {},
   "outputs": [],
   "source": [
    "pupil_time_series = np.genfromtxt(filename, delimiter=',')"
   ]
  },
  {
   "cell_type": "code",
   "execution_count": 10,
   "metadata": {},
   "outputs": [
    {
     "data": {
      "text/plain": [
       "array([-1.9296 , -1.9289 , -1.9281 , ...,  0.44192,  0.44514,  0.44833])"
      ]
     },
     "execution_count": 10,
     "metadata": {},
     "output_type": "execute_result"
    }
   ],
   "source": [
    "pupil_time_series"
   ]
  },
  {
   "cell_type": "code",
   "execution_count": 11,
   "metadata": {},
   "outputs": [],
   "source": [
    "pupil_time_series_interpol = interpolate_gaps(pupil_time_series, limit=None)\n"
   ]
  },
  {
   "cell_type": "code",
   "execution_count": 12,
   "metadata": {},
   "outputs": [],
   "source": [
    "pupil_time_series_interpol_sliced = pupil_time_series_interpol[::100]"
   ]
  },
  {
   "cell_type": "code",
   "execution_count": 13,
   "metadata": {},
   "outputs": [
    {
     "data": {
      "text/plain": [
       "80"
      ]
     },
     "execution_count": 13,
     "metadata": {},
     "output_type": "execute_result"
    }
   ],
   "source": [
    "len(pupil_time_series_interpol_sliced)"
   ]
  },
  {
   "cell_type": "code",
   "execution_count": 99,
   "metadata": {},
   "outputs": [],
   "source": [
    "pupil_time_series_interpol_sliced_array = np.asarray(pupil_time_series_interpol_sliced)\n",
    "np.savetxt(\"Pupil_Z_csvfiles_interpol_slicedfac100/\"+\"interpol_sliced100_\"+stem+\".csv\", pupil_time_series_interpol_sliced, delimiter=\",\")"
   ]
  },
  {
   "cell_type": "code",
   "execution_count": null,
   "metadata": {},
   "outputs": [],
   "source": []
  },
  {
   "cell_type": "code",
   "execution_count": 100,
   "metadata": {},
   "outputs": [],
   "source": [
    "pupil_time_series_check = np.genfromtxt(\"Pupil_Z_csvfiles_interpol_slicedfac100/interpol_sliced100_10_103_off-ADHD.csv\", delimiter=',')"
   ]
  },
  {
   "cell_type": "code",
   "execution_count": 101,
   "metadata": {},
   "outputs": [
    {
     "data": {
      "text/plain": [
       "array([-1.9296  , -1.6688  , -1.2959  , -1.0288  , -0.66656 , -0.24877 ,\n",
       "        0.086529,  0.48196 ,  1.0992  ,  1.3122  ,  1.2054  ,  1.3956  ,\n",
       "        1.4769  ,  1.2254  ,  0.8697  ,  0.50253 ,  0.36455 ,  0.44623 ,\n",
       "        0.45713 ,  0.41944 ,  0.61515 ,  1.0559  ,  1.3955  ,  1.5326  ,\n",
       "        1.2239  ,  0.38131 , -0.54423 , -1.1861  , -1.5028  , -1.5084  ,\n",
       "       -1.354   , -1.1056  , -0.81598 , -0.54441 , -0.32579 , -0.029082,\n",
       "        0.45211 ,  0.92365 ,  1.3185  ,  1.5131  ,  1.2133  ,  0.51522 ,\n",
       "       -0.079348, -0.44579 , -0.53259 , -0.34795 , -0.18398 , -0.16298 ,\n",
       "       -0.25087 , -0.45815 , -0.65581 , -0.82864 , -1.0467  , -1.1912  ,\n",
       "       -1.1578  , -0.98794 , -0.80417 , -0.73805 , -0.74484 , -0.70032 ,\n",
       "       -0.56459 , -0.38033 , -0.15592 ,  0.14852 ,  0.54665 ,  0.90009 ,\n",
       "        1.0525  ,  1.0619  ,  0.98155 ,  0.95056 ,  1.18    ,  1.4611  ,\n",
       "        1.6429  ,  1.7813  ,  1.7758  ,  1.5657  ,  1.212   ,  0.71728 ,\n",
       "        0.18928 , -0.1852  , -0.61697 , -1.0197  , -0.90865 , -0.45148 ,\n",
       "       -0.22846 , -0.33795 , -0.79214 , -1.4691  , -2.0025  , -2.2262  ,\n",
       "       -2.0807  , -1.6546  , -1.0999  , -0.41487 ,  0.21922 ,  0.64718 ,\n",
       "        0.57996 ,  0.19035 , -0.025222,  0.13912 ])"
      ]
     },
     "execution_count": 101,
     "metadata": {},
     "output_type": "execute_result"
    }
   ],
   "source": [
    "pupil_time_series_check"
   ]
  },
  {
   "cell_type": "code",
   "execution_count": 102,
   "metadata": {},
   "outputs": [
    {
     "data": {
      "text/plain": [
       "[<matplotlib.lines.Line2D at 0x7fac76e28a90>]"
      ]
     },
     "execution_count": 102,
     "metadata": {},
     "output_type": "execute_result"
    },
    {
     "data": {
      "image/png": "[encoded data removed]",
      "text/plain": [
       "<Figure size 432x288 with 1 Axes>"
      ]
     },
     "metadata": {
      "needs_background": "light"
     },
     "output_type": "display_data"
    }
   ],
   "source": [
    "plt.plot(pupil_time_series_check)"
   ]
  },
  {
   "cell_type": "code",
   "execution_count": 14,
   "metadata": {},
   "outputs": [
    {
     "data": {
      "text/plain": [
       "[<matplotlib.lines.Line2D at 0x7ff8615b7438>]"
      ]
     },
     "execution_count": 14,
     "metadata": {},
     "output_type": "execute_result"
    },
    {
     "data": {
      "image/png": "[encoded data removed]",
      "text/plain": [
       "<Figure size 432x288 with 1 Axes>"
      ]
     },
     "metadata": {
      "needs_background": "light"
     },
     "output_type": "display_data"
    }
   ],
   "source": [
    "plt.plot(pupil_time_series_interpol_sliced)"
   ]
  },
  {
   "cell_type": "code",
   "execution_count": null,
   "metadata": {},
   "outputs": [],
   "source": []
  }
 ],
 "metadata": {
  "kernelspec": {
   "display_name": "pytorch_fastai",
   "language": "python",
   "name": "python3"
  },
  "language_info": {
   "codemirror_mode": {
    "name": "ipython",
    "version": 3
   },
   "file_extension": ".py",
   "mimetype": "text/x-python",
   "name": "python",
   "nbconvert_exporter": "python",
   "pygments_lexer": "ipython3",
   "version": "3.7.1"
  },
  "varInspector": {
   "cols": {
    "lenName": 16,
    "lenType": 16,
    "lenVar": 40
   },
   "kernels_config": {
    "python": {
     "delete_cmd_postfix": "",
     "delete_cmd_prefix": "del ",
     "library": "var_list.py",
     "varRefreshCmd": "print(var_dic_list())"
    },
    "r": {
     "delete_cmd_postfix": ") ",
     "delete_cmd_prefix": "rm(",
     "library": "var_list.r",
     "varRefreshCmd": "cat(var_dic_list()) "
    }
   },
   "types_to_exclude": [
    "module",
    "function",
    "builtin_function_or_method",
    "instance",
    "_Feature"
   ],
   "window_display": false
  }
 },
 "nbformat": 4,
 "nbformat_minor": 2
}
